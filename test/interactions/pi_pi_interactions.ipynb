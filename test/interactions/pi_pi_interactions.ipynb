{
 "cells": [
  {
   "cell_type": "code",
   "execution_count": 12,
   "metadata": {},
   "outputs": [],
   "source": [
    "from xbpy import rdutil\n",
    "from xbpy import AromaticProximityReceptor, AromaticProximityLigand\n",
    "from xbpy import is_planar\n",
    "import pymolviz as pmv\n",
    "import numpy as np"
   ]
  },
  {
   "cell_type": "code",
   "execution_count": 13,
   "metadata": {},
   "outputs": [],
   "source": [
    "ligand = next(rdutil.read_molecules(\"aromatic_ligand.pdb\"))\n",
    "receptor = next(rdutil.read_molecules(\"aromatic_receptor.pdb\"))"
   ]
  },
  {
   "cell_type": "code",
   "execution_count": 14,
   "metadata": {},
   "outputs": [],
   "source": [
    "aromaticity_receptor = AromaticProximityReceptor(receptor)"
   ]
  },
  {
   "cell_type": "code",
   "execution_count": 15,
   "metadata": {},
   "outputs": [],
   "source": [
    "aromaticity_ligand = AromaticProximityLigand(ligand)"
   ]
  },
  {
   "cell_type": "code",
   "execution_count": 16,
   "metadata": {},
   "outputs": [
    {
     "name": "stdout",
     "output_type": "stream",
     "text": [
      "ColorMap.py:180 Infered color [0.46810257 0.66994925 0.19289587] and alpha 1 from value (0.46810256823426105, 0.6699492535792404, 0.1928958739904499)\n"
     ]
    }
   ],
   "source": [
    "pmv.Points(aromaticity_receptor.query_positions, name = \"receptor_aromaticity_centers\").write(\"receptor_aromaticity_centers.py\")"
   ]
  },
  {
   "cell_type": "code",
   "execution_count": 17,
   "metadata": {},
   "outputs": [
    {
     "name": "stdout",
     "output_type": "stream",
     "text": [
      "ColorMap.py:180 Infered color [0.21044754 0.67731051 0.64339412] and alpha 1 from value (0.21044753832183283, 0.6773105080456748, 0.6433941168468681)\n"
     ]
    }
   ],
   "source": [
    "pmv.Points(aromaticity_ligand.query_positions, name = \"ligand_aromaticity_centers\").write(\"ligand_aromaticity_centers.py\")"
   ]
  },
  {
   "cell_type": "code",
   "execution_count": 18,
   "metadata": {},
   "outputs": [],
   "source": [
    "interactions = aromaticity_receptor.detect_interactions(aromaticity_ligand)"
   ]
  },
  {
   "cell_type": "code",
   "execution_count": 21,
   "metadata": {},
   "outputs": [
    {
     "name": "stdout",
     "output_type": "stream",
     "text": [
      "ColorMap.py:180 Infered color [0.80049362 0.47703364 0.95795472] and alpha 1 from value (0.8004936186423958, 0.47703363533737203, 0.9579547196007522)\n"
     ]
    }
   ],
   "source": [
    "starts = []\n",
    "ends = []\n",
    "for interaction in interactions:\n",
    "    starts.append(interaction[2])\n",
    "    ends.append(interaction[3])\n",
    "\n",
    "starts = np.array(starts)\n",
    "ends = np.array(ends)\n",
    "\n",
    "pmv.Lines(starts = starts, ends = ends, name = \"aromatic_interactions\", render_as=\"lines\").write(\"aromatic_interactions.py\")"
   ]
  },
  {
   "cell_type": "code",
   "execution_count": null,
   "metadata": {},
   "outputs": [],
   "source": []
  }
 ],
 "metadata": {
  "kernelspec": {
   "display_name": "DD_py38",
   "language": "python",
   "name": "python3"
  },
  "language_info": {
   "codemirror_mode": {
    "name": "ipython",
    "version": 3
   },
   "file_extension": ".py",
   "mimetype": "text/x-python",
   "name": "python",
   "nbconvert_exporter": "python",
   "pygments_lexer": "ipython3",
   "version": "3.8.12"
  }
 },
 "nbformat": 4,
 "nbformat_minor": 2
}
