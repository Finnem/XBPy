{
 "cells": [
  {
   "cell_type": "code",
   "execution_count": 1,
   "metadata": {},
   "outputs": [],
   "source": [
    "from rdkit.Chem import AllChem as Chem\n",
    "from xbpy.interactions import CationReceptor, HydrogenBondAcceptorLigand\n",
    "from xbpy.interactions import CationLigand, HydrogenBondAcceptorReceptor\n",
    "from xbpy import rdutil\n",
    "import pymolviz as pmv"
   ]
  },
  {
   "cell_type": "code",
   "execution_count": null,
   "metadata": {},
   "outputs": [],
   "source": []
  },
  {
   "cell_type": "code",
   "execution_count": null,
   "metadata": {},
   "outputs": [],
   "source": []
  },
  {
   "cell_type": "code",
   "execution_count": 2,
   "metadata": {},
   "outputs": [],
   "source": [
    "receptor = next(rdutil.read_molecules(\"5ckr_implicit_optimized_homology.pdb\"))\n",
    "ligand = next(rdutil.read_molecules(\"docked_ligand.sdf\"))"
   ]
  },
  {
   "cell_type": "code",
   "execution_count": 3,
   "metadata": {},
   "outputs": [],
   "source": [
    "ion_dipole_kation_receptor = CationReceptor(receptor)\n",
    "hydrogen_bond_acceptor_ligand = HydrogenBondAcceptorLigand(ligand)"
   ]
  },
  {
   "cell_type": "code",
   "execution_count": null,
   "metadata": {},
   "outputs": [],
   "source": []
  },
  {
   "cell_type": "code",
   "execution_count": 4,
   "metadata": {},
   "outputs": [
    {
     "name": "stderr",
     "output_type": "stream",
     "text": [
      "WARNING:root:No name provided for Points. Using default name: Points_0. It is highly recommended to provide meaningful names.\n"
     ]
    },
    {
     "name": "stdout",
     "output_type": "stream",
     "text": [
      "ColorMap.py:180 Infered color [0.96779756 0.44127456 0.53581032] and alpha 1 from value (0.9677975592919913, 0.44127456009157356, 0.5358103155058701)\n"
     ]
    }
   ],
   "source": [
    "pmv.Points(ion_dipole_kation_receptor.query_positions).write(\"ion_dipole_kation_receptor.py\")"
   ]
  },
  {
   "cell_type": "markdown",
   "metadata": {},
   "source": []
  },
  {
   "cell_type": "code",
   "execution_count": 5,
   "metadata": {},
   "outputs": [
    {
     "name": "stderr",
     "output_type": "stream",
     "text": [
      "WARNING:root:No name provided for Lines. Using default name: Lines_0. It is highly recommended to provide meaningful names.\n"
     ]
    },
    {
     "name": "stdout",
     "output_type": "stream",
     "text": [
      "Checking 4 and 4 bonds for occlusion by [[13.358 19.581  7.38 ]] atoms with vdw radii [1.7  1.6  1.55 1.7  1.6  1.55 1.7  1.6  1.55 1.7  1.6  1.55 1.7  1.6\n",
      " 1.55 1.7  1.6  1.55 1.7  1.6  1.55 1.7  1.6  1.55 1.7  1.6  1.55 1.7\n",
      " 1.55 1.7  1.7  1.7  1.7  1.7  1.7  1.7  1.7  1.7  1.7  1.7  1.7  1.7\n",
      " 1.7  1.7  1.7  1.7  1.7  1.7  1.7  1.7  1.7  1.2  1.2  1.2  1.2  1.2\n",
      " 1.2  1.2  1.2  1.2  1.2  1.2  1.2  1.2  1.2  1.2  1.2  1.2  1.2  1.2\n",
      " 1.2  1.2  1.2  1.2  1.2  1.2  1.2  1.2  1.2  1.2  1.2  1.2  1.2  1.2\n",
      " 1.2  1.2  1.2  1.2  1.2  1.2  1.2  1.7  1.55 1.7  1.7  1.7  1.7  1.6\n",
      " 1.2  1.2  1.2  1.2  1.2  1.2  1.2  1.2  1.2  1.2  1.2  1.2  1.2  1.2\n",
      " 1.7  1.7  1.55 1.2  1.2  1.55 1.7  1.7  1.7  1.7  1.7  1.7  1.7  1.2\n",
      " 1.2  1.2  1.2  1.2  1.2  1.2  1.7  1.7  1.7  1.7  1.6  1.2  1.2  1.2\n",
      " 1.2  1.2  1.2  1.2  1.2  1.2  1.2  1.55 1.6  1.7  1.7  1.55 1.2  1.2\n",
      " 1.2  1.6  1.7  1.7  1.55 1.7  1.7  1.2  1.2  1.2  1.2  1.2  1.6  1.7\n",
      " 1.7  1.7  1.7  1.55 1.55 1.2  1.2  1.2  1.2  1.2  1.6  1.2  1.7  1.2\n",
      " 1.2  1.2  1.2  1.7  1.7  1.7  1.7  1.7  1.7  1.7  1.2  1.2  1.2  1.2\n",
      " 1.2  1.2  1.2  1.7  1.55 1.55 1.6  1.2  1.2  1.2  1.7  1.7  1.7  1.7\n",
      " 1.55 1.55 1.2  1.6  1.7  1.7  1.55 1.2  1.2  1.2  1.6  1.7  1.7  1.55\n",
      " 1.7  1.2  1.2  1.6  1.7  1.7  1.7  1.7  1.55 1.55 1.2  1.2  1.2  1.2\n",
      " 1.6  1.2  1.2  1.2  1.55 1.7  1.6  1.55 1.2  1.2  1.7  1.2  1.2  1.2\n",
      " 1.55 1.6  1.7  1.7  1.7  1.7  1.7  1.7  1.7  1.7  1.7  1.2  1.2  1.2\n",
      " 1.2  1.2  1.2  1.2  1.2  1.6  1.2  1.2  1.55 1.7  1.6  1.2  1.2  1.2\n",
      " 1.2  1.2  1.7  1.7  1.55 1.7  1.7  1.55 1.55 1.2  1.2  1.6  1.7  1.7\n",
      " 1.55 1.2  1.2  1.2  1.6  1.7  1.7  1.55 1.2  1.2  1.2  1.6  1.7  1.7\n",
      " 1.55 1.2  1.2  1.2  1.7  1.7  1.7  1.7  1.7  1.7  1.7  1.2  1.2  1.2\n",
      " 1.2  1.2  1.2  1.2  1.2  1.2  1.7  1.7  1.7  1.7  1.7  1.6  1.2  1.2\n",
      " 1.2  1.2  1.2  1.2  1.2  1.2  1.2  1.2  1.2  1.7  1.55 1.7  1.7  1.2\n",
      " 1.2  1.2  1.2  1.6  1.7  1.55 1.55 1.2  1.7  1.7  1.2  1.2  1.7  1.7\n",
      " 1.55 1.55 1.2  1.2  1.7  1.7  1.7  1.7  1.7  1.6  1.2  1.2  1.2  1.2\n",
      " 1.2  1.2  1.2  1.2  1.2  1.2  1.2  1.7  1.55 1.7  1.7  1.2  1.2  1.2\n",
      " 1.2  1.6  1.7  1.55 1.55 1.2  1.7  1.7  1.2  1.2  1.7  1.7  1.55 1.55\n",
      " 1.2  1.2  1.7  1.7  1.7  1.7  1.7  1.6  1.2  1.2  1.2  1.2  1.2  1.2\n",
      " 1.2  1.2  1.2  1.2  1.2  1.7  1.55 1.7  1.7  1.2  1.2  1.2  1.2  1.6\n",
      " 1.7  1.55 1.55 1.2  1.7  1.7  1.2  1.2  1.7  1.7  1.55 1.55 1.2  1.2\n",
      " 1.7  1.7  1.7  1.7  1.7  1.6  1.2  1.2  1.2  1.2  1.2  1.2  1.2  1.2\n",
      " 1.2  1.2  1.2  1.7  1.55 1.7  1.7  1.2  1.2  1.2  1.2  1.6  1.7  1.55\n",
      " 1.55 1.2  1.7  1.7  1.2  1.2  1.7  1.7  1.55 1.55 1.2  1.2 ]\n",
      "ColorMap.py:180 Infered color [0.76321056 0.58384606 0.19465687] and alpha 1 from value (0.7632105624545802, 0.5838460616396939, 0.19465686802007026)\n"
     ]
    }
   ],
   "source": [
    "interactions = ion_dipole_kation_receptor.detect_interactions(hydrogen_bond_acceptor_ligand)\n",
    "\n",
    "pmv.Lines([[interaction[2], interaction[3]] for interaction in interactions]).write(\"kation_dipole_interactions.py\")"
   ]
  },
  {
   "cell_type": "markdown",
   "metadata": {},
   "source": []
  },
  {
   "cell_type": "code",
   "execution_count": 6,
   "metadata": {},
   "outputs": [],
   "source": [
    "kation_ligand = next(rdutil.read_molecules(\"docked_ligand_kation_to_dipole_receptor.sdf\"))"
   ]
  },
  {
   "cell_type": "code",
   "execution_count": null,
   "metadata": {},
   "outputs": [],
   "source": []
  },
  {
   "cell_type": "code",
   "execution_count": 7,
   "metadata": {},
   "outputs": [
    {
     "ename": "NameError",
     "evalue": "name 'IonDipoleKationLigand' is not defined",
     "output_type": "error",
     "traceback": [
      "\u001b[0;31m---------------------------------------------------------------------------\u001b[0m",
      "\u001b[0;31mNameError\u001b[0m                                 Traceback (most recent call last)",
      "\u001b[0;32m/tmp/ipykernel_14032/4063030454.py\u001b[0m in \u001b[0;36m<module>\u001b[0;34m\u001b[0m\n\u001b[1;32m      1\u001b[0m \u001b[0mion_dipole_dipole_acceptor_receptor\u001b[0m \u001b[0;34m=\u001b[0m \u001b[0mHydrogenBondAcceptorReceptor\u001b[0m\u001b[0;34m(\u001b[0m\u001b[0mreceptor\u001b[0m\u001b[0;34m)\u001b[0m\u001b[0;34m\u001b[0m\u001b[0;34m\u001b[0m\u001b[0m\n\u001b[0;32m----> 2\u001b[0;31m \u001b[0mion_dipole_kation_ligand\u001b[0m \u001b[0;34m=\u001b[0m \u001b[0mIonDipoleKationLigand\u001b[0m\u001b[0;34m(\u001b[0m\u001b[0mkation_ligand\u001b[0m\u001b[0;34m)\u001b[0m\u001b[0;34m\u001b[0m\u001b[0;34m\u001b[0m\u001b[0m\n\u001b[0m\u001b[1;32m      3\u001b[0m \u001b[0;34m\u001b[0m\u001b[0m\n\u001b[1;32m      4\u001b[0m \u001b[0minteractions\u001b[0m \u001b[0;34m=\u001b[0m \u001b[0mion_dipole_dipole_acceptor_receptor\u001b[0m\u001b[0;34m.\u001b[0m\u001b[0mdetect_interactions\u001b[0m\u001b[0;34m(\u001b[0m\u001b[0mion_dipole_kation_ligand\u001b[0m\u001b[0;34m,\u001b[0m \u001b[0mdistance_threshold\u001b[0m \u001b[0;34m=\u001b[0m \u001b[0;36m6\u001b[0m\u001b[0;34m)\u001b[0m\u001b[0;34m\u001b[0m\u001b[0;34m\u001b[0m\u001b[0m\n\u001b[1;32m      5\u001b[0m \u001b[0;34m\u001b[0m\u001b[0m\n",
      "\u001b[0;31mNameError\u001b[0m: name 'IonDipoleKationLigand' is not defined"
     ]
    }
   ],
   "source": [
    "ion_dipole_dipole_acceptor_receptor = HydrogenBondAcceptorReceptor(receptor)\n",
    "ion_dipole_kation_ligand = IonDipoleKationLigand(kation_ligand)\n",
    "\n",
    "interactions = ion_dipole_dipole_acceptor_receptor.detect_interactions(ion_dipole_kation_ligand, distance_threshold = 6)\n",
    "\n",
    "pmv.Lines([[interaction[2], interaction[3]] for interaction in interactions]).write(\"dipole_kation_interactions.py\")"
   ]
  },
  {
   "cell_type": "code",
   "execution_count": null,
   "metadata": {},
   "outputs": [],
   "source": []
  }
 ],
 "metadata": {
  "kernelspec": {
   "display_name": "DD_py38",
   "language": "python",
   "name": "python3"
  },
  "language_info": {
   "codemirror_mode": {
    "name": "ipython",
    "version": 3
   },
   "file_extension": ".py",
   "mimetype": "text/x-python",
   "name": "python",
   "nbconvert_exporter": "python",
   "pygments_lexer": "ipython3",
   "version": "3.8.12"
  }
 },
 "nbformat": 4,
 "nbformat_minor": 2
}
