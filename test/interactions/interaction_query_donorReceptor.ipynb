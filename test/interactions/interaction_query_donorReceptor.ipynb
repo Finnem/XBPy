{
 "cells": [
  {
   "cell_type": "code",
   "execution_count": 1,
   "metadata": {},
   "outputs": [],
   "source": [
    "from xbpy import rdutil\n",
    "from xbpy import interactions\n",
    "import pymolviz as pmv\n",
    "import numpy as np"
   ]
  },
  {
   "cell_type": "code",
   "execution_count": 6,
   "metadata": {},
   "outputs": [],
   "source": [
    "receptor = next(rdutil.read_molecules(\"receptor_donor.pdb\"))\n",
    "ligand = next(rdutil.read_molecules(\"blocked_HB_ligand.pdb\"))"
   ]
  },
  {
   "cell_type": "code",
   "execution_count": 7,
   "metadata": {},
   "outputs": [],
   "source": [
    "hb_acceptor_receptor = interactions.HydrogenBondDonorReceptor(receptor)\n",
    "hb_donor_ligand = interactions.HydrogenBondAcceptorLigand(ligand)"
   ]
  },
  {
   "cell_type": "code",
   "execution_count": 8,
   "metadata": {},
   "outputs": [
    {
     "name": "stdout",
     "output_type": "stream",
     "text": [
      "[68.47503301  6.44289028]\n"
     ]
    },
    {
     "data": {
      "text/plain": [
       "[]"
      ]
     },
     "execution_count": 8,
     "metadata": {},
     "output_type": "execute_result"
    }
   ],
   "source": [
    "hb_acceptor_receptor.detect_interactions(hb_donor_ligand)"
   ]
  },
  {
   "cell_type": "code",
   "execution_count": 5,
   "metadata": {},
   "outputs": [
    {
     "name": "stdout",
     "output_type": "stream",
     "text": [
      "ColorMap.py:180 Infered color [0.96779756 0.44127456 0.53581032] and alpha 1 from value (0.9677975592919913, 0.44127456009157356, 0.5358103155058701)\n"
     ]
    }
   ],
   "source": [
    "pmv.Lines(\n",
    "    starts = hb_acceptor_receptor.query_positions[[9]], \n",
    "    ends = hb_donor_ligand.query_positions[[2]],\n",
    "    name = \"after_blocked_filter\", render_as = \"lines\"\n",
    ").write(\"hb_interactions_after_blocked_filter.py\")"
   ]
  },
  {
   "cell_type": "code",
   "execution_count": null,
   "metadata": {},
   "outputs": [],
   "source": []
  }
 ],
 "metadata": {
  "kernelspec": {
   "display_name": "DD_py38",
   "language": "python",
   "name": "python3"
  },
  "language_info": {
   "codemirror_mode": {
    "name": "ipython",
    "version": 3
   },
   "file_extension": ".py",
   "mimetype": "text/x-python",
   "name": "python",
   "nbconvert_exporter": "python",
   "pygments_lexer": "ipython3",
   "version": "3.8.12"
  }
 },
 "nbformat": 4,
 "nbformat_minor": 2
}
