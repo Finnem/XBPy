{
 "cells": [
  {
   "cell_type": "code",
   "execution_count": 1,
   "metadata": {},
   "outputs": [],
   "source": [
    "from xbpy import rdutil\n",
    "from xbpy import interactions\n",
    "import pymolviz as pmv\n",
    "import numpy as np"
   ]
  },
  {
   "cell_type": "code",
   "execution_count": 2,
   "metadata": {},
   "outputs": [],
   "source": [
    "receptor = next(rdutil.read_molecules(\"5ckr_implicit_optimized_homology.pdb\"))\n",
    "receptor = next(rdutil.read_molecules(\"unblocked_HB.pdb\"))\n",
    "ligand = next(rdutil.read_molecules(\"Mureidomycin A PDB_kekulized-1_docked.sdf\"))\n",
    "ligand = next(rdutil.read_molecules(\"blocked_HB.pdb\"))"
   ]
  },
  {
   "cell_type": "code",
   "execution_count": 3,
   "metadata": {},
   "outputs": [],
   "source": [
    "hb_acceptor_receptor = interactions.HydrogenBondAcceptorReceptor(receptor)\n",
    "hb_donor_ligand = interactions.HydrogenBondDonorLigand(ligand)"
   ]
  },
  {
   "cell_type": "code",
   "execution_count": 4,
   "metadata": {},
   "outputs": [
    {
     "name": "stderr",
     "output_type": "stream",
     "text": [
      "WARNING:root:No name provided for Points. Using default name: Points_0. It is highly recommended to provide meaningful names.\n"
     ]
    },
    {
     "name": "stdout",
     "output_type": "stream",
     "text": [
      "ColorMap.py:180 Infered color [0.96779756 0.44127456 0.53581032] and alpha 1 from value (0.9677975592919913, 0.44127456009157356, 0.5358103155058701)\n"
     ]
    }
   ],
   "source": [
    "pmv.Points(hb_acceptor_receptor.query_positions).write(\"hb_acceptor_receptor.py\")"
   ]
  },
  {
   "cell_type": "code",
   "execution_count": 5,
   "metadata": {},
   "outputs": [
    {
     "name": "stdout",
     "output_type": "stream",
     "text": [
      "(8, 3) (8, 3)\n",
      "ColorMap.py:180 Infered color [0.76321056 0.58384606 0.19465687] and alpha 1 from value (0.7632105624545802, 0.5838460616396939, 0.19465686802007026)\n"
     ]
    }
   ],
   "source": [
    "donor_direction_starts = []\n",
    "donor_direction_ends = []\n",
    "start_positions = hb_donor_ligand.query_positions\n",
    "end_positions = start_positions + hb_donor_ligand.information[\"directions\"]\n",
    "donor_direction_starts.extend(start_positions)\n",
    "donor_direction_ends.extend(end_positions)\n",
    "\n",
    "starts = np.array(donor_direction_starts)\n",
    "ends = np.array(donor_direction_ends)\n",
    "print(starts.shape, ends.shape)\n",
    "pmv.Arrows(starts=donor_direction_starts, ends=donor_direction_ends, name=\"HB_Donor_ligand_directions\").write(\"hb_donor_directions.py\")"
   ]
  },
  {
   "cell_type": "code",
   "execution_count": 6,
   "metadata": {},
   "outputs": [
    {
     "name": "stdout",
     "output_type": "stream",
     "text": [
      "ColorMap.py:180 Infered color [0.46810257 0.66994925 0.19289587] and alpha 1 from value (0.46810256823426105, 0.6699492535792404, 0.1928958739904499)\n",
      "ColorMap.py:180 Infered color [0.21044754 0.67731051 0.64339412] and alpha 1 from value (0.21044753832183283, 0.6773105080456748, 0.6433941168468681)\n"
     ]
    }
   ],
   "source": [
    "pmv.Points(hb_donor_ligand.query_positions[[6,6,7,7]], name = \"Detected Donors\").write(\"hb_donor_ligand.py\")\n",
    "pmv.Points(hb_acceptor_receptor.query_positions[[226,628,222,625]], name = \"Detected Acceptors\").write(\"hb_acceptor_receptor.py\")"
   ]
  },
  {
   "cell_type": "code",
   "execution_count": 7,
   "metadata": {},
   "outputs": [
    {
     "data": {
      "text/plain": [
       "[(9, 2, 7.8266974954263935, 2.7142593833309308)]"
      ]
     },
     "execution_count": 7,
     "metadata": {},
     "output_type": "execute_result"
    }
   ],
   "source": [
    "hb_acceptor_receptor.detect_interactions(hb_donor_ligand)"
   ]
  },
  {
   "cell_type": "code",
   "execution_count": 8,
   "metadata": {},
   "outputs": [
    {
     "name": "stdout",
     "output_type": "stream",
     "text": [
      "ColorMap.py:180 Infered color [0.22829031 0.64805153 0.87449975] and alpha 1 from value (0.22829030785596155, 0.6480515334381642, 0.8744997507366618)\n"
     ]
    }
   ],
   "source": [
    "pmv.Lines(\n",
    "    starts = hb_acceptor_receptor.query_positions[[8,85,88,224,226,9,615,225,226,614,615,616,222,435,612]], \n",
    "    ends = hb_donor_ligand.query_positions[[0,0,0,1,1,2,5,6,6,6,6,6,7,7,7]],\n",
    "    name = \"before_angle_filter\", render_as = \"lines\"\n",
    ").write(\"hb_interactions_before_angle_filter.py\")"
   ]
  },
  {
   "cell_type": "code",
   "execution_count": 9,
   "metadata": {},
   "outputs": [
    {
     "name": "stdout",
     "output_type": "stream",
     "text": [
      "ColorMap.py:180 Infered color [0.80049362 0.47703364 0.95795472] and alpha 1 from value (0.8004936186423958, 0.47703363533737203, 0.9579547196007522)\n"
     ]
    }
   ],
   "source": [
    "\n",
    "pmv.Lines(\n",
    "    starts = hb_acceptor_receptor.query_positions[[8,226,9,435]], \n",
    "    ends = hb_donor_ligand.query_positions[[0,1,2,7]],\n",
    "    name = \"after_angle_filter\", render_as = \"lines\"\n",
    ").write(\"hb_interactions_after_angle_filter.py\")"
   ]
  },
  {
   "cell_type": "code",
   "execution_count": 10,
   "metadata": {},
   "outputs": [
    {
     "name": "stdout",
     "output_type": "stream",
     "text": [
      "ColorMap.py:180 Infered color [0.97042416 0.46034754 0.30993599] and alpha 1 from value (0.9704241569984234, 0.4603475375001678, 0.3099359864545268)\n"
     ]
    }
   ],
   "source": [
    "pmv.Lines(\n",
    "    starts = hb_acceptor_receptor.query_positions[[8,9]], \n",
    "    ends = hb_donor_ligand.query_positions[[0,2]],\n",
    "    name = \"after_blocked_filter\", render_as = \"lines\"\n",
    ").write(\"hb_interactions_after_blocked_filter.py\")"
   ]
  },
  {
   "cell_type": "code",
   "execution_count": null,
   "metadata": {},
   "outputs": [],
   "source": []
  },
  {
   "cell_type": "code",
   "execution_count": null,
   "metadata": {},
   "outputs": [],
   "source": []
  },
  {
   "cell_type": "code",
   "execution_count": null,
   "metadata": {},
   "outputs": [],
   "source": []
  },
  {
   "cell_type": "code",
   "execution_count": null,
   "metadata": {},
   "outputs": [],
   "source": []
  },
  {
   "cell_type": "code",
   "execution_count": null,
   "metadata": {},
   "outputs": [],
   "source": []
  },
  {
   "cell_type": "code",
   "execution_count": null,
   "metadata": {},
   "outputs": [],
   "source": []
  },
  {
   "cell_type": "code",
   "execution_count": null,
   "metadata": {},
   "outputs": [],
   "source": []
  }
 ],
 "metadata": {
  "kernelspec": {
   "display_name": "DD_py38",
   "language": "python",
   "name": "python3"
  },
  "language_info": {
   "codemirror_mode": {
    "name": "ipython",
    "version": 3
   },
   "file_extension": ".py",
   "mimetype": "text/x-python",
   "name": "python",
   "nbconvert_exporter": "python",
   "pygments_lexer": "ipython3",
   "version": "3.8.12"
  }
 },
 "nbformat": 4,
 "nbformat_minor": 2
}
