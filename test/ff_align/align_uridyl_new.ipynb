{
 "cells": [
  {
   "cell_type": "code",
   "execution_count": 3,
   "metadata": {},
   "outputs": [],
   "source": [
    "from xbpy import rdutil\n",
    "import pymolviz as pmv\n",
    "from tqdm import tqdm"
   ]
  },
  {
   "cell_type": "code",
   "execution_count": 15,
   "metadata": {},
   "outputs": [],
   "source": [
    "mols = rdutil.read_molecules('uridyl_stuff/ligands/*', store_path=True)\n",
    "target_mol = next(rdutil.read_molecules('uridyl_stuff/3OH_MRD_A.pdb'))"
   ]
  },
  {
   "cell_type": "code",
   "execution_count": 16,
   "metadata": {},
   "outputs": [],
   "source": [
    "receptor = next(rdutil.read_molecules(\"uridyl_stuff/AF31_prepped.pdb\"))"
   ]
  },
  {
   "cell_type": "code",
   "execution_count": 17,
   "metadata": {},
   "outputs": [
    {
     "name": "stderr",
     "output_type": "stream",
     "text": [
      "1it [00:02,  2.20s/it]"
     ]
    },
    {
     "name": "stdout",
     "output_type": "stream",
     "text": [
      "written to /mnt/c/Users/highgarden/Docker/DiffDock/data/homology_docking/ligands/MRD_A_aligned.sdf\n"
     ]
    },
    {
     "name": "stderr",
     "output_type": "stream",
     "text": [
      "2it [00:04,  2.40s/it]"
     ]
    },
    {
     "name": "stdout",
     "output_type": "stream",
     "text": [
      "written to /mnt/c/Users/highgarden/Docker/DiffDock/data/homology_docking/ligands/MRD_B_aligned.sdf\n"
     ]
    },
    {
     "name": "stderr",
     "output_type": "stream",
     "text": [
      "3it [00:07,  2.63s/it]WARNING:root:File format not recognized for uridyl_stuff/ligands/MRD_E.sdf.bak.\n"
     ]
    },
    {
     "name": "stdout",
     "output_type": "stream",
     "text": [
      "written to /mnt/c/Users/highgarden/Docker/DiffDock/data/homology_docking/ligands/MRD_E_aligned.sdf\n"
     ]
    },
    {
     "name": "stderr",
     "output_type": "stream",
     "text": [
      "4it [00:10,  2.72s/it]"
     ]
    },
    {
     "name": "stdout",
     "output_type": "stream",
     "text": [
      "written to /mnt/c/Users/highgarden/Docker/DiffDock/data/homology_docking/ligands/MRD_F_aligned.sdf\n"
     ]
    },
    {
     "name": "stderr",
     "output_type": "stream",
     "text": [
      "5it [00:17,  4.18s/it]"
     ]
    },
    {
     "name": "stdout",
     "output_type": "stream",
     "text": [
      "written to /mnt/c/Users/highgarden/Docker/DiffDock/data/homology_docking/ligands/MRY_D2_aligned.sdf\n"
     ]
    },
    {
     "name": "stderr",
     "output_type": "stream",
     "text": [
      "6it [00:22,  4.70s/it]"
     ]
    },
    {
     "name": "stdout",
     "output_type": "stream",
     "text": [
      "written to /mnt/c/Users/highgarden/Docker/DiffDock/data/homology_docking/ligands/N-Ac_MRD_A_aligned.sdf\n"
     ]
    },
    {
     "name": "stderr",
     "output_type": "stream",
     "text": [
      "7it [00:25,  3.96s/it]"
     ]
    },
    {
     "name": "stdout",
     "output_type": "stream",
     "text": [
      "written to /mnt/c/Users/highgarden/Docker/DiffDock/data/homology_docking/ligands/PCD_4N_aligned.sdf\n"
     ]
    },
    {
     "name": "stderr",
     "output_type": "stream",
     "text": [
      "8it [00:27,  3.40s/it]"
     ]
    },
    {
     "name": "stdout",
     "output_type": "stream",
     "text": [
      "written to /mnt/c/Users/highgarden/Docker/DiffDock/data/homology_docking/ligands/PCD_D_aligned.sdf\n"
     ]
    },
    {
     "name": "stderr",
     "output_type": "stream",
     "text": [
      "9it [00:29,  2.77s/it]"
     ]
    },
    {
     "name": "stdout",
     "output_type": "stream",
     "text": [
      "written to /mnt/c/Users/highgarden/Docker/DiffDock/data/homology_docking/ligands/PCD_S_aligned.sdf\n"
     ]
    },
    {
     "name": "stderr",
     "output_type": "stream",
     "text": [
      "10it [00:37,  4.46s/it]"
     ]
    },
    {
     "name": "stdout",
     "output_type": "stream",
     "text": [
      "written to /mnt/c/Users/highgarden/Docker/DiffDock/data/homology_docking/ligands/SSM_A_aligned.sdf\n"
     ]
    },
    {
     "name": "stderr",
     "output_type": "stream",
     "text": [
      "11it [00:41,  3.78s/it]"
     ]
    },
    {
     "name": "stdout",
     "output_type": "stream",
     "text": [
      "written to /mnt/c/Users/highgarden/Docker/DiffDock/data/homology_docking/ligands/TM_aligned.sdf\n"
     ]
    },
    {
     "name": "stderr",
     "output_type": "stream",
     "text": [
      "\n"
     ]
    },
    {
     "data": {
      "text/plain": [
       "'\\nmcs_visualizations = []\\nfor j, mols in enumerate(aligned_mols):\\n    mcs_visualizations.append(pmv.Points(rdutil.position([mols[0].GetAtomWithIdx(i) for i in mols[1][\"aligned\"]]), color = \"red\", radius = 0.5, state = j +1 ))\\npmv.Group(mcs_visualizations).write(\"MCS.py\")\\n'"
      ]
     },
     "execution_count": 17,
     "metadata": {},
     "output_type": "execute_result"
    }
   ],
   "source": [
    "aligned_mols = []\n",
    "from pathlib import Path\n",
    "for other_mol in tqdm(mols):\n",
    "    try:\n",
    "        aligned, mcs = rdutil.ff_align(other_mol, target_mol, receptor, return_query=True)\n",
    "        rdutil.write_molecules(aligned, other_mol.GetProp(\"path\").replace(\".sdf\", \"_aligned.sdf\"))\n",
    "        print(\"written to\", other_mol.GetProp(\"path\").replace(\".sdf\", \"_aligned.sdf\"))\n",
    "        aligned_mols.append(aligned)\n",
    "    except KeyboardInterrupt:\n",
    "        raise\n",
    "    except:\n",
    "        print(\"Failed to align\")\n",
    "\n",
    "\"\"\"\n",
    "mcs_visualizations = []\n",
    "for j, mols in enumerate(aligned_mols):\n",
    "    mcs_visualizations.append(pmv.Points(rdutil.position([mols[0].GetAtomWithIdx(i) for i in mols[1][\"aligned\"]]), color = \"red\", radius = 0.5, state = j +1 ))\n",
    "pmv.Group(mcs_visualizations).write(\"MCS.py\")\n",
    "\"\"\""
   ]
  },
  {
   "cell_type": "code",
   "execution_count": 6,
   "metadata": {},
   "outputs": [
    {
     "data": {
      "image/png": "[encoded data removed]",
      "text/plain": [
       "<rdkit.Chem.rdchem.Mol at 0x7fbb7e0dde40>"
      ]
     },
     "execution_count": 6,
     "metadata": {},
     "output_type": "execute_result"
    }
   ],
   "source": [
    "mcs"
   ]
  },
  {
   "cell_type": "code",
   "execution_count": null,
   "metadata": {},
   "outputs": [],
   "source": []
  }
 ],
 "metadata": {
  "kernelspec": {
   "display_name": "DD_py38",
   "language": "python",
   "name": "python3"
  },
  "language_info": {
   "codemirror_mode": {
    "name": "ipython",
    "version": 3
   },
   "file_extension": ".py",
   "mimetype": "text/x-python",
   "name": "python",
   "nbconvert_exporter": "python",
   "pygments_lexer": "ipython3",
   "version": "3.8.12"
  }
 },
 "nbformat": 4,
 "nbformat_minor": 2
}
