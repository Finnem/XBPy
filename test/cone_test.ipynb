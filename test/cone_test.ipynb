{
 "cells": [
  {
   "cell_type": "code",
   "execution_count": 1,
   "metadata": {},
   "outputs": [],
   "source": [
    "import xbpy\n",
    "\n",
    "import pymolviz as pmv"
   ]
  },
  {
   "cell_type": "code",
   "execution_count": 2,
   "metadata": {},
   "outputs": [],
   "source": [
    "import numpy as np"
   ]
  },
  {
   "cell_type": "code",
   "execution_count": 3,
   "metadata": {},
   "outputs": [],
   "source": [
    "conical_points = xbpy.geometry.sample_cone(np.array([1, 0, 0]), 1, np.pi, .4)"
   ]
  },
  {
   "cell_type": "code",
   "execution_count": 4,
   "metadata": {},
   "outputs": [
    {
     "name": "stderr",
     "output_type": "stream",
     "text": [
      "WARNING:root:No name provided for Arrows. Using default name: Arrows_0. It is highly recommended to provide meaningful names.\n"
     ]
    },
    {
     "name": "stdout",
     "output_type": "stream",
     "text": [
      "(70, 3) (70, 3) (70, 3)\n"
     ]
    }
   ],
   "source": [
    "\n",
    "pmv.Arrows(np.hstack([np.zeros_like(conical_points), conical_points]), color='blue', radius=0.1).write(\"test_points1.py\")"
   ]
  },
  {
   "cell_type": "code",
   "execution_count": 5,
   "metadata": {},
   "outputs": [
    {
     "name": "stderr",
     "output_type": "stream",
     "text": [
      "WARNING:root:No name provided for Arrows. Using default name: Arrows_1. It is highly recommended to provide meaningful names.\n"
     ]
    },
    {
     "name": "stdout",
     "output_type": "stream",
     "text": [
      "(13, 3) (13, 3) (13, 3)\n"
     ]
    }
   ],
   "source": [
    "conical_points = xbpy.geometry.sample_cone(np.array([1, 0, 0]), 1, np.pi/8, .2)\n",
    "pmv.Arrows(np.hstack([np.zeros_like(conical_points), conical_points]), color='red', radius=0.1).write(\"test_points2.py\")"
   ]
  },
  {
   "cell_type": "code",
   "execution_count": 6,
   "metadata": {},
   "outputs": [
    {
     "name": "stderr",
     "output_type": "stream",
     "text": [
      "WARNING:root:No name provided for Arrows. Using default name: Arrows_2. It is highly recommended to provide meaningful names.\n"
     ]
    },
    {
     "name": "stdout",
     "output_type": "stream",
     "text": [
      "(13, 3) (13, 3) (13, 3)\n"
     ]
    }
   ],
   "source": [
    "\n",
    "conical_points = xbpy.geometry.sample_cone(np.array([1, 0, 0]), 1, np.pi/16, .1)\n",
    "pmv.Arrows(np.hstack([np.zeros_like(conical_points), conical_points]), color='yellow', radius=0.1).write(\"test_points3.py\")"
   ]
  },
  {
   "cell_type": "code",
   "execution_count": null,
   "metadata": {},
   "outputs": [],
   "source": []
  },
  {
   "cell_type": "code",
   "execution_count": null,
   "metadata": {},
   "outputs": [],
   "source": []
  }
 ],
 "metadata": {
  "kernelspec": {
   "display_name": "DD_py38",
   "language": "python",
   "name": "python3"
  },
  "language_info": {
   "codemirror_mode": {
    "name": "ipython",
    "version": 3
   },
   "file_extension": ".py",
   "mimetype": "text/x-python",
   "name": "python",
   "nbconvert_exporter": "python",
   "pygments_lexer": "ipython3",
   "version": "3.8.12"
  }
 },
 "nbformat": 4,
 "nbformat_minor": 2
}
