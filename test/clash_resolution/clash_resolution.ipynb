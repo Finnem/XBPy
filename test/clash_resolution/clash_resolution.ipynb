{
 "cells": [
  {
   "cell_type": "code",
   "execution_count": 5,
   "metadata": {},
   "outputs": [],
   "source": [
    "from xbpy import rdutil\n",
    "from rdkit import Chem\n",
    "from rdkit.Chem import AllChem\n",
    "from rdkit.ForceField import rdForceField\n",
    "import pymolviz as pmv\n",
    "import numpy as np"
   ]
  },
  {
   "cell_type": "code",
   "execution_count": 6,
   "metadata": {},
   "outputs": [],
   "source": [
    "receptor = next(rdutil.read_molecules(\"AF3_1_prepped.pdb\"))\n",
    "ligand = next(rdutil.read_molecules(\"rank1_confidence-1.57.sdf\"))"
   ]
  },
  {
   "cell_type": "code",
   "execution_count": 7,
   "metadata": {},
   "outputs": [],
   "source": [
    "ligand = rdutil.proximity_bond(ligand)"
   ]
  },
  {
   "cell_type": "code",
   "execution_count": 8,
   "metadata": {},
   "outputs": [
    {
     "name": "stdout",
     "output_type": "stream",
     "text": [
      "sampled angle 0.0\n",
      "sampled angle 0.0\n",
      "sampled angle 0.0\n",
      "sampled angle 0.17951958020513104\n",
      "sampled angle 0.35903916041026207\n",
      "sampled angle 0.5385587406153931\n",
      "sampled angle 0.7180783208205241\n",
      "sampled angle 0.8975979010256552\n",
      "sampled angle 1.0771174812307862\n",
      "sampled angle 1.2566370614359172\n",
      "sampled angle 1.4361566416410483\n",
      "sampled angle 1.6156762218461793\n",
      "sampled angle 1.7951958020513104\n",
      "sampled angle 1.9747153822564414\n",
      "sampled angle 2.1542349624615724\n",
      "sampled angle 2.3337545426667035\n",
      "rotation found\n",
      "no rotation found\n",
      "sampled angle 0.0\n",
      "sampled angle 0.17951958020513104\n",
      "rotation found\n",
      "sampled angle 0.0\n",
      "sampled angle 0.17951958020513104\n",
      "sampled angle 0.35903916041026207\n",
      "sampled angle 0.5385587406153931\n",
      "sampled angle 0.7180783208205241\n",
      "sampled angle 0.8975979010256552\n",
      "sampled angle 1.0771174812307862\n",
      "sampled angle 1.2566370614359172\n",
      "sampled angle 1.4361566416410483\n",
      "sampled angle 1.6156762218461793\n",
      "sampled angle 1.7951958020513104\n",
      "sampled angle 1.9747153822564414\n",
      "sampled angle 2.1542349624615724\n",
      "sampled angle 2.3337545426667035\n",
      "sampled angle 2.5132741228718345\n",
      "sampled angle 2.6927937030769655\n",
      "sampled angle 2.8723132832820966\n",
      "sampled angle 3.0518328634872276\n",
      "sampled angle 3.2313524436923586\n",
      "sampled angle 3.4108720238974897\n",
      "sampled angle 3.5903916041026207\n",
      "sampled angle 3.7699111843077517\n",
      "sampled angle 3.9494307645128828\n",
      "sampled angle 4.128950344718014\n",
      "sampled angle 4.308469924923145\n",
      "sampled angle 4.487989505128276\n",
      "sampled angle 4.667509085333407\n",
      "sampled angle 4.847028665538538\n",
      "sampled angle 5.026548245743669\n",
      "sampled angle 5.2060678259488\n",
      "sampled angle 5.385587406153931\n",
      "sampled angle 5.565106986359062\n",
      "sampled angle 5.744626566564193\n",
      "sampled angle 5.924146146769324\n",
      "sampled angle 6.103665726974455\n",
      "sampled angle 6.283185307179586\n",
      "no rotation found\n",
      "sampled angle 0.0\n",
      "sampled angle 0.17951958020513104\n",
      "sampled angle 0.35903916041026207\n",
      "sampled angle 0.5385587406153931\n",
      "sampled angle 0.7180783208205241\n",
      "sampled angle 0.8975979010256552\n",
      "sampled angle 1.0771174812307862\n",
      "sampled angle 1.2566370614359172\n",
      "sampled angle 1.4361566416410483\n",
      "sampled angle 1.6156762218461793\n",
      "sampled angle 1.7951958020513104\n",
      "sampled angle 1.9747153822564414\n",
      "sampled angle 2.1542349624615724\n",
      "sampled angle 2.3337545426667035\n",
      "sampled angle 2.5132741228718345\n",
      "rotation found\n",
      "no rotation found\n",
      "sampled angle 0.0\n",
      "sampled angle 0.0\n",
      "rotation found\n",
      "sampled angle 0.0\n",
      "sampled angle 0.0\n",
      "sampled angle 0.17951958020513104\n",
      "sampled angle 0.35903916041026207\n",
      "sampled angle 0.5385587406153931\n",
      "sampled angle 0.7180783208205241\n",
      "sampled angle 0.8975979010256552\n",
      "sampled angle 1.0771174812307862\n",
      "sampled angle 1.2566370614359172\n",
      "sampled angle 1.4361566416410483\n",
      "sampled angle 1.6156762218461793\n",
      "sampled angle 1.7951958020513104\n",
      "sampled angle 1.9747153822564414\n",
      "sampled angle 2.1542349624615724\n",
      "sampled angle 2.3337545426667035\n",
      "sampled angle 2.5132741228718345\n",
      "sampled angle 2.6927937030769655\n",
      "sampled angle 2.8723132832820966\n",
      "sampled angle 3.0518328634872276\n",
      "sampled angle 3.2313524436923586\n",
      "sampled angle 3.4108720238974897\n",
      "sampled angle 3.5903916041026207\n",
      "sampled angle 3.7699111843077517\n",
      "sampled angle 3.9494307645128828\n",
      "sampled angle 4.128950344718014\n",
      "sampled angle 4.308469924923145\n",
      "sampled angle 4.487989505128276\n",
      "sampled angle 4.667509085333407\n",
      "sampled angle 4.847028665538538\n",
      "sampled angle 5.026548245743669\n",
      "sampled angle 5.2060678259488\n",
      "sampled angle 5.385587406153931\n",
      "sampled angle 5.565106986359062\n",
      "sampled angle 5.744626566564193\n",
      "sampled angle 5.924146146769324\n",
      "sampled angle 6.103665726974455\n",
      "sampled angle 6.283185307179586\n",
      "sampled angle 0.17951958020513104\n",
      "sampled angle 0.0\n",
      "sampled angle 0.17951958020513104\n",
      "sampled angle 0.35903916041026207\n",
      "sampled angle 0.5385587406153931\n",
      "sampled angle 0.7180783208205241\n",
      "sampled angle 0.8975979010256552\n",
      "sampled angle 1.0771174812307862\n",
      "sampled angle 1.2566370614359172\n",
      "sampled angle 1.4361566416410483\n",
      "sampled angle 1.6156762218461793\n",
      "sampled angle 1.7951958020513104\n",
      "sampled angle 1.9747153822564414\n",
      "sampled angle 2.1542349624615724\n",
      "sampled angle 2.3337545426667035\n",
      "sampled angle 2.5132741228718345\n",
      "sampled angle 2.6927937030769655\n",
      "sampled angle 2.8723132832820966\n",
      "sampled angle 3.0518328634872276\n",
      "sampled angle 3.2313524436923586\n",
      "sampled angle 3.4108720238974897\n",
      "sampled angle 3.5903916041026207\n",
      "sampled angle 3.7699111843077517\n",
      "sampled angle 3.9494307645128828\n",
      "sampled angle 4.128950344718014\n",
      "sampled angle 4.308469924923145\n",
      "sampled angle 4.487989505128276\n",
      "sampled angle 4.667509085333407\n",
      "sampled angle 4.847028665538538\n",
      "sampled angle 5.026548245743669\n",
      "sampled angle 5.2060678259488\n",
      "sampled angle 5.385587406153931\n",
      "sampled angle 5.565106986359062\n",
      "sampled angle 5.744626566564193\n",
      "sampled angle 5.924146146769324\n",
      "sampled angle 6.103665726974455\n",
      "sampled angle 6.283185307179586\n",
      "sampled angle 0.35903916041026207\n",
      "sampled angle 0.0\n",
      "sampled angle 0.17951958020513104\n",
      "sampled angle 0.35903916041026207\n",
      "sampled angle 0.5385587406153931\n",
      "sampled angle 0.7180783208205241\n",
      "sampled angle 0.8975979010256552\n",
      "sampled angle 1.0771174812307862\n",
      "sampled angle 1.2566370614359172\n",
      "sampled angle 1.4361566416410483\n",
      "sampled angle 1.6156762218461793\n",
      "sampled angle 1.7951958020513104\n",
      "sampled angle 1.9747153822564414\n",
      "sampled angle 2.1542349624615724\n",
      "sampled angle 2.3337545426667035\n",
      "sampled angle 2.5132741228718345\n",
      "sampled angle 2.6927937030769655\n",
      "sampled angle 2.8723132832820966\n",
      "sampled angle 3.0518328634872276\n",
      "sampled angle 3.2313524436923586\n",
      "sampled angle 3.4108720238974897\n",
      "sampled angle 3.5903916041026207\n",
      "sampled angle 3.7699111843077517\n",
      "sampled angle 3.9494307645128828\n",
      "sampled angle 4.128950344718014\n",
      "sampled angle 4.308469924923145\n",
      "sampled angle 4.487989505128276\n",
      "sampled angle 4.667509085333407\n",
      "sampled angle 4.847028665538538\n",
      "sampled angle 5.026548245743669\n",
      "sampled angle 5.2060678259488\n",
      "sampled angle 5.385587406153931\n",
      "sampled angle 5.565106986359062\n",
      "sampled angle 5.744626566564193\n",
      "sampled angle 5.924146146769324\n",
      "sampled angle 6.103665726974455\n",
      "sampled angle 6.283185307179586\n",
      "sampled angle 0.5385587406153931\n",
      "sampled angle 0.0\n",
      "sampled angle 0.17951958020513104\n",
      "sampled angle 0.35903916041026207\n",
      "sampled angle 0.5385587406153931\n",
      "sampled angle 0.7180783208205241\n",
      "sampled angle 0.8975979010256552\n",
      "sampled angle 1.0771174812307862\n",
      "sampled angle 1.2566370614359172\n",
      "sampled angle 1.4361566416410483\n",
      "sampled angle 1.6156762218461793\n",
      "sampled angle 1.7951958020513104\n",
      "sampled angle 1.9747153822564414\n",
      "sampled angle 2.1542349624615724\n",
      "rotation found\n",
      "sampled angle 0.0\n",
      "sampled angle 0.0\n",
      "sampled angle 0.17951958020513104\n",
      "sampled angle 0.35903916041026207\n",
      "sampled angle 0.5385587406153931\n",
      "sampled angle 0.7180783208205241\n",
      "sampled angle 0.8975979010256552\n",
      "sampled angle 1.0771174812307862\n",
      "sampled angle 1.2566370614359172\n",
      "sampled angle 1.4361566416410483\n",
      "sampled angle 1.6156762218461793\n",
      "sampled angle 1.7951958020513104\n",
      "sampled angle 1.9747153822564414\n",
      "sampled angle 2.1542349624615724\n",
      "sampled angle 2.3337545426667035\n",
      "sampled angle 2.5132741228718345\n",
      "sampled angle 2.6927937030769655\n",
      "sampled angle 2.8723132832820966\n",
      "sampled angle 3.0518328634872276\n",
      "sampled angle 3.2313524436923586\n",
      "sampled angle 3.4108720238974897\n",
      "sampled angle 3.5903916041026207\n",
      "sampled angle 3.7699111843077517\n",
      "sampled angle 3.9494307645128828\n",
      "sampled angle 4.128950344718014\n",
      "detected self clash\n",
      "sampled angle 4.308469924923145\n",
      "detected self clash\n",
      "sampled angle 4.487989505128276\n",
      "detected self clash\n",
      "sampled angle 4.667509085333407\n",
      "detected self clash\n",
      "sampled angle 4.847028665538538\n",
      "detected self clash\n",
      "sampled angle 5.026548245743669\n",
      "detected self clash\n",
      "sampled angle 5.2060678259488\n",
      "rotation found\n",
      "no rotation found\n"
     ]
    }
   ],
   "source": [
    "rotated= rdutil.resolve_small_clashes(ligand,receptor, distance_threshold=1.4)"
   ]
  },
  {
   "cell_type": "code",
   "execution_count": 5,
   "metadata": {},
   "outputs": [],
   "source": [
    "rdutil.write_molecules(rotated, \"rotated.sdf\")"
   ]
  },
  {
   "cell_type": "markdown",
   "metadata": {},
   "source": [
    "While rdkit technically should support this, practically it is a piece of cr*p and consistently fails for no apparent reason. Thus we write a simple script to resolve clashes by rotating rotatable bonds until clashes are resolved."
   ]
  },
  {
   "cell_type": "code",
   "execution_count": 6,
   "metadata": {},
   "outputs": [],
   "source": [
    "# first we construct the kinematic chain\n",
    "rigid_components, adjacency_matrix, bonds_to_atoms = rdutil.get_kinematic_graph(ligand)"
   ]
  },
  {
   "cell_type": "code",
   "execution_count": 7,
   "metadata": {},
   "outputs": [],
   "source": [
    "kinematic_weights = rdutil.kinematic_chain_weights(ligand, rigid_components, return_node_weights=False)"
   ]
  },
  {
   "cell_type": "code",
   "execution_count": null,
   "metadata": {},
   "outputs": [],
   "source": []
  },
  {
   "cell_type": "code",
   "execution_count": 8,
   "metadata": {},
   "outputs": [],
   "source": [
    "# we arbitrarily chose some bond\n",
    "bond = list(bonds_to_atoms.values())[10]"
   ]
  },
  {
   "cell_type": "code",
   "execution_count": 9,
   "metadata": {},
   "outputs": [],
   "source": [
    "bond_atoms = [ligand.GetAtomWithIdx(bond[0]), ligand.GetAtomWithIdx(bond[1])]\n",
    "positions = rdutil.position(bond_atoms)\n",
    "pmv.Points(positions, color=[\"green\", \"red\"], name = \"bond\").write(\"selected_bond.py\")"
   ]
  },
  {
   "cell_type": "code",
   "execution_count": 10,
   "metadata": {},
   "outputs": [],
   "source": [
    "selected_rest_indices = rdutil.get_bond_connected_atoms(ligand, bond[1], bond[0])"
   ]
  },
  {
   "cell_type": "code",
   "execution_count": 11,
   "metadata": {},
   "outputs": [],
   "source": [
    "selected_atoms = [ligand.GetAtomWithIdx(int(i)) for i in selected_rest_indices]\n",
    "positions = rdutil.position(selected_atoms)\n",
    "pmv.Points(positions, color=\"blue\", name = \"rest_atoms\").write(\"rest_atoms.py\")"
   ]
  },
  {
   "cell_type": "code",
   "execution_count": 12,
   "metadata": {},
   "outputs": [],
   "source": [
    "atom_to_component = {}\n",
    "for i, rigid_component in enumerate(rigid_components):\n",
    "    for atom in rigid_component:\n",
    "        atom_to_component[atom] = i"
   ]
  },
  {
   "cell_type": "code",
   "execution_count": 13,
   "metadata": {},
   "outputs": [],
   "source": [
    "# cosntruct kd_tree for receptor\n",
    "\n",
    "from scipy.spatial import cKDTree\n",
    "receptor_coords = rdutil.position(receptor)\n",
    "receptor_kd_tree = cKDTree(receptor_coords)"
   ]
  },
  {
   "cell_type": "code",
   "execution_count": 14,
   "metadata": {},
   "outputs": [],
   "source": [
    "distance_threshold = 1.3"
   ]
  },
  {
   "cell_type": "code",
   "execution_count": 15,
   "metadata": {},
   "outputs": [
    {
     "name": "stdout",
     "output_type": "stream",
     "text": [
      "[27 51 63 91 92 93]\n"
     ]
    }
   ],
   "source": [
    "# identify clashing components\n",
    "clashing_components = set()\n",
    "\n",
    "ligand_positions = rdutil.position(ligand)\n",
    "clashing_indices = np.argwhere(np.array(receptor_kd_tree.query_ball_point(ligand_positions, distance_threshold, return_length=True)) > 0).flatten()\n",
    "print(clashing_indices)"
   ]
  },
  {
   "cell_type": "code",
   "execution_count": 16,
   "metadata": {},
   "outputs": [],
   "source": [
    "# mark clashing\n",
    "pmv.Points(rdutil.positions([ligand.GetAtomWithIdx(int(i)) for i in clashing_indices]), color=\"red\", name = \"clashing\").write(\"clashing.py\")"
   ]
  },
  {
   "cell_type": "code",
   "execution_count": 17,
   "metadata": {},
   "outputs": [],
   "source": [
    "# identify clashing components\n",
    "clashing_components = set()\n",
    "for clashing_index in clashing_indices:\n",
    "    clashing_components.add(atom_to_component[clashing_index])\n",
    "\n",
    "# mark clashing components\n",
    "clashing_atoms = [ligand.GetAtomWithIdx(int(i)) for clashing_component in clashing_components for i in rigid_components[clashing_component]]\n",
    "clashing_positions = rdutil.position(clashing_atoms)"
   ]
  },
  {
   "cell_type": "code",
   "execution_count": 18,
   "metadata": {},
   "outputs": [],
   "source": [
    "# make adjacency matrix only point into heaviest component\n",
    "for weight in kinematic_weights:\n",
    "    if weight[0] in clashing_components:\n",
    "        weight[1] = 0\n",
    "    else:\n",
    "        weight[1] = 1"
   ]
  },
  {
   "cell_type": "code",
   "execution_count": 19,
   "metadata": {},
   "outputs": [],
   "source": [
    "heavier_adjacency_matrix = np.zeros_like(adjacency_matrix)\n",
    "for i in range(kinematic_weights.shape[0]):\n",
    "    for j in range(kinematic_weights.shape[1]):\n",
    "        if i < j:\n",
    "            continue\n",
    "        if adjacency_matrix[i, j] == 1:\n",
    "            if kinematic_weights[i, j] >= kinematic_weights[j, i]:\n",
    "                heavier_adjacency_matrix[j, i] = 1\n",
    "            else:\n",
    "                heavier_adjacency_matrix[i, j] = 1"
   ]
  },
  {
   "cell_type": "code",
   "execution_count": 20,
   "metadata": {},
   "outputs": [
    {
     "data": {
      "text/plain": [
       "array([[0, 0, 0, 0, 0, 0, 0, 0, 0, 0, 0, 0, 0, 0, 0, 0, 0, 0, 0, 0, 0, 0,\n",
       "        0, 1, 0, 0, 0],\n",
       "       [0, 0, 0, 0, 0, 0, 0, 0, 0, 0, 0, 0, 0, 0, 0, 0, 0, 0, 0, 0, 0, 0,\n",
       "        0, 0, 0, 0, 0],\n",
       "       [0, 0, 0, 0, 1, 0, 0, 0, 0, 0, 0, 0, 0, 0, 0, 0, 0, 0, 0, 0, 0, 0,\n",
       "        0, 0, 0, 0, 0],\n",
       "       [0, 0, 0, 0, 0, 0, 0, 0, 0, 0, 0, 0, 0, 0, 0, 0, 0, 0, 0, 0, 0, 0,\n",
       "        0, 0, 0, 1, 0],\n",
       "       [0, 0, 0, 0, 0, 0, 0, 0, 0, 0, 0, 0, 0, 0, 0, 0, 0, 0, 0, 0, 0, 0,\n",
       "        0, 0, 0, 0, 0],\n",
       "       [0, 0, 0, 0, 0, 0, 0, 0, 0, 0, 0, 0, 0, 0, 1, 0, 0, 0, 0, 0, 0, 0,\n",
       "        0, 0, 0, 0, 0],\n",
       "       [0, 0, 0, 0, 0, 0, 0, 0, 0, 0, 0, 0, 0, 1, 0, 0, 0, 0, 0, 0, 0, 0,\n",
       "        0, 0, 0, 0, 0],\n",
       "       [0, 0, 0, 0, 0, 0, 0, 0, 0, 0, 0, 0, 0, 0, 0, 0, 0, 0, 0, 1, 0, 0,\n",
       "        0, 0, 0, 0, 0],\n",
       "       [0, 0, 0, 0, 0, 0, 0, 0, 0, 0, 0, 0, 0, 0, 0, 0, 0, 0, 0, 0, 0, 0,\n",
       "        1, 0, 0, 0, 0],\n",
       "       [0, 0, 0, 0, 0, 0, 0, 0, 0, 0, 0, 0, 0, 0, 0, 1, 0, 0, 0, 0, 0, 0,\n",
       "        0, 0, 0, 0, 0],\n",
       "       [0, 1, 0, 0, 0, 0, 0, 0, 0, 0, 0, 0, 0, 0, 0, 0, 0, 0, 0, 0, 0, 0,\n",
       "        0, 0, 0, 0, 0],\n",
       "       [0, 1, 0, 0, 0, 0, 0, 0, 0, 0, 0, 0, 0, 0, 0, 0, 0, 0, 0, 0, 0, 0,\n",
       "        0, 0, 0, 0, 0],\n",
       "       [0, 0, 0, 0, 0, 0, 0, 0, 0, 0, 0, 0, 0, 0, 0, 0, 0, 1, 0, 0, 0, 0,\n",
       "        0, 0, 0, 0, 0],\n",
       "       [0, 0, 0, 0, 0, 0, 0, 0, 0, 0, 0, 0, 0, 0, 0, 0, 0, 0, 1, 0, 0, 0,\n",
       "        0, 0, 0, 0, 0],\n",
       "       [0, 0, 0, 0, 0, 0, 0, 0, 0, 0, 0, 0, 0, 0, 0, 0, 0, 0, 1, 0, 0, 0,\n",
       "        0, 0, 0, 0, 0],\n",
       "       [0, 0, 0, 0, 0, 0, 0, 0, 0, 0, 0, 0, 0, 0, 0, 0, 0, 0, 0, 0, 0, 0,\n",
       "        0, 0, 0, 0, 1],\n",
       "       [0, 0, 0, 0, 0, 0, 0, 0, 0, 0, 0, 0, 1, 0, 0, 0, 0, 0, 0, 0, 0, 0,\n",
       "        0, 0, 0, 0, 0],\n",
       "       [0, 0, 0, 0, 0, 0, 0, 0, 0, 0, 0, 0, 0, 0, 0, 1, 0, 0, 0, 0, 0, 0,\n",
       "        0, 0, 0, 0, 0],\n",
       "       [0, 0, 1, 0, 0, 0, 0, 0, 0, 0, 0, 0, 0, 0, 0, 0, 0, 0, 0, 0, 0, 0,\n",
       "        0, 0, 0, 0, 0],\n",
       "       [0, 0, 0, 0, 0, 0, 1, 0, 0, 0, 0, 0, 0, 0, 0, 0, 0, 0, 0, 0, 0, 0,\n",
       "        0, 0, 0, 0, 0],\n",
       "       [0, 0, 0, 0, 0, 0, 0, 1, 0, 0, 0, 0, 0, 0, 0, 0, 0, 0, 0, 0, 0, 0,\n",
       "        0, 0, 0, 0, 0],\n",
       "       [0, 1, 0, 0, 1, 0, 0, 0, 0, 0, 0, 0, 0, 0, 0, 0, 0, 0, 0, 0, 0, 0,\n",
       "        0, 0, 0, 0, 0],\n",
       "       [0, 0, 0, 0, 1, 0, 0, 0, 0, 0, 0, 0, 0, 0, 0, 0, 0, 0, 0, 0, 0, 0,\n",
       "        0, 0, 0, 0, 0],\n",
       "       [0, 0, 0, 0, 0, 1, 0, 0, 0, 0, 0, 0, 0, 0, 0, 0, 0, 0, 0, 0, 0, 0,\n",
       "        0, 0, 0, 0, 0],\n",
       "       [0, 0, 0, 0, 0, 0, 1, 0, 0, 0, 0, 0, 0, 0, 0, 0, 0, 0, 0, 0, 0, 0,\n",
       "        0, 0, 0, 0, 0],\n",
       "       [0, 0, 0, 0, 0, 0, 0, 0, 0, 0, 0, 0, 0, 0, 0, 0, 0, 0, 0, 0, 0, 0,\n",
       "        1, 0, 0, 0, 0],\n",
       "       [0, 0, 0, 0, 0, 0, 0, 0, 0, 0, 0, 0, 0, 0, 0, 0, 0, 0, 0, 0, 0, 0,\n",
       "        0, 0, 0, 1, 0]])"
      ]
     },
     "execution_count": 20,
     "metadata": {},
     "output_type": "execute_result"
    }
   ],
   "source": [
    "heavier_adjacency_matrix"
   ]
  },
  {
   "cell_type": "code",
   "execution_count": 21,
   "metadata": {},
   "outputs": [
    {
     "name": "stdout",
     "output_type": "stream",
     "text": [
      "ColorMap.py:180 Infered color [0.96779756 0.44127456 0.53581032] and alpha 1 from value (0.9677975592919913, 0.44127456009157356, 0.5358103155058701)\n"
     ]
    }
   ],
   "source": [
    "positions = []\n",
    "for bond in np.argwhere(heavier_adjacency_matrix != 0):\n",
    "    positions.extend(rdutil.position([ligand.GetAtomWithIdx(int(idx)) for idx in bonds_to_atoms[tuple(bond)]]))\n",
    "\n",
    "pmv.Arrows(np.array(positions).reshape(-1, 2, 3), name = \"heavier_adjacency\", linewidth=0.33).write(\"heavier_adjacency.py\")"
   ]
  },
  {
   "cell_type": "code",
   "execution_count": 22,
   "metadata": {},
   "outputs": [
    {
     "data": {
      "text/plain": [
       "array([[8., 8., 8., 8.],\n",
       "       [8., 8., 8., 8.],\n",
       "       [8., 8., 8., 8.],\n",
       "       [8., 8., 8., 8.]])"
      ]
     },
     "execution_count": 22,
     "metadata": {},
     "output_type": "execute_result"
    }
   ],
   "source": [
    "(np.ones((4,4)) * 2) ** 3"
   ]
  },
  {
   "cell_type": "code",
   "execution_count": 23,
   "metadata": {},
   "outputs": [
    {
     "data": {
      "text/plain": [
       "array([27, 51, 63, 91, 92, 93])"
      ]
     },
     "execution_count": 23,
     "metadata": {},
     "output_type": "execute_result"
    }
   ],
   "source": [
    "np.setdiff1d(clashing_indices, np.array([1,2,3]))"
   ]
  },
  {
   "cell_type": "code",
   "execution_count": 24,
   "metadata": {},
   "outputs": [
    {
     "data": {
      "text/plain": [
       "array([27, 51, 63, 91, 92, 93])"
      ]
     },
     "execution_count": 24,
     "metadata": {},
     "output_type": "execute_result"
    }
   ],
   "source": [
    "clashing_indices"
   ]
  },
  {
   "cell_type": "code",
   "execution_count": 25,
   "metadata": {},
   "outputs": [
    {
     "data": {
      "text/plain": [
       "[(8, 35, 36, 39, 88, 89, 90, 91, 92, 93),\n",
       " (34, 63),\n",
       " (18, 27, 62, 65, 72, 85),\n",
       " (51,)]"
      ]
     },
     "execution_count": 25,
     "metadata": {},
     "output_type": "execute_result"
    }
   ],
   "source": [
    "[rigid_components[clashing_component] for clashing_component in clashing_components]"
   ]
  },
  {
   "cell_type": "code",
   "execution_count": 26,
   "metadata": {},
   "outputs": [
    {
     "name": "stdout",
     "output_type": "stream",
     "text": [
      "path:  [array([[19]]), array([[6]])]\n",
      "no rotation found\n",
      "path:  [array([[7]]), array([[19]]), array([[6]])]\n"
     ]
    },
    {
     "ename": "KeyboardInterrupt",
     "evalue": "",
     "output_type": "error",
     "traceback": [
      "\u001b[0;31m---------------------------------------------------------------------------\u001b[0m",
      "\u001b[0;31mKeyboardInterrupt\u001b[0m                         Traceback (most recent call last)",
      "\u001b[0;32m/tmp/ipykernel_73736/3465085884.py\u001b[0m in \u001b[0;36m<module>\u001b[0;34m\u001b[0m\n\u001b[1;32m     51\u001b[0m                         \u001b[0;32mreturn\u001b[0m \u001b[0mrot_mol\u001b[0m\u001b[0;34m\u001b[0m\u001b[0;34m\u001b[0m\u001b[0m\n\u001b[1;32m     52\u001b[0m                 \u001b[0;32mreturn\u001b[0m \u001b[0;32mNone\u001b[0m\u001b[0;34m\u001b[0m\u001b[0;34m\u001b[0m\u001b[0m\n\u001b[0;32m---> 53\u001b[0;31m         \u001b[0mnext_mol\u001b[0m \u001b[0;34m=\u001b[0m \u001b[0mrotate_mol\u001b[0m\u001b[0;34m(\u001b[0m\u001b[0mrotated_mol\u001b[0m\u001b[0;34m,\u001b[0m \u001b[0mlen\u001b[0m\u001b[0;34m(\u001b[0m\u001b[0mpath\u001b[0m\u001b[0;34m)\u001b[0m \u001b[0;34m-\u001b[0m\u001b[0;36m1\u001b[0m\u001b[0;34m,\u001b[0m \u001b[0;36m0\u001b[0m\u001b[0;34m)\u001b[0m\u001b[0;34m\u001b[0m\u001b[0;34m\u001b[0m\u001b[0m\n\u001b[0m\u001b[1;32m     54\u001b[0m         \u001b[0;32mif\u001b[0m \u001b[0mnext_mol\u001b[0m \u001b[0;32mis\u001b[0m \u001b[0;32mNone\u001b[0m\u001b[0;34m:\u001b[0m\u001b[0;34m\u001b[0m\u001b[0;34m\u001b[0m\u001b[0m\n\u001b[1;32m     55\u001b[0m             \u001b[0mprint\u001b[0m\u001b[0;34m(\u001b[0m\u001b[0;34m\"no rotation found\"\u001b[0m\u001b[0;34m)\u001b[0m\u001b[0;34m\u001b[0m\u001b[0;34m\u001b[0m\u001b[0m\n",
      "\u001b[0;32m/tmp/ipykernel_73736/3465085884.py\u001b[0m in \u001b[0;36mrotate_mol\u001b[0;34m(mol, other_component_mask_index, angle)\u001b[0m\n\u001b[1;32m     47\u001b[0m                     \u001b[0;31m#print(mol)\u001b[0m\u001b[0;34m\u001b[0m\u001b[0;34m\u001b[0m\u001b[0;34m\u001b[0m\u001b[0m\n\u001b[1;32m     48\u001b[0m                     \u001b[0mrot_mol\u001b[0m \u001b[0;34m=\u001b[0m \u001b[0mrdutil\u001b[0m\u001b[0;34m.\u001b[0m\u001b[0mrotate_around_bond\u001b[0m\u001b[0;34m(\u001b[0m\u001b[0mmol\u001b[0m\u001b[0;34m,\u001b[0m \u001b[0;34m*\u001b[0m\u001b[0mbond_indices\u001b[0m\u001b[0;34m,\u001b[0m \u001b[0mangle\u001b[0m\u001b[0;34m)\u001b[0m\u001b[0;34m\u001b[0m\u001b[0;34m\u001b[0m\u001b[0m\n\u001b[0;32m---> 49\u001b[0;31m                     \u001b[0mrot_mol\u001b[0m \u001b[0;34m=\u001b[0m \u001b[0mrotate_mol\u001b[0m\u001b[0;34m(\u001b[0m\u001b[0mrot_mol\u001b[0m\u001b[0;34m,\u001b[0m \u001b[0mnext_component_idx\u001b[0m\u001b[0;34m,\u001b[0m \u001b[0mangle\u001b[0m\u001b[0;34m)\u001b[0m\u001b[0;34m\u001b[0m\u001b[0;34m\u001b[0m\u001b[0m\n\u001b[0m\u001b[1;32m     50\u001b[0m                     \u001b[0;32mif\u001b[0m \u001b[0mrot_mol\u001b[0m \u001b[0;32mis\u001b[0m \u001b[0;32mnot\u001b[0m \u001b[0;32mNone\u001b[0m\u001b[0;34m:\u001b[0m\u001b[0;34m\u001b[0m\u001b[0;34m\u001b[0m\u001b[0m\n\u001b[1;32m     51\u001b[0m                         \u001b[0;32mreturn\u001b[0m \u001b[0mrot_mol\u001b[0m\u001b[0;34m\u001b[0m\u001b[0;34m\u001b[0m\u001b[0m\n",
      "\u001b[0;32m/tmp/ipykernel_73736/3465085884.py\u001b[0m in \u001b[0;36mrotate_mol\u001b[0;34m(mol, other_component_mask_index, angle)\u001b[0m\n\u001b[1;32m     46\u001b[0m                 \u001b[0;32mfor\u001b[0m \u001b[0mangle\u001b[0m \u001b[0;32min\u001b[0m \u001b[0mnp\u001b[0m\u001b[0;34m.\u001b[0m\u001b[0mlinspace\u001b[0m\u001b[0;34m(\u001b[0m\u001b[0;36m0\u001b[0m\u001b[0;34m,\u001b[0m \u001b[0;36m2\u001b[0m\u001b[0;34m*\u001b[0m\u001b[0mnp\u001b[0m\u001b[0;34m.\u001b[0m\u001b[0mpi\u001b[0m\u001b[0;34m,\u001b[0m \u001b[0;36m36\u001b[0m\u001b[0;34m)\u001b[0m\u001b[0;34m:\u001b[0m\u001b[0;34m\u001b[0m\u001b[0;34m\u001b[0m\u001b[0m\n\u001b[1;32m     47\u001b[0m                     \u001b[0;31m#print(mol)\u001b[0m\u001b[0;34m\u001b[0m\u001b[0;34m\u001b[0m\u001b[0;34m\u001b[0m\u001b[0m\n\u001b[0;32m---> 48\u001b[0;31m                     \u001b[0mrot_mol\u001b[0m \u001b[0;34m=\u001b[0m \u001b[0mrdutil\u001b[0m\u001b[0;34m.\u001b[0m\u001b[0mrotate_around_bond\u001b[0m\u001b[0;34m(\u001b[0m\u001b[0mmol\u001b[0m\u001b[0;34m,\u001b[0m \u001b[0;34m*\u001b[0m\u001b[0mbond_indices\u001b[0m\u001b[0;34m,\u001b[0m \u001b[0mangle\u001b[0m\u001b[0;34m)\u001b[0m\u001b[0;34m\u001b[0m\u001b[0;34m\u001b[0m\u001b[0m\n\u001b[0m\u001b[1;32m     49\u001b[0m                     \u001b[0mrot_mol\u001b[0m \u001b[0;34m=\u001b[0m \u001b[0mrotate_mol\u001b[0m\u001b[0;34m(\u001b[0m\u001b[0mrot_mol\u001b[0m\u001b[0;34m,\u001b[0m \u001b[0mnext_component_idx\u001b[0m\u001b[0;34m,\u001b[0m \u001b[0mangle\u001b[0m\u001b[0;34m)\u001b[0m\u001b[0;34m\u001b[0m\u001b[0;34m\u001b[0m\u001b[0m\n\u001b[1;32m     50\u001b[0m                     \u001b[0;32mif\u001b[0m \u001b[0mrot_mol\u001b[0m \u001b[0;32mis\u001b[0m \u001b[0;32mnot\u001b[0m \u001b[0;32mNone\u001b[0m\u001b[0;34m:\u001b[0m\u001b[0;34m\u001b[0m\u001b[0;34m\u001b[0m\u001b[0m\n",
      "\u001b[0;32m~/Workspace/Python_Libraries/XBPy/module/xbpy/rdutil/geometry.py\u001b[0m in \u001b[0;36mrotate_around_bond\u001b[0;34m(mol, bond_start_atom_idx, bond_end_atom_idx, angle)\u001b[0m\n\u001b[1;32m    364\u001b[0m     \u001b[0mrotation\u001b[0m \u001b[0;34m=\u001b[0m \u001b[0mR\u001b[0m\u001b[0;34m.\u001b[0m\u001b[0mfrom_rotvec\u001b[0m\u001b[0;34m(\u001b[0m\u001b[0mbond_direction\u001b[0m \u001b[0;34m*\u001b[0m \u001b[0mangle\u001b[0m\u001b[0;34m)\u001b[0m\u001b[0;34m\u001b[0m\u001b[0;34m\u001b[0m\u001b[0m\n\u001b[1;32m    365\u001b[0m     \u001b[0;31m# get atoms to rotate\u001b[0m\u001b[0;34m\u001b[0m\u001b[0;34m\u001b[0m\u001b[0;34m\u001b[0m\u001b[0m\n\u001b[0;32m--> 366\u001b[0;31m     \u001b[0mconnected_atom_indices\u001b[0m \u001b[0;34m=\u001b[0m \u001b[0mget_bond_connected_atoms\u001b[0m\u001b[0;34m(\u001b[0m\u001b[0mmol\u001b[0m\u001b[0;34m,\u001b[0m \u001b[0mbond_end_atom_idx\u001b[0m\u001b[0;34m,\u001b[0m \u001b[0mbond_start_atom_idx\u001b[0m\u001b[0;34m)\u001b[0m\u001b[0;34m\u001b[0m\u001b[0;34m\u001b[0m\u001b[0m\n\u001b[0m\u001b[1;32m    367\u001b[0m     \u001b[0;31m# rotate atoms\u001b[0m\u001b[0;34m\u001b[0m\u001b[0;34m\u001b[0m\u001b[0;34m\u001b[0m\u001b[0m\n\u001b[1;32m    368\u001b[0m     \u001b[0moriginal_position\u001b[0m \u001b[0;34m=\u001b[0m \u001b[0mposition\u001b[0m\u001b[0;34m(\u001b[0m\u001b[0;34m[\u001b[0m\u001b[0mmol\u001b[0m\u001b[0;34m.\u001b[0m\u001b[0mGetAtomWithIdx\u001b[0m\u001b[0;34m(\u001b[0m\u001b[0mint\u001b[0m\u001b[0;34m(\u001b[0m\u001b[0mi\u001b[0m\u001b[0;34m)\u001b[0m\u001b[0;34m)\u001b[0m \u001b[0;32mfor\u001b[0m \u001b[0mi\u001b[0m \u001b[0;32min\u001b[0m \u001b[0mconnected_atom_indices\u001b[0m\u001b[0;34m]\u001b[0m\u001b[0;34m)\u001b[0m\u001b[0;34m\u001b[0m\u001b[0;34m\u001b[0m\u001b[0m\n",
      "\u001b[0;32m~/Workspace/Python_Libraries/XBPy/module/xbpy/rdutil/select.py\u001b[0m in \u001b[0;36mget_bond_connected_atoms\u001b[0;34m(mol, bond_start_atom_idx, bond_end_atom_idx)\u001b[0m\n\u001b[1;32m    280\u001b[0m     \u001b[0;32mwhile\u001b[0m \u001b[0;34m(\u001b[0m\u001b[0mlast_adj_matrix\u001b[0m \u001b[0;34m!=\u001b[0m \u001b[0madj_matrix\u001b[0m\u001b[0;34m)\u001b[0m\u001b[0;34m.\u001b[0m\u001b[0many\u001b[0m\u001b[0;34m(\u001b[0m\u001b[0;34m)\u001b[0m\u001b[0;34m:\u001b[0m\u001b[0;34m\u001b[0m\u001b[0;34m\u001b[0m\u001b[0m\n\u001b[1;32m    281\u001b[0m         \u001b[0mlast_adj_matrix\u001b[0m \u001b[0;34m=\u001b[0m \u001b[0madj_matrix\u001b[0m\u001b[0;34m\u001b[0m\u001b[0;34m\u001b[0m\u001b[0m\n\u001b[0;32m--> 282\u001b[0;31m         \u001b[0madj_matrix\u001b[0m \u001b[0;34m=\u001b[0m \u001b[0mnp\u001b[0m\u001b[0;34m.\u001b[0m\u001b[0mdot\u001b[0m\u001b[0;34m(\u001b[0m\u001b[0madj_matrix\u001b[0m\u001b[0;34m,\u001b[0m \u001b[0madj_matrix\u001b[0m\u001b[0;34m)\u001b[0m\u001b[0;34m\u001b[0m\u001b[0;34m\u001b[0m\u001b[0m\n\u001b[0m\u001b[1;32m    283\u001b[0m         \u001b[0madj_matrix\u001b[0m \u001b[0;34m=\u001b[0m \u001b[0mnp\u001b[0m\u001b[0;34m.\u001b[0m\u001b[0mclip\u001b[0m\u001b[0;34m(\u001b[0m\u001b[0madj_matrix\u001b[0m\u001b[0;34m,\u001b[0m \u001b[0;36m0\u001b[0m\u001b[0;34m,\u001b[0m \u001b[0;36m1\u001b[0m\u001b[0;34m)\u001b[0m\u001b[0;34m\u001b[0m\u001b[0;34m\u001b[0m\u001b[0m\n\u001b[1;32m    284\u001b[0m     \u001b[0;31m# get the connected atoms\u001b[0m\u001b[0;34m\u001b[0m\u001b[0;34m\u001b[0m\u001b[0;34m\u001b[0m\u001b[0m\n",
      "\u001b[0;32m~/miniconda3/envs/DD_py38/lib/python3.8/site-packages/numpy/core/overrides.py\u001b[0m in \u001b[0;36mdot\u001b[0;34m(*args, **kwargs)\u001b[0m\n",
      "\u001b[0;31mKeyboardInterrupt\u001b[0m: "
     ]
    }
   ],
   "source": [
    "max_depth = 4\n",
    "found_points = []\n",
    "ligand_positions = rdutil.position(ligand)\n",
    "ligand_adjacency_matrix = Chem.GetAdjacencyMatrix(ligand)\n",
    "rotated_mol = Chem.Mol(ligand)\n",
    "# for each clashing component we identify the bond at max_depth or first branching bond\n",
    "for clashing_component in clashing_components:\n",
    "    next_matrix = np.array(heavier_adjacency_matrix)\n",
    "    cur_depth = 0\n",
    "    cur_other_component = next_matrix[clashing_component]\n",
    "    path = []\n",
    "    path.append(cur_other_component)\n",
    "    while(cur_depth < max_depth) and (np.sum(adjacency_matrix[cur_other_component.astype(bool)]) < 3):\n",
    "        next_matrix = next_matrix @ heavier_adjacency_matrix\n",
    "        cur_depth += 1\n",
    "        cur_other_component = next_matrix[clashing_component]\n",
    "        path.append(cur_other_component)\n",
    "    print(\"path: \", [np.argwhere(i) for i in path])\n",
    "    if sum(cur_other_component) == 1:\n",
    "        # we dont care for all other clashing atoms at the moment:\n",
    "        ignored_mask = np.zeros(ligand.GetNumAtoms(), dtype=bool)\n",
    "        ignored_mask[np.setdiff1d(clashing_indices, rigid_components[clashing_component])] = True\n",
    "        # now we start sampling until we hit our component again\n",
    "        def rotate_mol(mol, other_component_mask_index, angle):\n",
    "            other_component_mask = path[other_component_mask_index]\n",
    "            if other_component_mask_index == 0:\n",
    "                # check for clashes\n",
    "                mol_positions = rdutil.position(mol)\n",
    "                if np.any((np.array(receptor_kd_tree.query_ball_point(mol_positions, distance_threshold, return_length=True)) > 0)[~ignored_mask]):\n",
    "                    return None\n",
    "                else:\n",
    "                    # check self clashes\n",
    "                    distances = np.linalg.norm(mol_positions[:, None] - mol_positions[None, :], axis=-1)\n",
    "                    np.fill_diagonal(distances, np.inf)\n",
    "                    # mask adjacent atoms\n",
    "                    distances[ligand_adjacency_matrix.astype(bool)] = np.inf\n",
    "                    if np.any(distances < distance_threshold):\n",
    "                        return None\n",
    "                    return mol\n",
    "            else:\n",
    "                # try rotations until we hit our component:\n",
    "                # next component is determined by moving heavier_adjacency_matrix backwards\n",
    "                next_component_idx = other_component_mask_index - 1\n",
    "                next_component = path[next_component_idx]\n",
    "                bond_indices = bonds_to_atoms[(np.argwhere(other_component_mask)[0][0], np.argwhere(next_component)[0][0])]\n",
    "                for angle in np.linspace(0, 2*np.pi, 36):\n",
    "                    #print(mol)\n",
    "                    rot_mol = rdutil.rotate_around_bond(mol, *bond_indices, angle)\n",
    "                    rot_mol = rotate_mol(rot_mol, next_component_idx, angle)\n",
    "                    if rot_mol is not None:\n",
    "                        return rot_mol\n",
    "                return None\n",
    "        next_mol = rotate_mol(rotated_mol, len(path) -1, 0)\n",
    "        if next_mol is None:\n",
    "            print(\"no rotation found\")\n",
    "        else:\n",
    "            rotated_mol = next_mol\n"
   ]
  },
  {
   "cell_type": "code",
   "execution_count": null,
   "metadata": {},
   "outputs": [
    {
     "data": {
      "text/plain": [
       "[(0, (0, 13, 30, 84)),\n",
       " (1, (1, 3, 15, 17, 19, 48, 52, 60, 67, 70, 73)),\n",
       " (2, (2, 59, 74, 79)),\n",
       " (3, (4, 12, 33, 106)),\n",
       " (4, (5, 77)),\n",
       " (5, (6, 28, 83)),\n",
       " (6, (7, 86)),\n",
       " (7, (8, 35, 36, 39, 88, 89, 90, 91, 92, 93)),\n",
       " (8, (9, 24, 40, 96)),\n",
       " (9, (10, 25, 47, 71)),\n",
       " (10, (11, 50)),\n",
       " (11, (14, 41, 45, 49, 53, 54, 55, 57, 58, 61, 64)),\n",
       " (12, (16, 22, 43, 46, 100, 101, 102, 103, 104, 105)),\n",
       " (13, (18, 27, 62, 65, 72, 85)),\n",
       " (14, (20, 42, 82)),\n",
       " (15, (21, 98)),\n",
       " (16, (23, 76)),\n",
       " (17, (26, 44, 99)),\n",
       " (18, (29, 81)),\n",
       " (19, (31, 32, 87)),\n",
       " (20, (34, 63)),\n",
       " (21, (37, 56, 75, 80)),\n",
       " (22, (38, 95)),\n",
       " (23, (51,)),\n",
       " (24, (66, 69, 94)),\n",
       " (25, (68,)),\n",
       " (26, (78, 97))]"
      ]
     },
     "execution_count": 45,
     "metadata": {},
     "output_type": "execute_result"
    }
   ],
   "source": [
    "[(i,c) for i,c in enumerate(rigid_components)]"
   ]
  },
  {
   "cell_type": "code",
   "execution_count": null,
   "metadata": {},
   "outputs": [],
   "source": [
    "rdutil.write_molecules(rotated_mol, \"rotated.sdf\")"
   ]
  },
  {
   "cell_type": "code",
   "execution_count": null,
   "metadata": {},
   "outputs": [],
   "source": []
  }
 ],
 "metadata": {
  "kernelspec": {
   "display_name": "DD_py38",
   "language": "python",
   "name": "python3"
  },
  "language_info": {
   "codemirror_mode": {
    "name": "ipython",
    "version": 3
   },
   "file_extension": ".py",
   "mimetype": "text/x-python",
   "name": "python",
   "nbconvert_exporter": "python",
   "pygments_lexer": "ipython3",
   "version": "3.8.12"
  }
 },
 "nbformat": 4,
 "nbformat_minor": 2
}
