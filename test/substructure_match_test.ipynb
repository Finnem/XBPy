{
 "cells": [
  {
   "cell_type": "code",
   "execution_count": 1,
   "metadata": {},
   "outputs": [],
   "source": [
    "from xbpy.morgan import substructure_match, unique_index, morgan_prop\n",
    "from xbpy.rdutil import read_molecules, position\n",
    "from rdkit.Chem.rdmolops import RenumberAtoms\n",
    "from rdkit import Chem\n",
    "from rdkit.Chem import rdDetermineBonds\n",
    "import numpy as np\n",
    "import pymolviz as pmv"
   ]
  },
  {
   "cell_type": "code",
   "execution_count": 2,
   "metadata": {},
   "outputs": [],
   "source": [
    "reference_mol = next(read_molecules(\"combined_reference.pdb\"))\n",
    "substructure_difficult = next(read_molecules(\"substructure_difficult_test.pdb\"))\n",
    "matching_mols = list(read_molecules(\"Bromobenzene_BB_MP2-TZVPP_pre2024.sdf\"))"
   ]
  },
  {
   "cell_type": "code",
   "execution_count": 3,
   "metadata": {},
   "outputs": [],
   "source": [
    "new_reference_mol = RenumberAtoms(reference_mol, [int(i) for i in np.argsort(unique_index(reference_mol))])\n",
    "new_matching_mol = RenumberAtoms(matching_mols[0], [int(i) for i in np.argsort(unique_index(matching_mols[0]))])"
   ]
  },
  {
   "cell_type": "code",
   "execution_count": 4,
   "metadata": {},
   "outputs": [],
   "source": [
    "Chem.MolToPDBFile(new_reference_mol, \"new_reference.pdb\")\n",
    "Chem.MolToPDBFile(new_matching_mol, \"new_matching.pdb\")"
   ]
  },
  {
   "cell_type": "code",
   "execution_count": 5,
   "metadata": {},
   "outputs": [],
   "source": [
    "xyz_file = next(read_molecules(\"new_xyz.pdb\"))"
   ]
  },
  {
   "cell_type": "code",
   "execution_count": 6,
   "metadata": {},
   "outputs": [],
   "source": [
    "rdDetermineBonds.DetermineConnectivity(xyz_file)"
   ]
  },
  {
   "cell_type": "code",
   "execution_count": 7,
   "metadata": {},
   "outputs": [],
   "source": [
    "Chem.MolToPDBFile(xyz_file, \"proximity_bonded.pdb\")"
   ]
  },
  {
   "cell_type": "code",
   "execution_count": 8,
   "metadata": {},
   "outputs": [],
   "source": [
    "\n",
    "new_xyz_mol = RenumberAtoms(xyz_file, [int(i) for i in np.argsort(unique_index(xyz_file))])"
   ]
  },
  {
   "cell_type": "code",
   "execution_count": null,
   "metadata": {},
   "outputs": [],
   "source": []
  },
  {
   "cell_type": "code",
   "execution_count": 9,
   "metadata": {},
   "outputs": [],
   "source": [
    "visualization_group = pmv.Group(name = \"visualization_group\")"
   ]
  },
  {
   "cell_type": "code",
   "execution_count": 10,
   "metadata": {},
   "outputs": [
    {
     "name": "stdout",
     "output_type": "stream",
     "text": [
      "mol1_match_mol2=array([-1, -1, -1, -1, -1, -1, -1, -1, -1, -1, -1, -1, -1, -1, -1, -1, -1,\n",
      "       -1, -1, -1, -1, -1, -1, -1])\n",
      "mol1_match_mol2=array([-1, -1, -1, -1, -1, -1, -1, -1, -1, -1, -1, -1, -1, -1, -1, -1, -1,\n",
      "       -1, -1, -1, -1, -1, -1, -1])\n",
      "mol1_match_mol2=array([-1, -1, -1, -1, -1, -1, -1, -1, -1, -1, -1, -1, -1, -1, -1, -1, -1,\n",
      "       -1, -1, -1, -1, -1, -1, -1])\n",
      "mol1_match_mol2=array([-1, -1, -1, -1, -1, -1, -1, -1, -1, -1, -1, -1, -1, -1, -1, -1, -1,\n",
      "       -1, -1, -1, -1, -1, -1, -1])\n",
      "mol1_match_mol2=array([-1, -1, -1, -1, -1, -1, -1, -1, -1, -1, -1, -1, -1, -1, -1, -1, -1,\n",
      "       -1, -1, -1, -1, -1, -1, -1])\n",
      "mol1_match_mol2=array([-1, -1, -1, -1, -1, -1, -1, -1, -1, -1, -1, -1, -1, -1, -1, -1, -1,\n",
      "       -1, -1, -1, -1, -1, -1, -1])\n"
     ]
    },
    {
     "ename": "KeyError",
     "evalue": "((0, 1), (0, 1), (0, 3), (0, 7), (0, 17), (0, 41), (0, 99))",
     "output_type": "error",
     "traceback": [
      "\u001b[0;31m---------------------------------------------------------------------------\u001b[0m",
      "\u001b[0;31mKeyError\u001b[0m                                  Traceback (most recent call last)",
      "\u001b[0;32m/tmp/ipykernel_23399/3685074693.py\u001b[0m in \u001b[0;36m<module>\u001b[0;34m\u001b[0m\n\u001b[1;32m     31\u001b[0m         \u001b[0;31m# only ambiguities left, assign arbitrary\u001b[0m\u001b[0;34m\u001b[0m\u001b[0;34m\u001b[0m\u001b[0;34m\u001b[0m\u001b[0m\n\u001b[1;32m     32\u001b[0m         \u001b[0mval\u001b[0m\u001b[0;34m,\u001b[0m \u001b[0mindices1\u001b[0m \u001b[0;34m=\u001b[0m \u001b[0mmol1_equiv\u001b[0m\u001b[0;34m.\u001b[0m\u001b[0mpopitem\u001b[0m\u001b[0;34m(\u001b[0m\u001b[0;34m)\u001b[0m\u001b[0;34m\u001b[0m\u001b[0;34m\u001b[0m\u001b[0m\n\u001b[0;32m---> 33\u001b[0;31m         \u001b[0mindices2\u001b[0m \u001b[0;34m=\u001b[0m \u001b[0mmol2_equiv\u001b[0m\u001b[0;34m.\u001b[0m\u001b[0mpop\u001b[0m\u001b[0;34m(\u001b[0m\u001b[0mval\u001b[0m\u001b[0;34m)\u001b[0m\u001b[0;34m\u001b[0m\u001b[0;34m\u001b[0m\u001b[0m\n\u001b[0m\u001b[1;32m     34\u001b[0m         \u001b[0;32mfor\u001b[0m \u001b[0mindex1\u001b[0m\u001b[0;34m,\u001b[0m \u001b[0mindex2\u001b[0m \u001b[0;32min\u001b[0m \u001b[0mzip\u001b[0m\u001b[0;34m(\u001b[0m\u001b[0mindices1\u001b[0m\u001b[0;34m,\u001b[0m \u001b[0mindices2\u001b[0m\u001b[0;34m)\u001b[0m\u001b[0;34m:\u001b[0m\u001b[0;34m\u001b[0m\u001b[0;34m\u001b[0m\u001b[0m\n\u001b[1;32m     35\u001b[0m             \u001b[0;31m# TODO: should be at least determined by distance to origin!\u001b[0m\u001b[0;34m\u001b[0m\u001b[0;34m\u001b[0m\u001b[0;34m\u001b[0m\u001b[0m\n",
      "\u001b[0;31mKeyError\u001b[0m: ((0, 1), (0, 1), (0, 3), (0, 7), (0, 17), (0, 41), (0, 99))"
     ]
    }
   ],
   "source": [
    "from rdkit.Chem.rdmolops import GetAdjacencyMatrix\n",
    "\n",
    "#def morgan_unique_matching(mol1, mol2):\n",
    "mol1 = substructure_difficult\n",
    "mol2 = new_xyz_mol\n",
    "\n",
    "positions1 = position(list(mol1.GetAtoms()))\n",
    "positions2 = position(list(mol2.GetAtoms()))\n",
    "\n",
    "mol1_adj = GetAdjacencyMatrix(mol1)\n",
    "mol2_adj = GetAdjacencyMatrix(mol2)\n",
    "mol1_vector = np.array([[0, 1] for a in mol1.GetAtoms()])    \n",
    "mol2_vector = np.array([[0, 1] for a in mol2.GetAtoms()])    \n",
    "\n",
    "mol1_match_mol2 = np.full(mol1_vector.shape[0], -1, dtype=int)\n",
    "mol2_match_mol1 = np.full(mol2_vector.shape[0], -1, dtype=int)\n",
    "\n",
    "# find equivalence classes so far:\n",
    "mol1_equiv = {(tuple(val),) : np.where((mol1_vector[:, 0] == val[0]) & (mol1_vector[:, 1] == val[1]))[0] for val in np.unique(mol1_vector, axis=0)}\n",
    "mol2_equiv = {(tuple(val),) : np.where((mol2_vector[:, 0] == val[0]) & (mol2_vector[:, 1] == val[1]))[0] for val in np.unique(mol2_vector, axis=0)}\n",
    "\n",
    "unmatched_indices_1 = []\n",
    "unmatched_indices_2 = []\n",
    "\n",
    "# find matches so far:\n",
    "state = 1\n",
    "assigned_count = 0\n",
    "changes = True\n",
    "while(len(mol1_equiv) > 0 and len(mol2_equiv) > 0):\n",
    "    if not changes:\n",
    "        # only ambiguities left, assign arbitrary\n",
    "        val, indices1 = mol1_equiv.popitem()\n",
    "        indices2 = mol2_equiv.pop(val)\n",
    "        for index1, index2 in zip(indices1, indices2):\n",
    "            # TODO: should be at least determined by distance to origin!\n",
    "            mol1_vector[index1][0] = assigned_count\n",
    "            mol2_vector[index2][0] = assigned_count\n",
    "            mol1_match_mol2[index1] = index2\n",
    "            mol2_match_mol1[index2] = index1\n",
    "            assigned_count += 1\n",
    "        if len(indices1) >= len(indices2):\n",
    "            # assign remaining indices2 to unmatched_indices_2\n",
    "            unmatched_indices_2.extend(indices2[len(indices1):])\n",
    "        else:\n",
    "            unmatched_indices_1.extend(indices1[len(indices2):])\n",
    "    to_remove_1 = []\n",
    "    to_remove_2 = []\n",
    "    for val, val_atom_indices in mol1_equiv.items():\n",
    "        if len(val_atom_indices) == 1 and len(mol2_equiv.get(val, [])) == 1:\n",
    "            mol1_vector[val_atom_indices[0]][0] = assigned_count \n",
    "            mol2_vector[mol2_equiv[val][0]][0] = assigned_count\n",
    "            assigned_count += 1\n",
    "            mol1_match_mol2[val_atom_indices[0]] = mol2_equiv[val][0]\n",
    "            mol2_match_mol1[mol2_equiv[val][0]] = val_atom_indices[0]\n",
    "            to_remove_1.append(val)\n",
    "            to_remove_2.append(val)\n",
    "        elif val not in mol2_equiv:\n",
    "            unmatched_indices_1.extend(val_atom_indices)\n",
    "            to_remove_1.append(val)\n",
    "    for val, val_atom_indices in mol2_equiv.items():\n",
    "        if val not in mol1_equiv:\n",
    "            unmatched_indices_2.extend(val_atom_indices)\n",
    "            to_remove_2.append(val)\n",
    "    \n",
    "    for val in to_remove_1:\n",
    "        del mol1_equiv[val]\n",
    "    for val in to_remove_2:\n",
    "        del mol2_equiv[val]\n",
    "\n",
    "    next_vector_1 = mol1_adj @ mol1_vector\n",
    "    next_vector_1[mol1_match_mol2 != -1] = mol1_vector[mol1_match_mol2 != -1] # assigned atoms don't change their values any more\n",
    "    mol1_vector = next_vector_1\n",
    "    next_vector_2 = mol2_adj @ mol2_vector\n",
    "    next_vector_2[mol2_match_mol1 != -1] = mol2_vector[mol2_match_mol1 != -1] # assigned atoms don't change their values any more\n",
    "    mol2_vector = next_vector_2\n",
    "    next_mol1_equiv = {}\n",
    "    changes = False\n",
    "    for val, equiv_atom_indices in mol1_equiv.items():\n",
    "        mol1_values = mol1_vector[equiv_atom_indices]\n",
    "        new_values = {(*val, tuple(new_val)) : equiv_atom_indices[np.where((mol1_values[:, 0] == new_val[0]) & (mol1_values[:, 1] == new_val[1]))[0]] for new_val in np.unique(mol1_values, axis = 0)}\n",
    "        next_mol1_equiv.update(new_values)\n",
    "        if len(new_values) > 1:\n",
    "            changes = True\n",
    "\n",
    "    next_mol2_equiv = {}\n",
    "    for val, equiv_atom_indices in mol2_equiv.items():\n",
    "        mol2_values = mol2_vector[equiv_atom_indices]\n",
    "        new_values = {(*val, tuple(new_val)) : equiv_atom_indices[np.where((mol2_values[:, 0] == new_val[0]) & (mol2_values[:, 1] == new_val[1]))[0]] for new_val in np.unique(mol2_values, axis = 0)}\n",
    "        next_mol2_equiv.update(new_values)\n",
    "        if len(new_values) > 1:\n",
    "            changes = True\n",
    "    mol1_equiv = next_mol1_equiv\n",
    "    mol2_equiv = next_mol2_equiv\n",
    "    print(f\"{mol1_match_mol2=}\")\n",
    "    visualize_positions = []\n",
    "    labels = []\n",
    "    for val, equiv_atom_indices in mol1_equiv.items():\n",
    "        visualize_positions.extend(positions1[equiv_atom_indices])\n",
    "        labels.extend([str(val)] * len(equiv_atom_indices))\n",
    "    visualization_group.append(pmv.Labels(visualize_positions, labels, name = f\"mol1_equiv\", state = state))\n",
    "    visualize_positions = []\n",
    "    labels = []\n",
    "    for val, equiv_atom_indices in mol2_equiv.items():\n",
    "        visualize_positions.extend(positions2[equiv_atom_indices])\n",
    "        labels.extend([str(val)] * len(equiv_atom_indices))\n",
    "    visualization_group.append(pmv.Labels(visualize_positions, labels, name = f\"mol2_equiv\", state = state))\n",
    "    state += 1\n",
    "    \n",
    "\n",
    "\n",
    "\n",
    "\n",
    "print(mol1_match_mol2)\n",
    "print(mol2_match_mol1)\n",
    "print(unmatched_indices_1)\n",
    "print(unmatched_indices_2)\n",
    "# deal with unmatched atoms:\n",
    "\"\"\"\n",
    "# construct kdtree from matched atoms in mol1\n",
    "from scipy.spatial import cKDTree, Delaunay\n",
    "mol1_matched_atoms = mol1.GetAtoms()[mol1_match_mol2 != -1]\n",
    "mol1_matched_positions = position(mol1_matched_atoms)\n",
    "mol1_matched_tree = cKDTree(mol1_matched_positions)\n",
    "mol2_matched_atoms = mol2.GetAtoms()[mol2_match_mol1 != -1][mol2_match_mol1[mol2_match_mol1 != -1]]\n",
    "mol2_matched_positions = position(mol2_matched_atoms)\n",
    "mol2_matched_tree = cKDTree(mol2_matched_positions)\n",
    "\n",
    "# try to determine matching atom by position relative to 3 closest matched atoms\n",
    "unmatched_coordinates1 = []\n",
    "for unmatched_index1 in unmatched_indices_1:\n",
    "    unmatched_closest_indices = mol1_matched_tree.query(mol1.GetConformer().GetAtomPosition(unmatched_index1), k = 3)[1]\n",
    "    unmatched_closest_positions = mol1_matched_positions[unmatched_closest_indices]\n",
    "    delauney = Delaunay(unmatched_closest_positions)\n",
    "\n",
    "\"\"\"\n",
    "\n",
    "\n",
    "# for equivalence classes with multiple atoms for either molecule, repeat:\n",
    "        \n"
   ]
  },
  {
   "cell_type": "code",
   "execution_count": null,
   "metadata": {},
   "outputs": [],
   "source": [
    "visualization_group.write(\"visualization_group.py\")"
   ]
  },
  {
   "cell_type": "code",
   "execution_count": null,
   "metadata": {},
   "outputs": [
    {
     "name": "stdout",
     "output_type": "stream",
     "text": [
      "[[1. 1. 1. 1. 1. 1. 1. 1. 1. 1. 1. 1. 1. 1. 1. 1. 1. 1. 1. 1. 1. 1. 1.]\n",
      " [3. 2. 3. 1. 4. 4. 3. 3. 3. 3. 3. 1. 1. 1. 1. 1. 1. 1. 1. 1. 1. 1. 1.]]\n",
      "values=array([[1., 1.],\n",
      "       [1., 2.],\n",
      "       [1., 3.],\n",
      "       [1., 4.]]), counts=array([13,  1,  7,  2]), indices=array([3, 1, 0, 4])\n",
      "[[1. 1. 1. 1. 1. 1. 1. 1. 1. 1. 1. 1. 1. 1. 1. 1. 1. 1. 1. 1. 1. 1. 1.]\n",
      " [3. 2. 3. 1. 4. 4. 3. 3. 3. 3. 3. 1. 1. 1. 1. 1. 1. 1. 1. 1. 1. 1. 1.]\n",
      " [8. 6. 8. 3. 6. 6. 7. 6. 7. 7. 6. 3. 3. 4. 4. 4. 4. 4. 4. 3. 3. 3. 3.]]\n",
      "values=array([[1., 1., 3.],\n",
      "       [1., 1., 4.],\n",
      "       [1., 2., 6.],\n",
      "       [1., 3., 6.],\n",
      "       [1., 3., 7.],\n",
      "       [1., 3., 8.],\n",
      "       [1., 4., 6.]]), counts=array([7, 6, 1, 2, 3, 2, 2]), indices=array([ 3, 13,  1,  7,  6,  0,  4])\n",
      "[[ 1.  1.  1.  1.  1.  1.  1.  1.  1.  1.  1.  1.  1.  1.  1.  1.  1.  1.\n",
      "   1.  1.  1.  1.  1.]\n",
      " [ 3.  2.  3.  1.  4.  4.  3.  3.  3.  3.  3.  1.  1.  1.  1.  1.  1.  1.\n",
      "   1.  1.  1.  1.  1.]\n",
      " [ 8.  6.  8.  3.  6.  6.  7.  6.  7.  7.  6.  3.  3.  4.  4.  4.  4.  4.\n",
      "   4.  3.  3.  3.  3.]\n",
      " [17. 12. 17.  8. 20. 20. 16. 16. 17. 16. 16.  7.  8.  6.  6.  6.  6.  6.\n",
      "   6.  6.  7.  7.  6.]]\n",
      "values=array([[ 1.,  1.,  3.,  6.],\n",
      "       [ 1.,  1.,  3.,  7.],\n",
      "       [ 1.,  1.,  3.,  8.],\n",
      "       [ 1.,  1.,  4.,  6.],\n",
      "       [ 1.,  2.,  6., 12.],\n",
      "       [ 1.,  3.,  6., 16.],\n",
      "       [ 1.,  3.,  7., 16.],\n",
      "       [ 1.,  3.,  7., 17.],\n",
      "       [ 1.,  3.,  8., 17.],\n",
      "       [ 1.,  4.,  6., 20.]]), counts=array([2, 3, 2, 6, 1, 2, 2, 1, 2, 2]), indices=array([19, 11,  3, 13,  1,  7,  6,  8,  0,  4])\n"
     ]
    }
   ],
   "source": [
    "# instead match by topology first:\n",
    "\n",
    "vector_mol1 = np.ones((mol1.GetNumAtoms()))\n",
    "vector_mol2 = np.ones((mol2.GetNumAtoms()))\n",
    "\n",
    "mol1_adj = GetAdjacencyMatrix(mol1)\n",
    "mol2_adj = GetAdjacencyMatrix(mol2)\n",
    "\n",
    "visualization_group = pmv.Group(name = \"visualization_group\")\n",
    "state = 1\n",
    "next_vector_mol1 = mol1_adj @ vector_mol1\n",
    "visualization_group.append(pmv.Points(position(list(mol1.GetAtoms())), vector_mol1, name = \"mol1\", state = state))\n",
    "visualization_group.append(pmv.Labels(position(list(mol1.GetAtoms())), labels=vector_mol1, name = \"mol1_labels\", state = state))\n",
    "next_vector_mol2 = mol2_adj @ vector_mol2\n",
    "visualization_group.append(pmv.Points(np.array(position(list(mol2.GetAtoms()))), vector_mol2, name = \"mol2\", state = state))\n",
    "visualization_group.append(pmv.Labels(np.array(position(list(mol2.GetAtoms()))), labels=vector_mol2, name = \"mol2_labels\", state = state))\n",
    "histories_mol1 = [vector_mol1]\n",
    "histories_mol2 = [vector_mol2]\n",
    "\n",
    "while np.any(np.argsort(next_vector_mol1) != np.argsort(vector_mol1)):\n",
    "    vector_mol1 = next_vector_mol1\n",
    "    vector_mol2 = next_vector_mol2\n",
    "    histories_mol1.append(vector_mol1)\n",
    "    histories_mol2.append(vector_mol2)\n",
    "    print(np.vstack(histories_mol1))\n",
    "    values, indices, counts = np.unique(np.vstack(histories_mol1).T, axis = 0, return_counts = True, return_index=True)\n",
    "    print(f\"{values=}, {counts=}, {indices=}\")\n",
    "\n",
    "\n",
    "    state += 1\n",
    "    visualization_group.append(pmv.Points(position(list(mol1.GetAtoms())), vector_mol1, name = \"mol1\", state = state))\n",
    "    visualization_group.append(pmv.Labels(position(list(mol1.GetAtoms())), labels=vector_mol1, name = \"mol1_labels\", state = state))\n",
    "    visualization_group.append(pmv.Points(np.array(position(list(mol2.GetAtoms())) ), vector_mol2, name = \"mol2\", state = state))\n",
    "    visualization_group.append(pmv.Labels(np.array(position(list(mol2.GetAtoms()))), labels=vector_mol2, name = \"mol2_labels\", state = state))\n",
    "    next_vector_mol1 = mol1_adj @ vector_mol1\n",
    "    next_vector_mol2 = mol2_adj @ vector_mol2\n",
    "    if state > 3:\n",
    "        break\n",
    "visualization_group.write(\"topolgy_based.py\")"
   ]
  },
  {
   "cell_type": "code",
   "execution_count": null,
   "metadata": {},
   "outputs": [],
   "source": [
    "mol = mol1\n",
    "def topology_history(mol):\n",
    "    vector = np.ones((mol.GetNumAtoms()))\n",
    "    adj = GetAdjacencyMatrix(mol)\n",
    "    next_vector = adj @ vector\n",
    "    histories = []\n",
    "    last_unique = None\n",
    "    while last_unique != (last_unique := len(np.unique(vector))):\n",
    "        histories.append(vector)\n",
    "        vector = next_vector\n",
    "        next_vector = adj @ vector\n",
    "        #next_vector /= np.linalg.norm(next_vector)\n",
    "    return np.around(np.vstack(histories).T, 5)"
   ]
  },
  {
   "cell_type": "code",
   "execution_count": null,
   "metadata": {},
   "outputs": [],
   "source": [
    "mol1 = substructure_difficult\n",
    "mol2 = new_xyz_mol"
   ]
  },
  {
   "cell_type": "code",
   "execution_count": null,
   "metadata": {},
   "outputs": [],
   "source": [
    "history1 = topology_history(mol1)\n",
    "history1_group = pmv.Group(name = \"history1_group\")\n",
    "state = 1\n",
    "for hist in history1.T:\n",
    "    history1_group.append(pmv.Labels(position(list(mol1.GetAtoms())), labels=hist, name = \"mol1_history\", state = state))\n",
    "    state += 1\n",
    "history1_group.write(\"history1.py\")"
   ]
  },
  {
   "cell_type": "code",
   "execution_count": null,
   "metadata": {},
   "outputs": [],
   "source": [
    "history2 = topology_history(mol2)\n",
    "history2_group = pmv.Group(name = \"history2_group\")\n",
    "state = 1\n",
    "for hist in history2.T:\n",
    "    history2_group.append(pmv.Labels(position(list(mol2.GetAtoms())), labels=hist, name = \"mol2_history\", state = state))\n",
    "    state += 1\n",
    "history2_group.write(\"history2.py\")"
   ]
  },
  {
   "cell_type": "code",
   "execution_count": null,
   "metadata": {},
   "outputs": [],
   "source": [
    "history2 = topology_history(mol2)"
   ]
  },
  {
   "cell_type": "code",
   "execution_count": null,
   "metadata": {},
   "outputs": [
    {
     "data": {
      "text/plain": [
       "array([[  1.,   1.,   3.,   6.,  16.,  34.],\n",
       "       [  1.,   1.,   3.,   7.,  16.,  40.],\n",
       "       [  1.,   1.,   3.,   7.,  17.,  39.],\n",
       "       [  1.,   1.,   3.,   8.,  17.,  45.],\n",
       "       [  1.,   1.,   4.,   6.,  20.,  35.],\n",
       "       [  1.,   2.,   6.,  12.,  32.,  68.],\n",
       "       [  1.,   3.,   6.,  16.,  34.,  88.],\n",
       "       [  1.,   3.,   7.,  16.,  40.,  89.],\n",
       "       [  1.,   3.,   7.,  17.,  39.,  97.],\n",
       "       [  1.,   3.,   8.,  17.,  45.,  97.],\n",
       "       [  1.,   4.,   6.,  20.,  35., 105.]])"
      ]
     },
     "execution_count": 59,
     "metadata": {},
     "output_type": "execute_result"
    }
   ],
   "source": [
    "np.unique(history1, axis = 0)"
   ]
  },
  {
   "cell_type": "code",
   "execution_count": null,
   "metadata": {},
   "outputs": [
    {
     "name": "stdout",
     "output_type": "stream",
     "text": [
      "iteration 6\n",
      "iteration 5\n",
      "Matching atoms [20] to [16 17 19]\n",
      "(1.0, 1.0, 3.0, 7.0, 17.0)\n",
      "iteration 4\n",
      "Matching atoms [11 20 21] to [ 8  9 16 17 19]\n",
      "(1.0, 1.0, 3.0, 7.0)\n",
      "Matching atoms [13 14 15 16 17 18] to [21 22 23]\n",
      "(1.0, 1.0, 4.0, 6.0)\n",
      "Matching atoms [8] to [14 15 18]\n",
      "(1.0, 3.0, 7.0, 17.0)\n",
      "iteration 3\n",
      "Matching atoms [ 3 11 12 19 20 21 22] to [ 7  8  9 16 17 19]\n",
      "(1.0, 1.0, 3.0)\n",
      "Matching atoms [6 8 9] to [ 5  6 14 15 18]\n",
      "(1.0, 3.0, 7.0)\n",
      "Matching atoms [4 5] to [20]\n",
      "(1.0, 4.0, 6.0)\n",
      "Matching atoms [13 14 15 16 17 18] to [11 12 13 21 22 23]\n",
      "(1.0, 1.0, 4.0)\n",
      "iteration 2\n",
      "Matching atoms [ 3 11 12 13 14 15 16 17 18 19 20 21 22] to [ 7  8  9 11 12 13 16 17 19 21 22 23]\n",
      "(1.0, 1.0)\n",
      "Matching atoms [1] to [0]\n",
      "(1.0, 2.0)\n",
      "Matching atoms [ 0  2  6  7  8  9 10] to [ 1  3  4  5  6 14 15 18]\n",
      "(1.0, 3.0)\n",
      "Matching atoms [4 5] to [ 2 10 20]\n",
      "(1.0, 4.0)\n",
      "iteration 1\n",
      "Matching atoms [ 0  1  2  3  4  5  6  7  8  9 10 11 12 13 14 15 16 17 18 19 20 21 22] to [ 0  1  2  3  4  5  6  7  8  9 10 11 12 13 14 15 16 17 18 19 20 21 22 23]\n",
      "(1.0,)\n"
     ]
    }
   ],
   "source": [
    "# going down from longest history, we search for same values in both histories\n",
    "# if we find a match, we can assign the atoms to each other\n",
    "\n",
    "history_comparison\n",
    "\n",
    "for i in range(min(history1.shape[1], history2.shape[1]), 0, -1):\n",
    "    vals, indices = np.unique(history1[:, :i], axis = 0, return_inverse = True)\n",
    "    history1_dict = {tuple(val) : np.where(indices == i)[0] for i, val in enumerate(vals)}\n",
    "    vals, indices = np.unique(history2[:, :i], axis = 0, return_inverse = True)\n",
    "    history2_dict = {tuple(val) : np.where(indices == i)[0] for i, val in enumerate(vals)}\n",
    "    intersections = set(history1_dict.keys()).intersection(set(history2_dict.keys()))\n",
    "    print(f\"iteration {i}\")\n",
    "    for intersection in intersections:\n",
    "        # we found a match\n",
    "        \n",
    "        print(f\"Matching atoms {history1_dict[intersection]} to {history2_dict[intersection]}\")\n",
    "        print(intersection)"
   ]
  },
  {
   "cell_type": "code",
   "execution_count": null,
   "metadata": {},
   "outputs": [],
   "source": [
    "from scipy.optimize import linear_sum_assignment"
   ]
  },
  {
   "cell_type": "code",
   "execution_count": null,
   "metadata": {},
   "outputs": [],
   "source": [
    "M_1 = np.array([[0, 1, 2, 2], [1, 0, 1, 1], [2, 1, 0, 2], [2, 1, 2, 0]])\n",
    "M_2 = np.array([[0, 1, 1, 1], [1, 0, 2, 2], [1, 2, 0, 2], [1, 2, 2, 0]])"
   ]
  },
  {
   "cell_type": "code",
   "execution_count": null,
   "metadata": {},
   "outputs": [],
   "source": [
    "cost_matrix = M_1.T @ M_2"
   ]
  },
  {
   "cell_type": "code",
   "execution_count": null,
   "metadata": {},
   "outputs": [],
   "source": [
    "assignment = linear_sum_assignment(cost_matrix, maximize=True)"
   ]
  },
  {
   "cell_type": "code",
   "execution_count": null,
   "metadata": {},
   "outputs": [],
   "source": [
    "permutation_matrix = np.zeros(cost_matrix.shape, dtype=int)\n",
    "permutation_matrix[assignment] = 1"
   ]
  },
  {
   "cell_type": "code",
   "execution_count": null,
   "metadata": {},
   "outputs": [
    {
     "data": {
      "text/plain": [
       "array([[0, 1, 0, 0],\n",
       "       [1, 0, 0, 0],\n",
       "       [0, 0, 1, 0],\n",
       "       [0, 0, 0, 1]])"
      ]
     },
     "execution_count": 72,
     "metadata": {},
     "output_type": "execute_result"
    }
   ],
   "source": [
    "permutation_matrix"
   ]
  },
  {
   "cell_type": "code",
   "execution_count": null,
   "metadata": {},
   "outputs": [
    {
     "data": {
      "text/plain": [
       "array(['C', 'G', 'A', 'D', 'E', 'B', 'F', 'H'], dtype='<U1')"
      ]
     },
     "execution_count": 79,
     "metadata": {},
     "output_type": "execute_result"
    }
   ],
   "source": [
    "M_1 = np.array([\n",
    "    [0, 1, 2, 3, 4, 3, 2, 4],\n",
    "    [1, 0, 1, 2, 3, 2, 1, 3],\n",
    "    [2, 1, 0, 1, 2, 3, 2, 2],\n",
    "    [3, 2, 1, 0, 1, 2, 3, 1],\n",
    "    [4, 3, 2, 1, 0, 1, 2, 2],\n",
    "    [3, 2, 3, 2, 1, 0, 1, 3],\n",
    "    [2, 1, 2, 3, 2, 1, 0, 4],\n",
    "    [4, 3 ,2, 1, 2, 3 ,4 ,0]])\n",
    "M_2 = np.array([\n",
    "    [0, 2, 2, 1, 3, 1, 2, 2],\n",
    "    [2, 0, 2, 2, 1, 1, 1, 3],\n",
    "    [2, 2, 0, 3, 3, 1, 3, 4],\n",
    "    [1, 2, 3, 0, 3, 2, 1, 1],\n",
    "    [3, 1, 3, 3, 0, 2, 2, 4],\n",
    "    [1, 1, 1, 2, 2, 0, 2, 3],\n",
    "    [2, 1, 3, 1, 2, 2, 0, 2],\n",
    "    [2, 3, 4, 1, 4, 3, 2, 0]])\n",
    "cost_matrix = M_1.T @ M_2\n",
    "assignment = linear_sum_assignment(cost_matrix, maximize=True)\n",
    "permutation_matrix = np.zeros(cost_matrix.shape, dtype=int)\n",
    "permutation_matrix[assignment] = 1\n",
    "np.array(list(\"ABCDEFGH\"))[np.arange(8) @ permutation_matrix]"
   ]
  },
  {
   "cell_type": "code",
   "execution_count": 16,
   "metadata": {},
   "outputs": [],
   "source": [
    "from collections import deque\n",
    "\n",
    "def convert_matrix_to_list(graph_matrix):\n",
    "    adjacency_list = {}\n",
    "    for i, row in enumerate(graph_matrix):\n",
    "        adjacency_list[i] = [j for j, val in enumerate(row) if val == 1]\n",
    "    return adjacency_list\n",
    "\n",
    "def bfs_shortest_path(graph_list, start):\n",
    "    distance = [-1 for vertex in graph_list]\n",
    "    queue = deque([start])\n",
    "\n",
    "    distance[start] = 0\n",
    "\n",
    "    while queue:\n",
    "        vertex = queue.popleft()\n",
    "        for neighbor in graph_list[vertex]:\n",
    "            if distance[neighbor] == -1:\n",
    "                distance[neighbor] = distance[vertex] + 1\n",
    "                queue.append(neighbor)\n",
    "    \n",
    "    return distance"
   ]
  },
  {
   "cell_type": "code",
   "execution_count": 17,
   "metadata": {},
   "outputs": [
    {
     "data": {
      "image/png": "[encoded data removed]",
      "text/plain": [
       "<rdkit.Chem.rdchem.Mol at 0x7f0d696f54a0>"
      ]
     },
     "execution_count": 17,
     "metadata": {},
     "output_type": "execute_result"
    }
   ],
   "source": [
    "mol1"
   ]
  },
  {
   "cell_type": "code",
   "execution_count": 18,
   "metadata": {},
   "outputs": [
    {
     "data": {
      "image/png": "[encoded data removed]",
      "text/plain": [
       "<rdkit.Chem.rdchem.Mol at 0x7f0d69677c80>"
      ]
     },
     "execution_count": 18,
     "metadata": {},
     "output_type": "execute_result"
    }
   ],
   "source": [
    "mol2"
   ]
  },
  {
   "cell_type": "code",
   "execution_count": 21,
   "metadata": {},
   "outputs": [],
   "source": [
    "mol1_adj_list = convert_matrix_to_list(mol1_adj)\n",
    "mol2_adj_list = convert_matrix_to_list(mol2_adj)\n",
    "\n",
    "topological_distance_M_mol1 = np.array([bfs_shortest_path(mol1_adj_list, i) for i in range(mol1.GetNumAtoms())])\n",
    "topological_distance_M_mol2 = np.array([bfs_shortest_path(mol2_adj_list, i) for i in range(mol2.GetNumAtoms())])\n"
   ]
  },
  {
   "cell_type": "code",
   "execution_count": null,
   "metadata": {},
   "outputs": [],
   "source": [
    "topological_distance_weight = lambda d: np.exp(-d) + 1\n"
   ]
  },
  {
   "cell_type": "code",
   "execution_count": 22,
   "metadata": {},
   "outputs": [
    {
     "data": {
      "text/plain": [
       "array([[ 0,  1,  1,  1,  2, -1, -1, -1, -1, -1, -1, -1, -1, -1, -1, -1,\n",
       "         2,  3,  3,  3,  2,  2,  2, -1],\n",
       "       [ 1,  0,  2,  2,  1, -1, -1, -1, -1, -1, -1, -1, -1, -1, -1, -1,\n",
       "         1,  2,  2,  2,  3,  3,  3, -1],\n",
       "       [ 1,  2,  0,  2,  3, -1, -1, -1, -1, -1, -1, -1, -1, -1, -1, -1,\n",
       "         3,  4,  4,  4,  3,  3,  3, -1],\n",
       "       [ 1,  2,  2,  0,  3, -1, -1, -1, -1, -1, -1, -1, -1, -1, -1, -1,\n",
       "         3,  4,  4,  4,  1,  1,  1, -1],\n",
       "       [ 2,  1,  3,  3,  0, -1, -1, -1, -1, -1, -1, -1, -1, -1, -1, -1,\n",
       "         2,  1,  1,  1,  4,  4,  4, -1],\n",
       "       [-1, -1, -1, -1, -1,  0,  2,  3,  2,  1,  2,  1,  4,  3,  2,  3,\n",
       "        -1, -1, -1, -1, -1, -1, -1,  1],\n",
       "       [-1, -1, -1, -1, -1,  2,  0,  3,  2,  3,  4,  1,  4,  3,  4,  5,\n",
       "        -1, -1, -1, -1, -1, -1, -1,  3],\n",
       "       [-1, -1, -1, -1, -1,  3,  3,  0,  1,  2,  1,  2,  1,  2,  3,  2,\n",
       "        -1, -1, -1, -1, -1, -1, -1,  4],\n",
       "       [-1, -1, -1, -1, -1,  2,  2,  1,  0,  3,  2,  1,  2,  1,  4,  3,\n",
       "        -1, -1, -1, -1, -1, -1, -1,  3],\n",
       "       [-1, -1, -1, -1, -1,  1,  3,  2,  3,  0,  1,  2,  3,  4,  1,  2,\n",
       "        -1, -1, -1, -1, -1, -1, -1,  2],\n",
       "       [-1, -1, -1, -1, -1,  2,  4,  1,  2,  1,  0,  3,  2,  3,  2,  1,\n",
       "        -1, -1, -1, -1, -1, -1, -1,  3],\n",
       "       [-1, -1, -1, -1, -1,  1,  1,  2,  1,  2,  3,  0,  3,  2,  3,  4,\n",
       "        -1, -1, -1, -1, -1, -1, -1,  2],\n",
       "       [-1, -1, -1, -1, -1,  4,  4,  1,  2,  3,  2,  3,  0,  3,  4,  3,\n",
       "        -1, -1, -1, -1, -1, -1, -1,  5],\n",
       "       [-1, -1, -1, -1, -1,  3,  3,  2,  1,  4,  3,  2,  3,  0,  5,  4,\n",
       "        -1, -1, -1, -1, -1, -1, -1,  4],\n",
       "       [-1, -1, -1, -1, -1,  2,  4,  3,  4,  1,  2,  3,  4,  5,  0,  3,\n",
       "        -1, -1, -1, -1, -1, -1, -1,  3],\n",
       "       [-1, -1, -1, -1, -1,  3,  5,  2,  3,  2,  1,  4,  3,  4,  3,  0,\n",
       "        -1, -1, -1, -1, -1, -1, -1,  4],\n",
       "       [ 2,  1,  3,  3,  2, -1, -1, -1, -1, -1, -1, -1, -1, -1, -1, -1,\n",
       "         0,  3,  3,  3,  4,  4,  4, -1],\n",
       "       [ 3,  2,  4,  4,  1, -1, -1, -1, -1, -1, -1, -1, -1, -1, -1, -1,\n",
       "         3,  0,  2,  2,  5,  5,  5, -1],\n",
       "       [ 3,  2,  4,  4,  1, -1, -1, -1, -1, -1, -1, -1, -1, -1, -1, -1,\n",
       "         3,  2,  0,  2,  5,  5,  5, -1],\n",
       "       [ 3,  2,  4,  4,  1, -1, -1, -1, -1, -1, -1, -1, -1, -1, -1, -1,\n",
       "         3,  2,  2,  0,  5,  5,  5, -1],\n",
       "       [ 2,  3,  3,  1,  4, -1, -1, -1, -1, -1, -1, -1, -1, -1, -1, -1,\n",
       "         4,  5,  5,  5,  0,  2,  2, -1],\n",
       "       [ 2,  3,  3,  1,  4, -1, -1, -1, -1, -1, -1, -1, -1, -1, -1, -1,\n",
       "         4,  5,  5,  5,  2,  0,  2, -1],\n",
       "       [ 2,  3,  3,  1,  4, -1, -1, -1, -1, -1, -1, -1, -1, -1, -1, -1,\n",
       "         4,  5,  5,  5,  2,  2,  0, -1],\n",
       "       [-1, -1, -1, -1, -1,  1,  3,  4,  3,  2,  3,  2,  5,  4,  3,  4,\n",
       "        -1, -1, -1, -1, -1, -1, -1,  0]])"
      ]
     },
     "execution_count": 22,
     "metadata": {},
     "output_type": "execute_result"
    }
   ],
   "source": [
    "topological_distance_M_mol1"
   ]
  },
  {
   "cell_type": "code",
   "execution_count": null,
   "metadata": {},
   "outputs": [],
   "source": [
    "history_1 = morgan_prop(new_xyz_mol, return_history=True)"
   ]
  },
  {
   "cell_type": "code",
   "execution_count": null,
   "metadata": {},
   "outputs": [
    {
     "name": "stderr",
     "output_type": "stream",
     "text": [
      "WARNING:root:No name provided for Group. Using default name: Group_0. It is highly recommended to provide meaningful names.\n"
     ]
    }
   ],
   "source": [
    "group = pmv.Group()\n",
    "for i, h in enumerate(history_1):\n",
    "    group.append(pmv.Points([position(a) for a in new_xyz_mol.GetAtoms()], h, name = \"history_1\", state = i + 1))\n",
    "group.write(\"history_1.py\")"
   ]
  },
  {
   "cell_type": "code",
   "execution_count": null,
   "metadata": {},
   "outputs": [
    {
     "name": "stderr",
     "output_type": "stream",
     "text": [
      "WARNING:root:No name provided for Group. Using default name: Group_1. It is highly recommended to provide meaningful names.\n"
     ]
    }
   ],
   "source": [
    "history_2 = morgan_prop(new_reference_mol, return_history=True)\n",
    "group = pmv.Group()\n",
    "for i, h in enumerate(history_2):\n",
    "    group.append(pmv.Points([position(a)+ [0, 0, 8] for a in new_reference_mol.GetAtoms()], h, name = \"history_2\", state = i + 1))\n",
    "group.write(\"history_2.py\")"
   ]
  },
  {
   "cell_type": "code",
   "execution_count": null,
   "metadata": {},
   "outputs": [
    {
     "name": "stderr",
     "output_type": "stream",
     "text": [
      "WARNING:root:Found ambiguous equivalent atoms matching [21] in molecule 1 to atoms [19, 20, 21, 22, 23] in molecule 2. Will match [21] to [19].\n",
      "WARNING:root:Found ambiguous equivalent atoms matching [19] in molecule 1 to atoms [6, 7, 8, 9, 10] in molecule 2. Will match [19] to [6].\n"
     ]
    },
    {
     "name": "stdout",
     "output_type": "stream",
     "text": [
      "[[  0.           0.           0.           0.           0.\n",
      "    0.           0.           0.           0.           0.\n",
      "    0.           0.           0.           0.           0.\n",
      "    0.           0.           0.           0.           0.\n",
      "    0.           0.           0.           0.        ]\n",
      " [  8.           6.           7.           1.           6.\n",
      "    6.           1.           1.           1.           1.\n",
      "    1.           1.          35.           6.           6.\n",
      "    6.           1.           1.           6.           6.\n",
      "    1.           1.           6.           1.        ]\n",
      " [ 14.          13.          11.33333333   8.           8.25\n",
      "    8.5          7.           7.           7.           7.\n",
      "    7.           7.          41.          21.66666667  10.33333333\n",
      "   10.33333333   7.           7.          10.33333333  10.33333333\n",
      "    7.           7.          10.33333333   7.        ]\n",
      " [ 27.          24.19444444  21.16666667  19.33333333  16.75\n",
      "   16.58333333  15.5         15.5         15.5         15.25\n",
      "   15.25        15.25        62.66666667  42.22222222  23.33333333\n",
      "   23.33333333  17.33333333  17.33333333  19.55555556  19.55555556\n",
      "   17.33333333  17.33333333  19.55555556  17.33333333]\n",
      " [ 51.19444444  45.83333333  41.2037037   40.5         34.23611111\n",
      "   33.5         32.08333333  32.08333333  32.08333333  32.\n",
      "   32.          32.         104.88888889  78.66666667  49.7037037\n",
      "   49.7037037   40.66666667  40.66666667  39.62962963  39.62962963\n",
      "   36.88888889  36.88888889  38.37037037  36.88888889]\n",
      " [ 97.02777778  88.04475309  81.14814815  81.7037037   69.69444444\n",
      "   67.86342593  65.58333333  65.58333333  65.58333333  66.23611111\n",
      "   66.23611111  66.23611111 183.55555556 146.7654321  102.69135802\n",
      "  102.69135802  90.37037037  90.37037037  81.28395062  81.28395062\n",
      "   76.51851852  76.51851852  77.08641975  75.25925926]\n",
      " [185.07253086 170.66820988 160.35210905 162.85185185 141.38271605\n",
      "  137.33796296 133.44675926 133.44675926 133.44675926 135.93055556\n",
      "  135.93055556 135.93055556 330.32098765 276.41152263 208.83127572\n",
      "  208.83127572 193.0617284  193.0617284  166.71604938 166.71604938\n",
      "  157.80246914 157.80246914 156.36213992 152.34567901]] [[  0.           0.           0.           0.           0.\n",
      "    0.           0.           0.           0.           0.\n",
      "    0.           0.           0.           0.           0.\n",
      "    0.           0.           0.           0.           0.\n",
      "    0.           0.           0.           0.        ]\n",
      " [  6.           7.           8.           6.           6.\n",
      "    6.           6.           6.           6.           6.\n",
      "    6.          35.           1.           1.           1.\n",
      "    1.           1.           1.           1.           1.\n",
      "    1.           1.           1.           1.        ]\n",
      " [ 20.          11.33333333  28.5          8.25         8.5\n",
      "   21.66666667  10.33333333  10.33333333  10.33333333  10.33333333\n",
      "   10.33333333  41.66666667   8.           7.           7.\n",
      "    7.           7.           7.           7.           7.\n",
      "    7.           7.           7.           7.        ]\n",
      " [ 42.4375      23.5         59.33333333  18.5         16.58333333\n",
      "   42.44444444  23.33333333  23.33333333  19.55555556  19.55555556\n",
      "   19.55555556  65.05555556  19.33333333  15.5         15.5\n",
      "   15.5         15.25        15.25        15.25        17.33333333\n",
      "   17.33333333  17.33333333  17.33333333  17.33333333]\n",
      " [ 84.03472222  49.61805556 113.07986111  40.546875    34.08333333\n",
      "   79.68518519  49.77777778  49.77777778  39.62962963  39.62962963\n",
      "   38.37037037 113.12731481  42.83333333  32.08333333  32.08333333\n",
      "   32.08333333  33.75        33.75        33.75        40.66666667\n",
      "   40.66666667  36.88888889  36.88888889  36.88888889]\n",
      " [163.12774884 103.26851852 211.66087963  86.86805556  70.55034722\n",
      "  150.57947531 103.10493827 103.10493827  81.30864198  81.30864198\n",
      "   77.08641975 205.39390432  92.45138889  66.16666667  66.16666667\n",
      "   66.16666667  74.296875    74.296875    74.296875    90.44444444\n",
      "   90.44444444  76.51851852  76.51851852  75.25925926]\n",
      " [314.92558835 211.97834684 395.92170621 183.37264902 145.99247685\n",
      "  287.7807356  210.54912551 210.54912551 166.87860082 166.87860082\n",
      "  156.37860082 380.51660558 195.71990741 136.71701389 136.71701389\n",
      "  136.71701389 161.16493056 161.16493056 161.16493056 193.54938272\n",
      "  193.54938272 157.82716049 157.82716049 152.34567901]]\n"
     ]
    },
    {
     "data": {
      "text/plain": [
       "array([ 2, 10,  1, 12,  3,  4, 13, 14, 15, 16, 17, 18, 11,  5,  0,  7, 20,\n",
       "       22,  8,  6, 21, 19,  9, 23])"
      ]
     },
     "execution_count": 16,
     "metadata": {},
     "output_type": "execute_result"
    }
   ],
   "source": [
    "substructure_match(new_reference_mol, xyz_file)"
   ]
  },
  {
   "cell_type": "code",
   "execution_count": null,
   "metadata": {},
   "outputs": [],
   "source": []
  }
 ],
 "metadata": {
  "kernelspec": {
   "display_name": "DD_py38",
   "language": "python",
   "name": "python3"
  },
  "language_info": {
   "codemirror_mode": {
    "name": "ipython",
    "version": 3
   },
   "file_extension": ".py",
   "mimetype": "text/x-python",
   "name": "python",
   "nbconvert_exporter": "python",
   "pygments_lexer": "ipython3",
   "version": "3.8.12"
  }
 },
 "nbformat": 4,
 "nbformat_minor": 2
}
