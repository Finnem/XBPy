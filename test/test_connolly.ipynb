{
 "cells": [
  {
   "cell_type": "code",
   "execution_count": 1,
   "metadata": {},
   "outputs": [],
   "source": [
    "from xbpy import sample_solvent_accessible_surface, rdutil\n",
    "import pymolviz as pmv\n",
    "from rdkit import Chem\n",
    "\n",
    "import numpy as np"
   ]
  },
  {
   "cell_type": "code",
   "execution_count": 2,
   "metadata": {},
   "outputs": [],
   "source": [
    "test_molecule = next(rdutil.read_molecules(\"aligned1.pdb\"))"
   ]
  },
  {
   "cell_type": "code",
   "execution_count": 3,
   "metadata": {},
   "outputs": [],
   "source": [
    "atom_coordinates = rdutil.position(test_molecule.GetAtoms())\n",
    "atom_vdw = rdutil.vdw_radius(test_molecule.GetAtoms())"
   ]
  },
  {
   "cell_type": "code",
   "execution_count": 4,
   "metadata": {},
   "outputs": [
    {
     "name": "stdout",
     "output_type": "stream",
     "text": [
      "[list([0, 1, 2, 3, 4, 5, 6, 7, 8, 9, 10, 11, 12, 13, 14, 15, 16, 17, 18, 19, 20, 21, 22, 23, 24, 25, 26, 27, 28, 29, 30, 31, 32, 33, 34, 35, 36, 37, 38, 39, 40, 41, 42, 43, 44, 45, 46, 47, 48, 49, 50, 51, 52, 53, 54, 55, 56, 57, 58, 59, 60, 61, 62, 241, 242, 248])\n",
      " list([0, 1, 2, 3, 4, 5, 6, 7, 8, 9, 10, 11, 12, 13, 14, 15, 16, 17, 18, 19, 20, 21, 22, 23, 24, 25, 26, 27, 28, 29, 30, 31, 32, 33, 34, 35, 36, 37, 38, 39, 40, 41, 42, 43, 44, 45, 46, 47, 48, 49, 54, 55, 56, 57, 58, 59, 60, 61, 62, 63, 64, 65, 66, 67, 68, 69, 79, 80, 81, 82, 83, 84, 241, 242, 248])\n",
      " list([0, 1, 2, 3, 4, 5, 6, 7, 8, 9, 10, 11, 12, 13, 14, 15, 16, 17, 18, 19, 20, 21, 22, 23, 24, 25, 26, 27, 28, 29, 30, 31, 32, 33, 34, 35, 36, 37, 38, 39, 40, 41, 42, 43, 44, 45, 46, 47, 48, 49, 50, 51, 52, 53, 56, 57, 58, 59, 60, 61, 62, 63, 64, 65, 66, 67, 68, 69, 70, 71, 72, 73, 74, 83, 84])\n",
      " ...\n",
      " list([276, 284, 285, 292, 293, 297, 339, 340, 341, 342, 343, 344, 345, 346, 347, 348, 349, 350, 351, 352, 354, 355, 356, 357, 371, 372, 375, 902, 903, 917, 918, 919, 920, 933, 934, 935, 936, 949, 950, 1673, 1674, 1675, 1676, 1682, 1683, 1684, 1685, 1686, 1687, 1691, 1692, 1693, 1694, 1695, 1696, 1698, 1699, 1700, 1701, 1702, 1703, 1704, 1705, 1706, 1707, 1708, 1709, 1710, 1711, 1712])\n",
      " list([342, 343, 347, 348, 349, 354, 355, 371, 866, 876, 877, 886, 887, 888, 889, 898, 899, 900, 901, 902, 903, 913, 914, 915, 916, 917, 918, 919, 920, 929, 930, 931, 932, 933, 934, 935, 936, 944, 946, 947, 948, 949, 950, 961, 962, 1671, 1672, 1673, 1674, 1677, 1678, 1679, 1680, 1681, 1682, 1683, 1684, 1685, 1688, 1689, 1690, 1691, 1692, 1693, 1694, 1695, 1696, 1697, 1698, 1699, 1700, 1701, 1702, 1703, 1704, 1705, 1706, 1707, 1708, 1709, 1710, 1711, 1712])\n",
      " list([339, 340, 342, 343, 344, 347, 348, 349, 350, 351, 354, 355, 356, 357, 371, 372, 375, 888, 889, 900, 901, 902, 903, 915, 916, 917, 918, 919, 920, 931, 932, 933, 934, 935, 936, 946, 947, 948, 949, 950, 951, 961, 962, 963, 1681, 1682, 1683, 1684, 1685, 1686, 1687, 1689, 1690, 1691, 1692, 1693, 1694, 1695, 1696, 1697, 1698, 1699, 1700, 1701, 1702, 1703, 1704, 1705, 1706, 1707, 1708, 1709, 1710, 1711, 1712])]\n"
     ]
    }
   ],
   "source": [
    "points, directions = sample_solvent_accessible_surface(atom_coordinates, atom_vdw, 1.4, 0.25)"
   ]
  },
  {
   "cell_type": "code",
   "execution_count": 5,
   "metadata": {},
   "outputs": [
    {
     "data": {
      "text/plain": [
       "array([[ 0.928     ,  2.052     ,  4.489     ],\n",
       "       [ 1.44894453,  2.052     ,  4.44342326],\n",
       "       [ 1.18847227,  2.5031512 ,  4.44342326],\n",
       "       ...,\n",
       "       [ 2.74412083,  0.7164961 , -2.77544419],\n",
       "       [ 3.50824166, -0.607     , -2.77544419],\n",
       "       [ 2.89583509, -0.07824236, -3.04721819]])"
      ]
     },
     "execution_count": 5,
     "metadata": {},
     "output_type": "execute_result"
    }
   ],
   "source": [
    "points"
   ]
  },
  {
   "cell_type": "code",
   "execution_count": 6,
   "metadata": {},
   "outputs": [
    {
     "name": "stderr",
     "output_type": "stream",
     "text": [
      "WARNING:root:No name provided for Points. Using default name: Points_0. It is highly recommended to provide meaningful names.\n"
     ]
    },
    {
     "name": "stdout",
     "output_type": "stream",
     "text": [
      "(3426, 4)\n"
     ]
    }
   ],
   "source": [
    "pmv.Points(points, color = np.arange(len(points), dtype=float), colormap = \"rainbow\", transparency=.5).write(\"test_surface.py\")\n",
    "pmv.Lines(np.hstack([points, points - directions]), color = np.arange(len(points), dtype=float), colormap = \"rainbow\", name = \"Test_lines2\", render_as=\"cylinder\", linewidth=.05, transparency=0.5).write(\"test_surface_lines.py\")"
   ]
  },
  {
   "cell_type": "code",
   "execution_count": 7,
   "metadata": {},
   "outputs": [
    {
     "name": "stderr",
     "output_type": "stream",
     "text": [
      "WARNING:root:No name provided for Sphere. Using default name: Sphere_0. It is highly recommended to provide meaningful names.\n",
      "WARNING:root:No name provided for Sphere. Using default name: Sphere_1. It is highly recommended to provide meaningful names.\n",
      "WARNING:root:No name provided for Sphere. Using default name: Sphere_2. It is highly recommended to provide meaningful names.\n",
      "WARNING:root:No name provided for Sphere. Using default name: Sphere_3. It is highly recommended to provide meaningful names.\n",
      "WARNING:root:No name provided for Sphere. Using default name: Sphere_4. It is highly recommended to provide meaningful names.\n",
      "WARNING:root:No name provided for Sphere. Using default name: Sphere_5. It is highly recommended to provide meaningful names.\n",
      "WARNING:root:No name provided for Sphere. Using default name: Sphere_6. It is highly recommended to provide meaningful names.\n",
      "WARNING:root:No name provided for Sphere. Using default name: Sphere_7. It is highly recommended to provide meaningful names.\n",
      "WARNING:root:No name provided for Sphere. Using default name: Sphere_8. It is highly recommended to provide meaningful names.\n",
      "WARNING:root:No name provided for Sphere. Using default name: Sphere_9. It is highly recommended to provide meaningful names.\n",
      "WARNING:root:No name provided for Sphere. Using default name: Sphere_10. It is highly recommended to provide meaningful names.\n",
      "WARNING:root:No name provided for Sphere. Using default name: Sphere_11. It is highly recommended to provide meaningful names.\n",
      "WARNING:root:No name provided for Sphere. Using default name: Sphere_12. It is highly recommended to provide meaningful names.\n",
      "WARNING:root:No name provided for Sphere. Using default name: Sphere_13. It is highly recommended to provide meaningful names.\n",
      "WARNING:root:No name provided for Sphere. Using default name: Sphere_14. It is highly recommended to provide meaningful names.\n",
      "WARNING:root:No name provided for Sphere. Using default name: Sphere_15. It is highly recommended to provide meaningful names.\n",
      "WARNING:root:No name provided for Sphere. Using default name: Sphere_16. It is highly recommended to provide meaningful names.\n",
      "WARNING:root:No name provided for Group. Using default name: Group_0. It is highly recommended to provide meaningful names.\n"
     ]
    }
   ],
   "source": [
    "vdw_spheres = [pmv.Sphere(position, vdw_radius) for position, vdw_radius in zip(atom_coordinates, atom_vdw)]\n",
    "pmv.Group(vdw_spheres).write(\"test_vdw.py\")"
   ]
  },
  {
   "cell_type": "code",
   "execution_count": null,
   "metadata": {},
   "outputs": [],
   "source": []
  }
 ],
 "metadata": {
  "kernelspec": {
   "display_name": "DD_py38",
   "language": "python",
   "name": "python3"
  },
  "language_info": {
   "codemirror_mode": {
    "name": "ipython",
    "version": 3
   },
   "file_extension": ".py",
   "mimetype": "text/x-python",
   "name": "python",
   "nbconvert_exporter": "python",
   "pygments_lexer": "ipython3",
   "version": "3.8.12"
  }
 },
 "nbformat": 4,
 "nbformat_minor": 2
}
