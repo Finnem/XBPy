{
 "cells": [
  {
   "cell_type": "code",
   "execution_count": 1,
   "metadata": {},
   "outputs": [],
   "source": [
    "import pysmt\n",
    "from xbpy import rdutil\n",
    "import numpy as np"
   ]
  },
  {
   "cell_type": "code",
   "execution_count": 2,
   "metadata": {},
   "outputs": [],
   "source": [
    "from xbpy import possible_geometries, ideal_bond_lengths"
   ]
  },
  {
   "cell_type": "code",
   "execution_count": 3,
   "metadata": {},
   "outputs": [],
   "source": [
    "#test_mol = next(rdutil.read_molecules(\"test_cases/Mureidomycin E PDB.pdb\"))\n",
    "test_mol = next(rdutil.read_molecules(\"test_cases/generic_substruct_match_test.pdb\", proximityBonding=False))"
   ]
  },
  {
   "cell_type": "code",
   "execution_count": 4,
   "metadata": {},
   "outputs": [
    {
     "data": {
      "image/png": "[encoded data removed]",
      "text/plain": [
       "<rdkit.Chem.rdchem.Mol at 0x7f8bdfcf4190>"
      ]
     },
     "execution_count": 4,
     "metadata": {},
     "output_type": "execute_result"
    }
   ],
   "source": [
    "test_mol"
   ]
  },
  {
   "cell_type": "code",
   "execution_count": 5,
   "metadata": {},
   "outputs": [],
   "source": [
    "from itertools import combinations\n",
    "def get_pairswise_bond_angles(atom, position_array):\n",
    "    pairwise_bond_angles = {}\n",
    "    for neighbor1, neighbor2 in combinations([neighbor.GetIdx() for neighbor in atom.GetNeighbors()], 2):\n",
    "        pairwise_bond_angles[(neighbor1, neighbor2)] = calculate_angle(position_array[neighbor1], position_array[atom.GetIdx()], position_array[neighbor2])\n",
    "    return pairwise_bond_angles\n",
    "def calculate_angle(v1, v2, v3):\n",
    "    \"\"\"\n",
    "    Calculate the angle at v2 formed by v1-v2-v3 in degrees.\n",
    "    \"\"\"\n",
    "    a = np.array(v1) - np.array(v2)\n",
    "    b = np.array(v3) - np.array(v2)\n",
    "    cosine_angle = np.dot(a, b) / (np.linalg.norm(a) * np.linalg.norm(b))\n",
    "    # Clamp the cosine_angle to the valid range to avoid numerical issues\n",
    "    cosine_angle = np.clip(cosine_angle, -1.0, 1.0)\n",
    "    angle = np.degrees(np.arccos(cosine_angle))\n",
    "    return angle\n",
    "\n",
    "def get_all_pairwise_bond_angles(mol):\n",
    "    positions = rdutil.positions(mol)\n",
    "    pairwise_angles = {}\n",
    "    for atom in mol.GetAtoms():\n",
    "        center_atom_angles = {}\n",
    "        for neighbor1, neighbor2 in combinations([neighbor.GetIdx() for neighbor in atom.GetNeighbors()], 2):\n",
    "            angle = calculate_angle(positions[neighbor1], positions[atom.GetIdx()], positions[neighbor2])\n",
    "            center_atom_angles[(neighbor1, neighbor2)] = angle\n",
    "            center_atom_angles[(neighbor2, neighbor1)] = angle\n",
    "        pairwise_angles[atom.GetIdx()] = center_atom_angles\n",
    "    return pairwise_angles\n",
    "    \n",
    "def get_violating_atom_clusters(mol, all_pairwise_bond_angles, angle_tolerance = 10, add_hydrogens = False):\n",
    "    positions = rdutil.positions(mol)\n",
    "\n",
    "    violating_atoms = set()\n",
    "    considerable_geometries = {}\n",
    "    # id violating atoms\n",
    "    for atom in mol.GetAtoms():\n",
    "        pairwise_bond_angles = all_pairwise_bond_angles[atom.GetIdx()]\n",
    "        found_angles = set(pairwise_bond_angles.values())\n",
    "\n",
    "        # get geometry\n",
    "        this_possible_geometries = possible_geometries.get(atom.GetSymbol(), {}).get((len(atom.GetNeighbors()), int(atom.GetFormalCharge())), {})\n",
    "        if len(possible_geometries) == 0:\n",
    "            violating_atoms.add(atom.GetIdx())\n",
    "            continue\n",
    "\n",
    "        geometry_violation = True\n",
    "        #print(f\"Checking atom {atom.GetSymbol()}{atom.GetIdx()} with {len(atom.GetNeighbors())} neighbors and charge {atom.GetFormalCharge()} and possible_geometries {this_possible_geometries}\")\n",
    "        for possible_angles, possible_geometry_info in this_possible_geometries.items():\n",
    "            # check if all of the angles are within the allowed range\n",
    "            if not ((len(found_angles) == 0) and (len(possible_angles) == 0)):\n",
    "                try:\n",
    "                    angle_deviations = np.max(np.absolute(np.fromiter(found_angles, float, len(found_angles))[None, :] - np.array(possible_angles)[:, None]))\n",
    "                except ValueError:\n",
    "                    # if the found angles are not in the possible angles, this geometry is not possible\n",
    "                    #print(f\"Failed for atom {atom.GetSymbol()}{atom.GetIdx()} and possible angles {possible_angles}: as not all angles {found_angles} are in {possible_angles}\")\n",
    "                    continue\n",
    "                if angle_deviations > angle_tolerance:\n",
    "                    # if not, this geometry is not possible\n",
    "                    #print(f\"Failed for atom {atom.GetSymbol()}{atom.GetIdx()} and possible angles {possible_angles}: as not all angles {found_angles} are within the allowed range\")\n",
    "                    continue\n",
    "\n",
    "            # check bond orders\n",
    "            bond_order_violation = True\n",
    "            for bond_order in possible_geometry_info.get(\"bond_orders\", []):\n",
    "                bond_order = dict(bond_order)\n",
    "                for bond in atom.GetBonds():\n",
    "                    try:\n",
    "                        #print(bond.GetBondTypeAsDouble())\n",
    "                        bond_order[bond.GetBondTypeAsDouble()] -= 1\n",
    "                    except KeyError:\n",
    "                        #print(f\"Failed for atom {atom.GetSymbol()}{atom.GetIdx()} with bond {bond.GetIdx()} as {bond.GetBondTypeAsDouble()} is not in {bond_order}\")\n",
    "                        continue\n",
    "                if not any(bond_order.values()):\n",
    "                    bond_order_violation = False\n",
    "                    break\n",
    "                #print(f\"Failed for atom {atom.GetSymbol()}{atom.GetIdx()} with bond {bond.GetIdx()} as bond order violation is {bond_order}\")\n",
    "            if bond_order_violation:\n",
    "                #print(f\"Failed for atom {atom.GetSymbol()}{atom.GetIdx()} and possible angles {possible_angles}: as no valid bond order was found\")\n",
    "                continue\n",
    "            # if we reach this point, the geometry is possible\n",
    "            geometry_violation = False\n",
    "            considerable_geometries[atom.GetIdx()] = possible_angles\n",
    "        \n",
    "        if geometry_violation:\n",
    "            #print(f\"Failed for atom {atom.GetSymbol()}{atom.GetIdx()}\")\n",
    "            violating_atoms.add(atom.GetIdx())\n",
    "    return violating_atoms"
   ]
  },
  {
   "cell_type": "code",
   "execution_count": 6,
   "metadata": {},
   "outputs": [],
   "source": [
    "from rdkit import Chem\n",
    "\n",
    "def get_connected_subgraphs(mol, indices):\n",
    "    \"\"\"\n",
    "    Given an RDKit molecule and a set of atom indices, identifies the connected subgraphs\n",
    "    in the subgraph induced by the indices.\n",
    "\n",
    "    Args:\n",
    "        mol (rdkit.Chem.rdchem.Mol): The molecule.\n",
    "        indices (list or set of int): The atom indices to consider.\n",
    "\n",
    "    Returns:\n",
    "        list of sets of int: Each set is a connected component of atom indices.\n",
    "    \"\"\"\n",
    "    # Ensure indices are in a set for faster lookup\n",
    "    indices_set = set(indices)\n",
    "    \n",
    "    # Build adjacency list for the induced subgraph\n",
    "    adjacency = {idx: [] for idx in indices_set}\n",
    "    for bond in mol.GetBonds():\n",
    "        idx1 = bond.GetBeginAtomIdx()\n",
    "        idx2 = bond.GetEndAtomIdx()\n",
    "        # Include the bond if both atoms are in the specified indices\n",
    "        if idx1 in indices_set and idx2 in indices_set:\n",
    "            adjacency[idx1].append(idx2)\n",
    "            adjacency[idx2].append(idx1)\n",
    "\n",
    "    # Initialize variables for DFS\n",
    "    visited = set()\n",
    "    connected_components = []\n",
    "\n",
    "    # Perform DFS to find connected components\n",
    "    for idx in indices_set:\n",
    "        if idx not in visited:\n",
    "            stack = [idx]\n",
    "            component = set()\n",
    "            while stack:\n",
    "                current_idx = stack.pop()\n",
    "                if current_idx not in visited:\n",
    "                    visited.add(current_idx)\n",
    "                    component.add(current_idx)\n",
    "                    # Add neighbors to stack\n",
    "                    for neighbor in adjacency[current_idx]:\n",
    "                        if neighbor not in visited:\n",
    "                            stack.append(neighbor)\n",
    "            connected_components.append(component)\n",
    "    return connected_components\n",
    "\n",
    "\n",
    "all_bond_length = {}\n",
    "for bond in test_mol.GetBonds():\n",
    "    length = np.linalg.norm(rdutil.position(bond.GetBeginAtom()) - rdutil.position(bond.GetEndAtom()))\n",
    "    all_bond_length[(bond.GetBeginAtomIdx(), bond.GetEndAtomIdx())] = length\n",
    "    all_bond_length[(bond.GetEndAtomIdx(), bond.GetBeginAtomIdx())] = length\n",
    "all_pairwise_bond_angles = get_all_pairwise_bond_angles(test_mol)\n",
    "problem_clusters = get_connected_subgraphs(test_mol, get_violating_atom_clusters(test_mol, all_pairwise_bond_angles))"
   ]
  },
  {
   "cell_type": "code",
   "execution_count": 7,
   "metadata": {},
   "outputs": [
    {
     "data": {
      "text/plain": [
       "[{6, 9, 10, 18}]"
      ]
     },
     "execution_count": 7,
     "metadata": {},
     "output_type": "execute_result"
    }
   ],
   "source": [
    "problem_clusters"
   ]
  },
  {
   "cell_type": "code",
   "execution_count": 8,
   "metadata": {},
   "outputs": [
    {
     "name": "stdout",
     "output_type": "stream",
     "text": [
      "ColorMap.py:180 Infered color [0.96779756 0.44127456 0.53581032] and alpha 1 from value (0.9677975592919913, 0.44127456009157356, 0.5358103155058701)\n"
     ]
    }
   ],
   "source": [
    "import pymolviz as pmv\n",
    "visuals = []\n",
    "for i, problem_cluster in enumerate(problem_clusters):\n",
    "    visuals.append(pmv.Points(rdutil.position(test_mol)[list(problem_cluster)], name = f\"problem_cluster_{i}\"))\n",
    "\n",
    "pmv.Group(visuals, name = \"problem_clusters\").write(\"visuals/problem_clusters.py\")"
   ]
  },
  {
   "cell_type": "markdown",
   "metadata": {},
   "source": [
    "next we construct the formulation as a SAT Problem for the clusters"
   ]
  },
  {
   "cell_type": "code",
   "execution_count": 9,
   "metadata": {},
   "outputs": [],
   "source": [
    "from z3 import *\n",
    "\n",
    "# .1 A deviation is as bad as 10 degrees\n",
    "angle_deviation_weighting = 1e-1\n",
    "# might want to expand considered atoms by one layer of neighbors\n",
    "\n",
    "ideal_bond_length_order_indices = {1.0: 0, 2.0: 2, 3.0: 3}\n",
    "\n",
    "def construct_SMT_formulation(mol, indices, all_pairwise_bond_angles, all_bond_Lengths, angle_tolerance=20):\n",
    "    considered_atoms = [mol.GetAtomWithIdx(idx) for idx in indices]\n",
    "    penalty_expressions = [RealVal(0)]\n",
    "    # variables for each bond order\n",
    "    bond_order_variables = {}\n",
    "    bond_order_exclusivity = []\n",
    "    bond_order_constraints = []\n",
    "    bond_order_is_bool = []\n",
    "\n",
    "    for bond in mol.GetBonds():\n",
    "        if bond.GetBeginAtomIdx() in indices and bond.GetEndAtomIdx() in indices:\n",
    "            # bond order = 0 => no bond between the atoms\n",
    "            for bond_order in range(4):\n",
    "                bond_order = float(bond_order)\n",
    "                symbol = Int(f\"bond_order_{bond.GetBeginAtomIdx()}_{bond.GetEndAtomIdx()}_{bond_order}\")\n",
    "                bond_order_variables[(bond.GetBeginAtomIdx(), bond.GetEndAtomIdx(), bond_order)] = symbol\n",
    "                bond_order_variables[(bond.GetEndAtomIdx(), bond.GetBeginAtomIdx(), bond_order)] = symbol\n",
    "                bond_order_is_bool.append(Or(symbol == 0, symbol == 1))\n",
    "                # add bond length deviation penalty\n",
    "                if bond_order > 0:\n",
    "                    bond_length = all_bond_Lengths[(bond.GetBeginAtomIdx(), bond.GetEndAtomIdx())]\n",
    "                    ideal_bond_length = ideal_bond_lengths[bond.GetBeginAtom().GetSymbol()][bond.GetEndAtom().GetSymbol()][ideal_bond_length_order_indices[bond_order]]\n",
    "                    penalty_expressions.append((ideal_bond_length - bond_length) * symbol)\n",
    "\n",
    "            # bond order exclusivity\n",
    "            bond_order_exclusivity.append(Sum([bond_order_variables[(bond.GetEndAtomIdx(), bond.GetBeginAtomIdx(), bond_order)] for bond_order in range(4)]) == 1)\n",
    "        elif bond.GetBeginAtomIdx() in indices or bond.GetEndAtomIdx() in indices:\n",
    "            for bond_order in range(4):\n",
    "                bond_order = float(bond_order)\n",
    "                bond_order_variables[(bond.GetBeginAtom().GetIdx(), bond.GetEndAtom().GetIdx(), bond_order)] = IntVal(int(bond.GetBondTypeAsDouble() == bond_order))\n",
    "                bond_order_variables[(bond.GetEndAtom().GetIdx(), bond.GetBeginAtom().GetIdx(), bond_order)] = IntVal(int(bond.GetBondTypeAsDouble() == bond_order))\n",
    "\n",
    "    # determine possible charges for each element\n",
    "    possible_charges = {}\n",
    "    for atom in considered_atoms:\n",
    "        this_possible_charges = possible_charges.get(atom.GetSymbol(), set())\n",
    "        for (neighbor_count, atom_charge) in possible_geometries[atom.GetSymbol()].keys():\n",
    "            this_possible_charges.add(atom_charge)\n",
    "        possible_charges[atom.GetSymbol()] = this_possible_charges\n",
    "\n",
    "    # variable for each charge\n",
    "    charge_variables = {}\n",
    "    charge_exclusivity = []\n",
    "    charge_is_bool = []\n",
    "    for atom in considered_atoms:\n",
    "        for possible_charge in possible_charges[atom.GetSymbol()]:\n",
    "            charge_variables[(atom.GetIdx(), possible_charge)] = Int(f\"charge_{atom.GetIdx()}_{possible_charge}\")\n",
    "            charge_is_bool.append(Or(charge_variables[(atom.GetIdx(), possible_charge)] == 0, charge_variables[(atom.GetIdx(), possible_charge)] == 1))\n",
    "        # charge exclusivity\n",
    "        charge_exclusivity.append(Sum([charge_variables[(atom.GetIdx(), possible_charge)] for possible_charge in possible_charges[atom.GetSymbol()]]) == 1)\n",
    "\n",
    "    # variable for each possible geometry for each atom\n",
    "    geometry_variables = {}\n",
    "    geometry_implications = []\n",
    "    geometry_exclusivity = []\n",
    "    geometry_is_bool = []\n",
    "    allowed_bond_constraints = []\n",
    "    for atom in considered_atoms:\n",
    "        for (neighbor_count, atom_charge), angle_to_info in possible_geometries[atom.GetSymbol()].items():\n",
    "            for possible_angles, info in angle_to_info.items():\n",
    "                geometry_variables[(atom.GetIdx(), neighbor_count, atom_charge, tuple(possible_angles))] = Int(f\"geometry_{atom.GetIdx()}_{neighbor_count}_{atom_charge}_{tuple(possible_angles)}\")\n",
    "                geometry_is_bool.append(Or(geometry_variables[(atom.GetIdx(), neighbor_count, atom_charge, tuple(possible_angles))] == 0, geometry_variables[(atom.GetIdx(), neighbor_count, atom_charge, tuple(possible_angles))] == 1))\n",
    "\n",
    "                # determine forbidden angles\n",
    "                forbidden_angle_constraints = []\n",
    "                for neighbor1, neighbor2 in combinations([neighbor.GetIdx() for neighbor in atom.GetNeighbors()], 2):\n",
    "                    if (neighbor1, neighbor2) in all_pairwise_bond_angles[atom.GetIdx()]:\n",
    "                        angle_deviation = np.absolute(np.array(possible_angles) - all_pairwise_bond_angles[atom.GetIdx()][(neighbor1, neighbor2)])\n",
    "                        if len(angle_deviation) == 0: angle_deviation = np.array([180])\n",
    "                        used_deviation = np.min(angle_deviation)\n",
    "                        if used_deviation > angle_tolerance:\n",
    "                            forbidden_angle_constraints.append(Or(\n",
    "                                bond_order_variables[(atom.GetIdx(), neighbor1, 0)] == 1,\n",
    "                                bond_order_variables[(atom.GetIdx(), neighbor2, 0)] == 1\n",
    "                            ))\n",
    "                        else:\n",
    "                            # we weight based on the angle deviation\n",
    "                            weighted_deviation = used_deviation * angle_deviation_weighting\n",
    "                            RealVal(weighted_deviation)\n",
    "                            total_penalty_expression = Sum([(RealVal(weighted_deviation) * bond_order_variables[(atom.GetIdx(), neighbor1, i)]) for i in range(1, 4)])\n",
    "                            penalty_expressions.append(Sum([(RealVal(weighted_deviation) * bond_order_variables[(atom.GetIdx(), neighbor1, i)]) for i in range(0, 4)]))\n",
    "\n",
    "                # bond order implications\n",
    "                geometry_implications.append(Implies(\n",
    "                    geometry_variables[(atom.GetIdx(), neighbor_count, atom_charge, tuple(possible_angles))] == 1,\n",
    "                    And([\n",
    "                        Or(\n",
    "                            [And([Sum([\n",
    "                                bond_order_variables[(atom.GetIdx(), neighbor.GetIdx(), bond_order)] for neighbor in atom.GetNeighbors()\n",
    "                            ]) == bond_count\n",
    "                            for bond_order, bond_count in bond_order_info.items()])\n",
    "                            for bond_order_info in info[\"bond_orders\"]]),\n",
    "                        charge_variables[(atom.GetIdx(), atom_charge)] == 1,\n",
    "                        *forbidden_angle_constraints\n",
    "                    ])\n",
    "                ))\n",
    "        # geometry exclusivity\n",
    "        geometry_exclusivity.append(Sum([geometry_variables[(atom.GetIdx(), neighbor_count, atom_charge, tuple(possible_angles))] for (neighbor_count, atom_charge), angle_to_info in possible_geometries[atom.GetSymbol()].items() for possible_angles, info in angle_to_info.items()]) == 1)\n",
    "\n",
    "    # forbid strong angle violations\n",
    "\n",
    "    formula = And(bond_order_exclusivity + charge_exclusivity + geometry_implications + geometry_exclusivity + bond_order_constraints + geometry_is_bool + charge_is_bool + bond_order_is_bool)\n",
    "    objective = Sum(penalty_expressions)\n",
    "    return formula, objective\n",
    "    print(geometry_variables)\n"
   ]
  },
  {
   "cell_type": "code",
   "execution_count": 10,
   "metadata": {},
   "outputs": [],
   "source": [
    "formula, objective = construct_SMT_formulation(test_mol, problem_clusters[0], all_pairwise_bond_angles, all_bond_length)"
   ]
  },
  {
   "cell_type": "code",
   "execution_count": 11,
   "metadata": {},
   "outputs": [
    {
     "data": {
      "text/html": [
       "<b>sat</b>"
      ],
      "text/plain": [
       "sat"
      ]
     },
     "execution_count": 11,
     "metadata": {},
     "output_type": "execute_result"
    }
   ],
   "source": [
    "optimizer = Optimize()\n",
    "optimizer.add(formula)\n",
    "optimizer.minimize(objective)\n",
    "optimizer.check()\n"
   ]
  },
  {
   "cell_type": "code",
   "execution_count": 26,
   "metadata": {},
   "outputs": [],
   "source": [
    "def decode_solution(model):\n",
    "    new_bond_orders = {}\n",
    "    assigned_charges = {}\n",
    "    for decl in model.decls():\n",
    "        # Get the variable name\n",
    "        key = decl.name()\n",
    "        # Retrieve the value assigned to the variable\n",
    "        value = model[decl]\n",
    "        if value.as_long() == 1:\n",
    "            if key.startswith(\"bond_order\"):\n",
    "                _, _, atom1, atom2, bond_order = key.split(\"_\")\n",
    "                new_bond_orders[(int(atom1), int(atom2))] = bond_order\n",
    "            elif key.startswith(\"charge\"):\n",
    "                _, atom, charge = key.split(\"_\")\n",
    "                assigned_charges[int(atom)] = int(charge)\n",
    "    return new_bond_orders, assigned_charges"
   ]
  },
  {
   "cell_type": "code",
   "execution_count": 27,
   "metadata": {},
   "outputs": [
    {
     "data": {
      "text/plain": [
       "({(9, 10): '1.0',\n",
       "  (6, 10): '0.0',\n",
       "  (6, 9): '0.0',\n",
       "  (10, 18): '1.0',\n",
       "  (6, 18): '0.0'},\n",
       " {18: 0, 6: 0, 10: 0, 9: 0})"
      ]
     },
     "execution_count": 27,
     "metadata": {},
     "output_type": "execute_result"
    }
   ],
   "source": [
    "decode_solution(optimizer.model())"
   ]
  }
 ],
 "metadata": {
  "kernelspec": {
   "display_name": "DD_py38",
   "language": "python",
   "name": "python3"
  },
  "language_info": {
   "codemirror_mode": {
    "name": "ipython",
    "version": 3
   },
   "file_extension": ".py",
   "mimetype": "text/x-python",
   "name": "python",
   "nbconvert_exporter": "python",
   "pygments_lexer": "ipython3",
   "version": "3.8.12"
  }
 },
 "nbformat": 4,
 "nbformat_minor": 2
}
