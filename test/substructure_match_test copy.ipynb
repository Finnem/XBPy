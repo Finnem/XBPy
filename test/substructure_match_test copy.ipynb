{
 "cells": [
  {
   "cell_type": "code",
   "execution_count": 41,
   "metadata": {},
   "outputs": [],
   "source": [
    "from xbpy.morgan import substructure_match, unique_index, morgan_prop\n",
    "from xbpy.rdutil import read_molecules, position\n",
    "from rdkit.Chem.rdmolops import RenumberAtoms\n",
    "from rdkit import Chem\n",
    "from rdkit.Chem import rdDetermineBonds\n",
    "import numpy as np\n",
    "import pymolviz as pmv\n",
    "import matplotlib.pyplot as plt\n",
    "from scipy.optimize import quadratic_assignment"
   ]
  },
  {
   "cell_type": "code",
   "execution_count": 42,
   "metadata": {},
   "outputs": [],
   "source": [
    "#substructure_difficult = next(read_molecules(\"substructure_difficult_test.pdb\"))\n",
    "substructure_difficult = next(read_molecules(\"just_ring1.pdb\"))\n",
    "#xyz_file = next(read_molecules(\"new_reference.pdb\"))\n",
    "xyz_file = next(read_molecules(\"new_xyz.pdb\"))\n",
    "rdDetermineBonds.DetermineConnectivity(xyz_file)"
   ]
  },
  {
   "cell_type": "code",
   "execution_count": 43,
   "metadata": {},
   "outputs": [
    {
     "data": {
      "text/plain": [
       "(3, 4, 5, 8, 7, 9, 11, 13, 14, 18, 19, 20)"
      ]
     },
     "execution_count": 43,
     "metadata": {},
     "output_type": "execute_result"
    }
   ],
   "source": [
    "xyz_file.GetSubstructMatch(substructure_difficult)"
   ]
  },
  {
   "cell_type": "code",
   "execution_count": 3,
   "metadata": {},
   "outputs": [],
   "source": [
    "mol1 = substructure_difficult\n",
    "mol2 = xyz_file"
   ]
  },
  {
   "cell_type": "code",
   "execution_count": 4,
   "metadata": {},
   "outputs": [],
   "source": [
    "from collections import deque\n",
    "\n",
    "def convert_matrix_to_list(graph_matrix):\n",
    "    adjacency_list = {}\n",
    "    for i, row in enumerate(graph_matrix):\n",
    "        adjacency_list[i] = [j for j, val in enumerate(row) if val == 1]\n",
    "    return adjacency_list\n",
    "\n",
    "def bfs_shortest_path(graph_list, start):\n",
    "    distance = [-1 for vertex in graph_list]\n",
    "    queue = deque([start])\n",
    "\n",
    "    distance[start] = 0\n",
    "\n",
    "    while queue:\n",
    "        vertex = queue.popleft()\n",
    "        for neighbor in graph_list[vertex]:\n",
    "            if distance[neighbor] == -1:\n",
    "                distance[neighbor] = distance[vertex] + 1\n",
    "                queue.append(neighbor)\n",
    "    \n",
    "    return distance"
   ]
  },
  {
   "cell_type": "code",
   "execution_count": 5,
   "metadata": {},
   "outputs": [
    {
     "data": {
      "image/png": "[encoded data removed]",
      "text/plain": [
       "<rdkit.Chem.rdchem.Mol at 0x7fcbe96056d0>"
      ]
     },
     "execution_count": 5,
     "metadata": {},
     "output_type": "execute_result"
    }
   ],
   "source": [
    "mol1"
   ]
  },
  {
   "cell_type": "code",
   "execution_count": 6,
   "metadata": {},
   "outputs": [
    {
     "data": {
      "image/png": "[encoded data removed]",
      "text/plain": [
       "<rdkit.Chem.rdchem.Mol at 0x7fcbe9605510>"
      ]
     },
     "execution_count": 6,
     "metadata": {},
     "output_type": "execute_result"
    }
   ],
   "source": [
    "mol2"
   ]
  },
  {
   "cell_type": "code",
   "execution_count": 7,
   "metadata": {},
   "outputs": [],
   "source": [
    "mol1_adj_list = convert_matrix_to_list(Chem.GetAdjacencyMatrix(mol1))\n",
    "mol2_adj_list = convert_matrix_to_list(Chem.GetAdjacencyMatrix(mol2))\n",
    "\n",
    "topological_distance_M_mol1 = np.array([bfs_shortest_path(mol1_adj_list, i) for i in range(mol1.GetNumAtoms())])\n",
    "topological_distance_M_mol2 = np.array([bfs_shortest_path(mol2_adj_list, i) for i in range(mol2.GetNumAtoms())])\n"
   ]
  },
  {
   "cell_type": "code",
   "execution_count": 8,
   "metadata": {},
   "outputs": [
    {
     "data": {
      "text/plain": [
       "[<matplotlib.lines.Line2D at 0x7fcbe955c640>]"
      ]
     },
     "execution_count": 8,
     "metadata": {},
     "output_type": "execute_result"
    },
    {
     "data": {
      "image/png": "[encoded data removed]",
      "text/plain": [
       "<Figure size 432x288 with 1 Axes>"
      ]
     },
     "metadata": {
      "needs_background": "light"
     },
     "output_type": "display_data"
    }
   ],
   "source": [
    "topological_distance_weight = lambda d: np.exp(-d * 5e-1) + .1\n",
    "visualize_x = np.arange(0, 10, 1)\n",
    "visualize_y = topological_distance_weight(visualize_x)\n",
    "plt.plot(visualize_x, visualize_y)"
   ]
  },
  {
   "cell_type": "code",
   "execution_count": 9,
   "metadata": {},
   "outputs": [],
   "source": [
    "weighted_topological_distance_M_mol1 = topological_distance_weight(topological_distance_M_mol1)\n",
    "weighted_topological_distance_M_mol2 = topological_distance_weight(topological_distance_M_mol2)"
   ]
  },
  {
   "cell_type": "code",
   "execution_count": 10,
   "metadata": {},
   "outputs": [],
   "source": [
    "topological_distance_M_mol1[topological_distance_M_mol1 == -1] = 6\n",
    "topological_distance_M_mol2[topological_distance_M_mol2 == -1] = 6"
   ]
  },
  {
   "cell_type": "code",
   "execution_count": null,
   "metadata": {},
   "outputs": [],
   "source": []
  },
  {
   "cell_type": "code",
   "execution_count": 39,
   "metadata": {},
   "outputs": [],
   "source": [
    "cost_matrix = topological_distance_M_mol1.T @ topological_distance_M_mol2\n",
    "assignment = quadratic_assignment(topological_distance_M_mol2, topological_distance_M_mol2, options= {\"maximize\":True}, method=\"2opt\")"
   ]
  },
  {
   "cell_type": "code",
   "execution_count": 40,
   "metadata": {},
   "outputs": [
    {
     "data": {
      "text/plain": [
       " col_ind: array([ 1,  0,  5,  4,  3,  2, 11, 10,  9,  8,  7,  6])\n",
       "     fun: 1080\n",
       "     nit: 449"
      ]
     },
     "execution_count": 40,
     "metadata": {},
     "output_type": "execute_result"
    }
   ],
   "source": [
    "assignment"
   ]
  },
  {
   "cell_type": "code",
   "execution_count": 38,
   "metadata": {},
   "outputs": [
    {
     "data": {
      "text/plain": [
       "10.837493155694947"
      ]
     },
     "execution_count": 38,
     "metadata": {},
     "output_type": "execute_result"
    }
   ],
   "source": [
    "permutation_matrix = np.zeros((mol1.GetNumAtoms(), mol2.GetNumAtoms()))\n",
    "permutation_matrix[np.arange(mol1.GetNumAtoms()), assignment.col_ind] = 1\n",
    "\n",
    "np.sum((weighted_topological_distance_M_mol1 - permutation_matrix @ weighted_topological_distance_M_mol2 @ permutation_matrix.T)**2)"
   ]
  },
  {
   "cell_type": "code",
   "execution_count": null,
   "metadata": {},
   "outputs": [
    {
     "data": {
      "text/plain": [
       "array([[4., 3., 3., 2., 2., 1., 5., 4., 4., 3., 3., 0.],\n",
       "       [3., 4., 2., 1., 3., 2., 4., 5., 3., 4., 0., 3.],\n",
       "       [3., 2., 4., 3., 1., 2., 4., 3., 5., 0., 4., 3.],\n",
       "       [2., 1., 3., 4., 2., 3., 3., 0., 4., 3., 5., 4.],\n",
       "       [2., 3., 1., 2., 4., 3., 3., 4., 0., 5., 3., 4.],\n",
       "       [1., 2., 2., 3., 3., 4., 0., 3., 3., 4., 4., 5.],\n",
       "       [2., 3., 1., 0., 2., 1., 3., 4., 2., 3., 1., 2.],\n",
       "       [0., 1., 1., 2., 2., 3., 1., 2., 2., 3., 3., 4.],\n",
       "       [3., 2., 2., 1., 1., 0., 4., 3., 3., 2., 2., 1.],\n",
       "       [1., 2., 0., 1., 3., 2., 2., 3., 1., 4., 2., 3.],\n",
       "       [1., 0., 2., 3., 1., 2., 2., 1., 3., 2., 4., 3.],\n",
       "       [2., 1., 3., 2., 0., 1., 3., 2., 4., 1., 3., 2.]])"
      ]
     },
     "execution_count": 36,
     "metadata": {},
     "output_type": "execute_result"
    }
   ],
   "source": [
    "permutation_matrix @ topological_distance_M_mol1"
   ]
  },
  {
   "cell_type": "code",
   "execution_count": 16,
   "metadata": {},
   "outputs": [
    {
     "data": {
      "text/plain": [
       "0.0"
      ]
     },
     "execution_count": 16,
     "metadata": {},
     "output_type": "execute_result"
    }
   ],
   "source": [
    "my_assignment = [4, 1, 5, 2, 0, 3, 6, 9, 7, 8, 10, 11]\n",
    "permutation_matrix = np.zeros((mol1.GetNumAtoms(), mol2.GetNumAtoms()))\n",
    "permutation_matrix[np.arange(mol1.GetNumAtoms()), my_assignment] = 1\n",
    "\n",
    "np.sum((permutation_matrix.T @ topological_distance_M_mol1 @ permutation_matrix - topological_distance_M_mol2)**2)"
   ]
  },
  {
   "cell_type": "code",
   "execution_count": null,
   "metadata": {},
   "outputs": [
    {
     "data": {
      "text/plain": [
       "array([[0., 1., 1., 3., 2., 2., 3., 1., 2., 4., 3., 2.],\n",
       "       [1., 0., 2., 2., 1., 3., 2., 2., 1., 3., 4., 3.],\n",
       "       [1., 2., 0., 2., 3., 1., 4., 2., 3., 3., 2., 1.],\n",
       "       [3., 2., 2., 0., 1., 1., 2., 4., 3., 1., 2., 3.],\n",
       "       [2., 1., 3., 1., 0., 2., 1., 3., 2., 2., 3., 4.],\n",
       "       [2., 3., 1., 1., 2., 0., 3., 3., 4., 2., 1., 2.],\n",
       "       [3., 2., 4., 2., 1., 3., 0., 4., 3., 3., 4., 5.],\n",
       "       [1., 2., 2., 4., 3., 3., 4., 0., 3., 5., 4., 3.],\n",
       "       [2., 1., 3., 3., 2., 4., 3., 3., 0., 4., 5., 4.],\n",
       "       [4., 3., 3., 1., 2., 2., 3., 5., 4., 0., 3., 4.],\n",
       "       [3., 4., 2., 2., 3., 1., 4., 4., 5., 3., 0., 3.],\n",
       "       [2., 3., 1., 3., 4., 2., 5., 3., 4., 4., 3., 0.]])"
      ]
     },
     "execution_count": 43,
     "metadata": {},
     "output_type": "execute_result"
    }
   ],
   "source": [
    "permutation_matrix @ topological_distance_M_mol1 @ permutation_matrix.T"
   ]
  },
  {
   "cell_type": "code",
   "execution_count": null,
   "metadata": {},
   "outputs": [
    {
     "data": {
      "text/plain": [
       "array([[0, 1, 1, 2, 2, 3, 1, 2, 2, 3, 3, 4],\n",
       "       [1, 0, 2, 3, 1, 2, 2, 1, 3, 2, 4, 3],\n",
       "       [1, 2, 0, 1, 3, 2, 2, 3, 1, 4, 2, 3],\n",
       "       [2, 3, 1, 0, 2, 1, 3, 4, 2, 3, 1, 2],\n",
       "       [2, 1, 3, 2, 0, 1, 3, 2, 4, 1, 3, 2],\n",
       "       [3, 2, 2, 1, 1, 0, 4, 3, 3, 2, 2, 1],\n",
       "       [1, 2, 2, 3, 3, 4, 0, 3, 3, 4, 4, 5],\n",
       "       [2, 1, 3, 4, 2, 3, 3, 0, 4, 3, 5, 4],\n",
       "       [2, 3, 1, 2, 4, 3, 3, 4, 0, 5, 3, 4],\n",
       "       [3, 2, 4, 3, 1, 2, 4, 3, 5, 0, 4, 3],\n",
       "       [3, 4, 2, 1, 3, 2, 4, 5, 3, 4, 0, 3],\n",
       "       [4, 3, 3, 2, 2, 1, 5, 4, 4, 3, 3, 0]])"
      ]
     },
     "execution_count": 41,
     "metadata": {},
     "output_type": "execute_result"
    }
   ],
   "source": [
    "topological_distance_M_mol1"
   ]
  },
  {
   "cell_type": "code",
   "execution_count": null,
   "metadata": {},
   "outputs": [
    {
     "data": {
      "text/plain": [
       "array([[0, 1, 2, 1, 2, 3, 3, 4, 1, 2, 3, 2],\n",
       "       [1, 0, 3, 2, 1, 2, 2, 3, 2, 1, 4, 3],\n",
       "       [2, 3, 0, 1, 2, 1, 3, 2, 3, 4, 1, 2],\n",
       "       [1, 2, 1, 0, 3, 2, 4, 3, 2, 3, 2, 1],\n",
       "       [2, 1, 2, 3, 0, 1, 1, 2, 3, 2, 3, 4],\n",
       "       [3, 2, 1, 2, 1, 0, 2, 1, 4, 3, 2, 3],\n",
       "       [3, 2, 3, 4, 1, 2, 0, 3, 4, 3, 4, 5],\n",
       "       [4, 3, 2, 3, 2, 1, 3, 0, 5, 4, 3, 4],\n",
       "       [1, 2, 3, 2, 3, 4, 4, 5, 0, 3, 4, 3],\n",
       "       [2, 1, 4, 3, 2, 3, 3, 4, 3, 0, 5, 4],\n",
       "       [3, 4, 1, 2, 3, 2, 4, 3, 4, 5, 0, 3],\n",
       "       [2, 3, 2, 1, 4, 3, 5, 4, 3, 4, 3, 0]])"
      ]
     },
     "execution_count": 39,
     "metadata": {},
     "output_type": "execute_result"
    }
   ],
   "source": [
    "topological_distance_M_mol2"
   ]
  },
  {
   "cell_type": "code",
   "execution_count": null,
   "metadata": {},
   "outputs": [],
   "source": [
    "reordering = np.arange(mol1.GetNumAtoms()) @ permutation_matrix"
   ]
  },
  {
   "cell_type": "code",
   "execution_count": null,
   "metadata": {},
   "outputs": [
    {
     "ename": "IndexError",
     "evalue": "arrays used as indices must be of integer (or boolean) type",
     "output_type": "error",
     "traceback": [
      "\u001b[0;31m---------------------------------------------------------------------------\u001b[0m",
      "\u001b[0;31mIndexError\u001b[0m                                Traceback (most recent call last)",
      "\u001b[0;32m/tmp/ipykernel_3555/2619695764.py\u001b[0m in \u001b[0;36m<module>\u001b[0;34m\u001b[0m\n\u001b[1;32m      1\u001b[0m \u001b[0matom_symbols1\u001b[0m \u001b[0;34m=\u001b[0m \u001b[0mnp\u001b[0m\u001b[0;34m.\u001b[0m\u001b[0marray\u001b[0m\u001b[0;34m(\u001b[0m\u001b[0;34m[\u001b[0m\u001b[0ma\u001b[0m\u001b[0;34m.\u001b[0m\u001b[0mGetSymbol\u001b[0m\u001b[0;34m(\u001b[0m\u001b[0;34m)\u001b[0m \u001b[0;32mfor\u001b[0m \u001b[0ma\u001b[0m \u001b[0;32min\u001b[0m \u001b[0mmol1\u001b[0m\u001b[0;34m.\u001b[0m\u001b[0mGetAtoms\u001b[0m\u001b[0;34m(\u001b[0m\u001b[0;34m)\u001b[0m\u001b[0;34m]\u001b[0m\u001b[0;34m)\u001b[0m\u001b[0;34m\u001b[0m\u001b[0;34m\u001b[0m\u001b[0m\n\u001b[1;32m      2\u001b[0m \u001b[0matom_symbols2\u001b[0m \u001b[0;34m=\u001b[0m \u001b[0mnp\u001b[0m\u001b[0;34m.\u001b[0m\u001b[0marray\u001b[0m\u001b[0;34m(\u001b[0m\u001b[0;34m[\u001b[0m\u001b[0ma\u001b[0m\u001b[0;34m.\u001b[0m\u001b[0mGetSymbol\u001b[0m\u001b[0;34m(\u001b[0m\u001b[0;34m)\u001b[0m \u001b[0;32mfor\u001b[0m \u001b[0ma\u001b[0m \u001b[0;32min\u001b[0m \u001b[0mmol2\u001b[0m\u001b[0;34m.\u001b[0m\u001b[0mGetAtoms\u001b[0m\u001b[0;34m(\u001b[0m\u001b[0;34m)\u001b[0m\u001b[0;34m]\u001b[0m\u001b[0;34m)\u001b[0m\u001b[0;34m\u001b[0m\u001b[0;34m\u001b[0m\u001b[0m\n\u001b[0;32m----> 3\u001b[0;31m \u001b[0mreordered_atom_symbols2\u001b[0m \u001b[0;34m=\u001b[0m  \u001b[0matom_symbols1\u001b[0m\u001b[0;34m[\u001b[0m\u001b[0mreordering\u001b[0m\u001b[0;34m]\u001b[0m\u001b[0;34m\u001b[0m\u001b[0;34m\u001b[0m\u001b[0m\n\u001b[0m\u001b[1;32m      4\u001b[0m \u001b[0;34m\u001b[0m\u001b[0m\n\u001b[1;32m      5\u001b[0m \u001b[0mprint\u001b[0m\u001b[0;34m(\u001b[0m\u001b[0matom_symbols2\u001b[0m\u001b[0;34m)\u001b[0m\u001b[0;34m\u001b[0m\u001b[0;34m\u001b[0m\u001b[0m\n",
      "\u001b[0;31mIndexError\u001b[0m: arrays used as indices must be of integer (or boolean) type"
     ]
    }
   ],
   "source": [
    "atom_symbols1 = np.array([a.GetSymbol() for a in mol1.GetAtoms()])\n",
    "atom_symbols2 = np.array([a.GetSymbol() for a in mol2.GetAtoms()])\n",
    "reordered_atom_symbols2 =  atom_symbols1[reordering]\n",
    "\n",
    "print(atom_symbols2)\n",
    "print(reordered_atom_symbols2)\n"
   ]
  },
  {
   "cell_type": "code",
   "execution_count": null,
   "metadata": {},
   "outputs": [],
   "source": [
    "new_indices = np.arange(mol2.GetNumAtoms()) @ permutation_matrix"
   ]
  },
  {
   "cell_type": "code",
   "execution_count": null,
   "metadata": {},
   "outputs": [
    {
     "data": {
      "text/plain": [
       "array([15,  5, 11, 12,  9,  8,  6,  7, 13, 14, 10, 23,  2, 18,  1, 19, 16,\n",
       "       17,  0,  4, 20, 21,  3, 22])"
      ]
     },
     "execution_count": 16,
     "metadata": {},
     "output_type": "execute_result"
    }
   ],
   "source": [
    "new_indices"
   ]
  },
  {
   "cell_type": "code",
   "execution_count": null,
   "metadata": {},
   "outputs": [],
   "source": [
    "new_mol2 = Chem.RenumberAtoms(mol2, new_indices.tolist())\n",
    "Chem.MolToPDBFile(new_mol2, \"reordered_xyz.pdb\")"
   ]
  },
  {
   "cell_type": "code",
   "execution_count": null,
   "metadata": {},
   "outputs": [],
   "source": []
  }
 ],
 "metadata": {
  "kernelspec": {
   "display_name": "DD_py38",
   "language": "python",
   "name": "python3"
  },
  "language_info": {
   "codemirror_mode": {
    "name": "ipython",
    "version": 3
   },
   "file_extension": ".py",
   "mimetype": "text/x-python",
   "name": "python",
   "nbconvert_exporter": "python",
   "pygments_lexer": "ipython3",
   "version": "3.8.12"
  }
 },
 "nbformat": 4,
 "nbformat_minor": 2
}
