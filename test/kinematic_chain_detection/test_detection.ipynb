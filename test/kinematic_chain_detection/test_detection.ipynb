{
 "cells": [
  {
   "cell_type": "code",
   "execution_count": 17,
   "metadata": {},
   "outputs": [],
   "source": [
    "from xbpy import rdutil"
   ]
  },
  {
   "cell_type": "code",
   "execution_count": 18,
   "metadata": {},
   "outputs": [],
   "source": [
    "mol = next(rdutil.read_molecules(\"5ckr_protonated_ligand_kekulized.sdf\"))"
   ]
  },
  {
   "cell_type": "code",
   "execution_count": 19,
   "metadata": {},
   "outputs": [
    {
     "name": "stdout",
     "output_type": "stream",
     "text": [
      "[[7, 5], [29, 28], [29, 30], [42, 43], [46, 47], [49, 47]]\n"
     ]
    }
   ],
   "source": [
    "chain = rdutil.get_kinematic_chain(mol)"
   ]
  },
  {
   "cell_type": "code",
   "execution_count": null,
   "metadata": {},
   "outputs": [],
   "source": []
  },
  {
   "cell_type": "code",
   "execution_count": 22,
   "metadata": {},
   "outputs": [
    {
     "data": {
      "text/plain": [
       "[(0, 63, 64, 65),\n",
       " (1, 66),\n",
       " (2, 67, 68, 69),\n",
       " (3, 70, 71),\n",
       " (4, 72),\n",
       " (5, 6, 7, 73),\n",
       " (8, 74, 75),\n",
       " (9, 76, 77),\n",
       " (10, 78, 79),\n",
       " (11, 80),\n",
       " (12, 81),\n",
       " (13, 82),\n",
       " (14,),\n",
       " (15, 16, 17, 20, 21, 83, 84, 89, 90),\n",
       " (18, 85, 86),\n",
       " (19, 87, 88, 123),\n",
       " (22, 91),\n",
       " (23, 92),\n",
       " (24, 25, 26, 35, 36, 93, 94, 97, 98),\n",
       " (27, 28, 29, 30, 31, 32, 33, 34, 95, 96, 124),\n",
       " (37, 99),\n",
       " (38, 100),\n",
       " (39, 40, 41),\n",
       " (42, 43, 44, 101),\n",
       " (45, 102),\n",
       " (46, 47, 48, 49, 103, 104),\n",
       " (50, 105),\n",
       " (51, 106),\n",
       " (52, 107, 108, 109),\n",
       " (53, 110, 111, 112),\n",
       " (54, 55, 56),\n",
       " (57, 58, 59, 60, 61, 62, 113, 114, 115, 118, 119, 120, 121),\n",
       " (116, 117, 122, 125)]"
      ]
     },
     "execution_count": 22,
     "metadata": {},
     "output_type": "execute_result"
    }
   ],
   "source": [
    "chain"
   ]
  },
  {
   "cell_type": "code",
   "execution_count": 23,
   "metadata": {},
   "outputs": [],
   "source": [
    "import pymolviz as pmv"
   ]
  },
  {
   "cell_type": "code",
   "execution_count": null,
   "metadata": {},
   "outputs": [],
   "source": []
  },
  {
   "cell_type": "code",
   "execution_count": 24,
   "metadata": {},
   "outputs": [
    {
     "name": "stdout",
     "output_type": "stream",
     "text": [
      "ColorMap.py:180 Infered color [0.76185077 0.4980609  0.95803878] and alpha 1 from value (0.7618507658609419, 0.4980608983368094, 0.9580387838391836)\n",
      "ColorMap.py:180 Infered color [0.9651792  0.42125498 0.67851124] and alpha 1 from value (0.9651791951613143, 0.4212549802305815, 0.6785112441648762)\n",
      "ColorMap.py:180 Infered color [0.78535692 0.57425509 0.194833  ] and alpha 1 from value (0.7853569249577571, 0.5742550932473431, 0.19483300329458964)\n",
      "ColorMap.py:180 Infered color [0.46810257 0.66994925 0.19289587] and alpha 1 from value (0.46810256823426105, 0.6699492535792404, 0.1928958739904499)\n",
      "ColorMap.py:180 Infered color [0.20739103 0.68190476 0.59447766] and alpha 1 from value (0.2073910309613703, 0.681904755215571, 0.5944776599073861)\n",
      "ColorMap.py:180 Infered color [0.22559158 0.652761   0.84357484] and alpha 1 from value (0.22559157962633536, 0.6527610028403481, 0.8435748422978113)\n",
      "ColorMap.py:180 Infered color [0.80049362 0.47703364 0.95795472] and alpha 1 from value (0.8004936186423958, 0.47703363533737203, 0.9579547196007522)\n",
      "ColorMap.py:180 Infered color [0.96581561 0.42622177 0.64755519] and alpha 1 from value (0.965815610620654, 0.426221771546941, 0.6475551916397236)\n",
      "ColorMap.py:180 Infered color [0.76321056 0.58384606 0.19465687] and alpha 1 from value (0.7632105624545802, 0.5838460616396939, 0.19465686802007026)\n",
      "ColorMap.py:180 Infered color [0.42258838 0.6779435  0.19271545] and alpha 1 from value (0.4225883781014591, 0.677943504931845, 0.19271544738133076)\n",
      "ColorMap.py:180 Infered color [0.20842912 0.68035725 0.61156636] and alpha 1 from value (0.20842911888687193, 0.6803572461388138, 0.6115663593892411)\n",
      "ColorMap.py:180 Infered color [0.22829031 0.64805153 0.87449975] and alpha 1 from value (0.22829030785596155, 0.6480515334381642, 0.8744997507366618)\n",
      "ColorMap.py:180 Infered color [0.83970109 0.4529021  0.95786381] and alpha 1 from value (0.8397010947263905, 0.4529020995703274, 0.9578638063653008)\n",
      "ColorMap.py:180 Infered color [0.96643603 0.43099966 0.61538977] and alpha 1 from value (0.9664360274594662, 0.43099966455339234, 0.6153897677387502)\n",
      "ColorMap.py:180 Infered color [0.74196415 0.59253615 0.19449389] and alpha 1 from value (0.741964149418168, 0.5925361512250769, 0.1944938922001426)\n",
      "ColorMap.py:180 Infered color [0.36411082 0.68661478 0.19251639] and alpha 1 from value (0.3641108188230903, 0.6866147845793213, 0.1925163879294403)\n",
      "ColorMap.py:180 Infered color [0.20268154 0.68876328 0.5089877 ] and alpha 1 from value (0.2026815423753069, 0.688763283504349, 0.508987703363004)\n",
      "ColorMap.py:180 Infered color [0.21764312 0.66602918 0.74533724] and alpha 1 from value (0.21764311948791948, 0.6660291778326126, 0.7453372377376992)\n",
      "ColorMap.py:180 Infered color [0.62078624 0.55733357 0.95830065] and alpha 1 from value (0.6207862412900109, 0.5573335689560729, 0.9583006481930966)\n",
      "ColorMap.py:180 Infered color [0.96307825 0.40435168 0.76948893] and alpha 1 from value (0.9630782460627462, 0.4043516793951457, 0.7694889282743594)\n",
      "ColorMap.py:180 Infered color [0.89242598 0.51880451 0.19577619] and alpha 1 from value (0.8924259847762807, 0.5188045053026508, 0.19577619340687563)\n",
      "ColorMap.py:180 Infered color [0.59208915 0.6418467  0.19350691] and alpha 1 from value (0.5920891529639701, 0.6418467016378244, 0.1935069134991043)\n",
      "ColorMap.py:180 Infered color [0.20334568 0.68781193 0.52199212] and alpha 1 from value (0.20334567592214692, 0.6878119310095092, 0.5219921160018409)\n",
      "ColorMap.py:180 Infered color [0.21832573 0.66492381 0.7542721 ] and alpha 1 from value (0.21832573257257587, 0.6649238123308602, 0.7542720982758183)\n",
      "ColorMap.py:180 Infered color [0.64230443 0.54976801 0.95826514] and alpha 1 from value (0.6423044349219739, 0.5497680051256467, 0.9582651433656727)\n",
      "ColorMap.py:180 Infered color [0.96345674 0.40745731 0.75416495] and alpha 1 from value (0.9634567420614607, 0.4074573064449969, 0.7541649453792719)\n",
      "ColorMap.py:180 Infered color [0.87655318 0.52811271 0.19562666] and alpha 1 from value (0.8765531794402894, 0.5281127054203663, 0.19562666163714132)\n",
      "ColorMap.py:180 Infered color [0.57949341 0.64516669 0.19343659] and alpha 1 from value (0.5794934087094582, 0.6451666868372049, 0.19343659156364748)\n",
      "ColorMap.py:180 Infered color [0.20398204 0.68689552 0.53412117] and alpha 1 from value (0.2039820437270486, 0.6868955226695198, 0.5341211692252225)\n",
      "ColorMap.py:180 Infered color [0.21904286 0.66375582 0.76354519] and alpha 1 from value (0.21904285561010112, 0.6637558151687588, 0.763545185553598)\n",
      "ColorMap.py:180 Infered color [0.66316964 0.54197578 0.95822922] and alpha 1 from value (0.6631696412116519, 0.5419757783281869, 0.9582292174088155)\n",
      "ColorMap.py:180 Infered color [0.9638217  0.41042599 0.73898606] and alpha 1 from value (0.9638217041650953, 0.4104259930699172, 0.7389860610578044)\n",
      "ColorMap.py:180 Infered color [0.86160906 0.53649573 0.19548899] and alpha 1 from value (0.8616090647292522, 0.536495730113334, 0.19548899031476086)\n"
     ]
    }
   ],
   "source": [
    "visuals = []\n",
    "for i, atom_indices in enumerate(chain):\n",
    "    positions = rdutil.positions([mol.GetAtomWithIdx(i) for i in atom_indices])\n",
    "    visuals.append(pmv.Points(positions, name = f\"chain_{i}\"))\n",
    "pmv.Group(visuals, name = \"chain\").write(\"kinematic_chain.py\")"
   ]
  },
  {
   "cell_type": "code",
   "execution_count": null,
   "metadata": {},
   "outputs": [],
   "source": []
  }
 ],
 "metadata": {
  "kernelspec": {
   "display_name": "DD_py38",
   "language": "python",
   "name": "python3"
  },
  "language_info": {
   "codemirror_mode": {
    "name": "ipython",
    "version": 3
   },
   "file_extension": ".py",
   "mimetype": "text/x-python",
   "name": "python",
   "nbconvert_exporter": "python",
   "pygments_lexer": "ipython3",
   "version": "3.8.12"
  }
 },
 "nbformat": 4,
 "nbformat_minor": 2
}
