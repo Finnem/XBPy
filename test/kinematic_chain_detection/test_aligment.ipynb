{
 "cells": [
  {
   "cell_type": "code",
   "execution_count": 1,
   "metadata": {},
   "outputs": [],
   "source": [
    "from xbpy import rdutil\n",
    "import pymolviz as pmv\n",
    "import numpy as np"
   ]
  },
  {
   "cell_type": "code",
   "execution_count": 2,
   "metadata": {},
   "outputs": [],
   "source": [
    "mol = next(rdutil.read_molecules(\"target_align_uridyl.sdf\"))\n",
    "common_substructure = next(rdutil.read_molecules(\"uridyl_group.pdb\"))\n",
    "aligned_mol = next(rdutil.read_molecules(\"to_align_uridyl.sdf\"))"
   ]
  },
  {
   "cell_type": "code",
   "execution_count": 3,
   "metadata": {},
   "outputs": [],
   "source": [
    "from rdkit import Chem\n",
    "from rdkit.Chem.rdFMCS import FindMCS"
   ]
  },
  {
   "cell_type": "code",
   "execution_count": 4,
   "metadata": {},
   "outputs": [],
   "source": [
    "# Get Indices of common substructure\n",
    "substruct_mol = Chem.RWMol(mol)\n",
    "substruct_aligned_mol = Chem.RWMol(aligned_mol)\n",
    "for bond in substruct_mol.GetBonds():\n",
    "    bond.SetBondType(Chem.BondType.UNSPECIFIED)\n",
    "for bond in substruct_aligned_mol.GetBonds():\n",
    "    bond.SetBondType(Chem.BondType.UNSPECIFIED)\n",
    "common_substructure = Chem.RWMol(common_substructure)\n",
    "for bond in common_substructure.GetBonds():\n",
    "    bond.SetBondType(Chem.BondType.UNSPECIFIED)\n",
    "MCS = FindMCS([substruct_mol, common_substructure]).queryMol\n",
    "common_substructure_indices = substruct_mol.GetSubstructMatches(MCS)\n",
    "aligned_substructure_indices = substruct_aligned_mol.GetSubstructMatches(MCS)"
   ]
  },
  {
   "cell_type": "code",
   "execution_count": 5,
   "metadata": {},
   "outputs": [
    {
     "name": "stdout",
     "output_type": "stream",
     "text": [
      "ColorMap.py:180 Infered color [0.96779756 0.44127456 0.53581032] and alpha 1 from value (0.9677975592919913, 0.44127456009157356, 0.5358103155058701)\n",
      "[[5, 6], [9, 10], [12, 10], [29, 27], [57, 55], [57, 58]]\n",
      "[[7, 5], [29, 28], [29, 30], [42, 43], [46, 47], [49, 47]]\n",
      "Handling bond (52, 51) at depth 0\n",
      "Handling bond (49, 38) at depth 1\n",
      "Handling bond (38, 34) at depth 2\n",
      "Handling bond (34, 33) at depth 3\n",
      "Handling bond (33, 32) at depth 4\n",
      "Handling bond (32, 31) at depth 5\n",
      "Handling bond (31, 30) at depth 6\n",
      "Handling bond (30, 29) at depth 7\n",
      "Handling bond (27, 4) at depth 8\n",
      "Handling bond (4, 3) at depth 9\n",
      "Handling bond (3, 1) at depth 10\n",
      "Handling bond (1, 0) at depth 11\n",
      "Handling bond (1, 2) at depth 11\n",
      "Handling bond (4, 5) at depth 9\n",
      "Handling bond (6, 8) at depth 10\n",
      "Handling bond (8, 9) at depth 11\n",
      "Handling bond (12, 13) at depth 12\n",
      "Handling bond (13, 14) at depth 13\n",
      "Handling bond (13, 17) at depth 13\n",
      "Handling bond (17, 18) at depth 14\n",
      "Handling bond (17, 19) at depth 14\n",
      "Handling bond (8, 20) at depth 11\n",
      "Handling bond (24, 25) at depth 12\n",
      "Handling bond (34, 35) at depth 3\n",
      "Handling bond (38, 39) at depth 2\n",
      "Handling bond (39, 40) at depth 3\n",
      "Handling bond (42, 43) at depth 4\n",
      "Handling bond (43, 44) at depth 5\n",
      "Handling bond (45, 46) at depth 4\n",
      "Handling bond (47, 48) at depth 4\n",
      "Handling bond (60, 61) at depth 1\n",
      "Handling bond (62, 63) at depth 1\n"
     ]
    }
   ],
   "source": [
    "aligned_positions = rdutil.seed_align(aligned_mol, mol, aligned_substructure_indices[0], common_substructure_indices[0])"
   ]
  },
  {
   "cell_type": "code",
   "execution_count": 6,
   "metadata": {},
   "outputs": [],
   "source": [
    "# apply positions to aligned_mol\n",
    "m = Chem.RWMol(aligned_mol)\n",
    "for i in range(len(aligned_positions)):\n",
    "    m.GetConformer().SetAtomPosition(i, aligned_positions[i])\n",
    "\n",
    "rdutil.write_molecules(m, \"test_aligned_with_tree.pdb\")"
   ]
  },
  {
   "cell_type": "markdown",
   "metadata": {},
   "source": []
  }
 ],
 "metadata": {
  "kernelspec": {
   "display_name": "DD_py38",
   "language": "python",
   "name": "python3"
  },
  "language_info": {
   "codemirror_mode": {
    "name": "ipython",
    "version": 3
   },
   "file_extension": ".py",
   "mimetype": "text/x-python",
   "name": "python",
   "nbconvert_exporter": "python",
   "pygments_lexer": "ipython3",
   "version": "3.8.12"
  }
 },
 "nbformat": 4,
 "nbformat_minor": 2
}
