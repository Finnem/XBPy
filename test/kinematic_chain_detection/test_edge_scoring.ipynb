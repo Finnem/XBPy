{
 "cells": [
  {
   "cell_type": "code",
   "execution_count": 1,
   "metadata": {},
   "outputs": [],
   "source": [
    "from xbpy import rdutil\n",
    "import pymolviz as pmv\n",
    "import numpy as np"
   ]
  },
  {
   "cell_type": "code",
   "execution_count": 2,
   "metadata": {},
   "outputs": [],
   "source": [
    "mol = next(rdutil.read_molecules(\"orig_ligand.mol\"))"
   ]
  },
  {
   "cell_type": "code",
   "execution_count": 3,
   "metadata": {},
   "outputs": [
    {
     "name": "stdout",
     "output_type": "stream",
     "text": [
      "[[7, 5], [29, 28], [29, 30], [42, 43], [46, 47], [49, 47]]\n"
     ]
    }
   ],
   "source": [
    "chain = rdutil.get_kinematic_chain(mol)"
   ]
  },
  {
   "cell_type": "code",
   "execution_count": 4,
   "metadata": {},
   "outputs": [
    {
     "data": {
      "text/plain": [
       "{0: array([4, 0, 0, 0, 0, 0, 0, 0]),\n",
       " 1: array([122, 122,  10,   0,   0,   0,   0,   0]),\n",
       " 2: array([4, 0, 0, 0, 0, 0, 0, 0]),\n",
       " 3: array([116,  13,   0,   0,   0,   0,   0,   0]),\n",
       " 4: array([113,  82,  59,   0,   0,   0,   0,   0]),\n",
       " 5: array([67,  0,  0,  0,  0,  0,  0,  0]),\n",
       " 7: array([63,  0,  0,  0,  0,  0,  0,  0]),\n",
       " 8: array([66, 63,  0,  0,  0,  0,  0,  0]),\n",
       " 9: array([69, 60,  0,  0,  0,  0,  0,  0]),\n",
       " 10: array([72, 57,  0,  0,  0,  0,  0,  0]),\n",
       " 11: array([74, 54,  0,  0,  0,  0,  0,  0]),\n",
       " 12: array([123,  79,  52,   0,   0,   0,   0,   0]),\n",
       " 13: array([105, 102,  47,   0,   0,   0,   0,   0]),\n",
       " 14: array([106,  21,   0,   0,   0,   0,   0,   0]),\n",
       " 15: array([20,  0,  0,  0,  0,  0,  0,  0]),\n",
       " 17: array([119,   0,   0,   0,   0,   0,   0,   0]),\n",
       " 21: array([124,   0,   0,   0,   0,   0,   0,   0]),\n",
       " 20: array([124,   0,   0,   0,   0,   0,   0,   0]),\n",
       " 18: array([122,   7,   0,   0,   0,   0,   0,   0]),\n",
       " 19: array([4, 0, 0, 0, 0, 0, 0, 0]),\n",
       " 22: array([2, 0, 0, 0, 0, 0, 0, 0]),\n",
       " 23: array([2, 0, 0, 0, 0, 0, 0, 0]),\n",
       " 24: array([24,  0,  0,  0,  0,  0,  0,  0]),\n",
       " 26: array([115,   0,   0,   0,   0,   0,   0,   0]),\n",
       " 36: array([124,   0,   0,   0,   0,   0,   0,   0]),\n",
       " 35: array([124,   0,   0,   0,   0,   0,   0,   0]),\n",
       " 27: array([11,  0,  0,  0,  0,  0,  0,  0]),\n",
       " 37: array([2, 0, 0, 0, 0, 0, 0, 0]),\n",
       " 38: array([2, 0, 0, 0, 0, 0, 0, 0]),\n",
       " 39: array([3, 0, 0, 0, 0, 0, 0, 0]),\n",
       " 42: array([44,  0,  0,  0,  0,  0,  0,  0]),\n",
       " 43: array([86,  0,  0,  0,  0,  0,  0,  0]),\n",
       " 45: array([109, 105,  40,   0,   0,   0,   0,   0]),\n",
       " 46: array([21,  0,  0,  0,  0,  0,  0,  0]),\n",
       " 49: array([111,   0,   0,   0,   0,   0,   0,   0]),\n",
       " 50: array([123, 116,  15,   0,   0,   0,   0,   0]),\n",
       " 51: array([122, 122,  10,   0,   0,   0,   0,   0]),\n",
       " 52: array([4, 0, 0, 0, 0, 0, 0, 0]),\n",
       " 53: array([4, 0, 0, 0, 0, 0, 0, 0]),\n",
       " 54: array([3, 0, 0, 0, 0, 0, 0, 0]),\n",
       " 57: array([17,  0,  0,  0,  0,  0,  0,  0]),\n",
       " 59: array([122,   0,   0,   0,   0,   0,   0,   0]),\n",
       " 125: array([4, 0, 0, 0, 0, 0, 0, 0])}"
      ]
     },
     "execution_count": 4,
     "metadata": {},
     "output_type": "execute_result"
    }
   ],
   "source": [
    "atom_weights = rdutil.kinematic_chain_weights(mol, chain)\n",
    "atom_weights"
   ]
  },
  {
   "cell_type": "markdown",
   "metadata": {},
   "source": []
  },
  {
   "cell_type": "code",
   "execution_count": null,
   "metadata": {},
   "outputs": [
    {
     "data": {
      "text/plain": [
       "(array([[  0, 122,   0, ...,   0,   0,   0],\n",
       "        [  4,   0,   4, ...,   0,   0,   0],\n",
       "        [  0, 122,   0, ...,   0,   0,   0],\n",
       "        ...,\n",
       "        [  0,   0,   0, ...,   0,   0,   0],\n",
       "        [  0,   0,   0, ...,   0,   0,   4],\n",
       "        [  0,   0,   0, ...,   0, 122,   0]]),\n",
       " {(0, 1): (0, 1),\n",
       "  (1, 1): (1, 3),\n",
       "  (1, 0): (1, 0),\n",
       "  (0, 0): (0, 1),\n",
       "  (1, 2): (1, 2),\n",
       "  (2, 2): (2, 1),\n",
       "  (1, 3): (1, 3),\n",
       "  (3, 3): (3, 4),\n",
       "  (2, 1): (2, 1),\n",
       "  (3, 1): (3, 1),\n",
       "  (3, 4): (3, 4),\n",
       "  (4, 4): (4, 42),\n",
       "  (4, 3): (4, 3),\n",
       "  (4, 5): (4, 5),\n",
       "  (5, 5): (7, 8),\n",
       "  (4, 23): (4, 42),\n",
       "  (23, 23): (43, 45),\n",
       "  (5, 4): (5, 4),\n",
       "  (5, 6): (7, 8),\n",
       "  (6, 6): (8, 9),\n",
       "  (6, 5): (8, 7),\n",
       "  (6, 7): (8, 9),\n",
       "  (7, 7): (9, 10),\n",
       "  (7, 6): (9, 8),\n",
       "  (7, 8): (9, 10),\n",
       "  (8, 8): (10, 11),\n",
       "  (8, 7): (10, 9),\n",
       "  (8, 9): (10, 11),\n",
       "  (9, 9): (11, 12),\n",
       "  (9, 8): (11, 10),\n",
       "  (9, 10): (11, 12),\n",
       "  (10, 10): (12, 39),\n",
       "  (10, 9): (12, 11),\n",
       "  (10, 11): (12, 13),\n",
       "  (11, 11): (13, 24),\n",
       "  (10, 22): (12, 39),\n",
       "  (22, 22): (39, 12),\n",
       "  (11, 10): (13, 12),\n",
       "  (11, 12): (13, 14),\n",
       "  (12, 12): (14, 15),\n",
       "  (11, 18): (13, 24),\n",
       "  (18, 18): (35, 38),\n",
       "  (12, 11): (14, 13),\n",
       "  (12, 13): (14, 15),\n",
       "  (13, 13): (20, 23),\n",
       "  (13, 12): (15, 14),\n",
       "  (13, 14): (17, 18),\n",
       "  (14, 14): (18, 19),\n",
       "  (13, 17): (20, 23),\n",
       "  (17, 17): (23, 20),\n",
       "  (13, 16): (21, 22),\n",
       "  (16, 16): (22, 21),\n",
       "  (14, 13): (18, 17),\n",
       "  (14, 15): (18, 19),\n",
       "  (15, 15): (19, 18),\n",
       "  (15, 14): (19, 18),\n",
       "  (16, 13): (22, 21),\n",
       "  (17, 13): (23, 20),\n",
       "  (18, 11): (24, 13),\n",
       "  (18, 19): (26, 27),\n",
       "  (19, 19): (27, 26),\n",
       "  (18, 21): (35, 38),\n",
       "  (21, 21): (38, 35),\n",
       "  (18, 20): (36, 37),\n",
       "  (20, 20): (37, 36),\n",
       "  (19, 18): (27, 26),\n",
       "  (20, 18): (37, 36),\n",
       "  (21, 18): (38, 35),\n",
       "  (22, 10): (39, 12),\n",
       "  (23, 4): (42, 4),\n",
       "  (23, 24): (43, 45),\n",
       "  (24, 24): (45, 57),\n",
       "  (24, 23): (45, 43),\n",
       "  (24, 25): (45, 46),\n",
       "  (25, 25): (49, 50),\n",
       "  (24, 31): (45, 57),\n",
       "  (31, 31): (59, 125),\n",
       "  (25, 24): (46, 45),\n",
       "  (25, 26): (49, 50),\n",
       "  (26, 26): (50, 54),\n",
       "  (26, 25): (50, 49),\n",
       "  (26, 27): (50, 51),\n",
       "  (27, 27): (51, 53),\n",
       "  (26, 30): (50, 54),\n",
       "  (30, 30): (54, 50),\n",
       "  (27, 26): (51, 50),\n",
       "  (27, 28): (51, 52),\n",
       "  (28, 28): (52, 51),\n",
       "  (27, 29): (51, 53),\n",
       "  (29, 29): (53, 51),\n",
       "  (28, 27): (52, 51),\n",
       "  (29, 27): (53, 51),\n",
       "  (30, 26): (54, 50),\n",
       "  (31, 24): (57, 45),\n",
       "  (31, 32): (59, 125),\n",
       "  (32, 32): (125, 59),\n",
       "  (32, 31): (125, 59)})"
      ]
     },
     "execution_count": 19,
     "metadata": {},
     "output_type": "execute_result"
    }
   ],
   "source": [
    "atom_weights"
   ]
  },
  {
   "cell_type": "code",
   "execution_count": null,
   "metadata": {},
   "outputs": [],
   "source": [
    "atom_indices = [rot_to_atom_edges[(idx1, idx2)] for idx1, idx2 in zip(*weighted_edges)]\n",
    "atom_indices = np.array(atom_indices)"
   ]
  },
  {
   "cell_type": "code",
   "execution_count": null,
   "metadata": {},
   "outputs": [],
   "source": [
    "sorted_matrix = np.sort(edge_weights, axis=1)[:, ::-1]\n",
    "top_8_values = sorted_matrix[:, :8]\n"
   ]
  },
  {
   "cell_type": "code",
   "execution_count": null,
   "metadata": {},
   "outputs": [
    {
     "data": {
      "text/plain": [
       "array([[122,   0,   0,   0,   0,   0,   0,   0],\n",
       "       [116,   4,   4,   0,   0,   0,   0,   0],\n",
       "       [122,   0,   0,   0,   0,   0,   0,   0],\n",
       "       [113,  10,   0,   0,   0,   0,   0,   0],\n",
       "       [ 67,  44,  13,   0,   0,   0,   0,   0],\n",
       "       [ 63,  59,   0,   0,   0,   0,   0,   0],\n",
       "       [ 63,  60,   0,   0,   0,   0,   0,   0],\n",
       "       [ 66,  57,   0,   0,   0,   0,   0,   0],\n",
       "       [ 69,  54,   0,   0,   0,   0,   0,   0],\n",
       "       [ 72,  52,   0,   0,   0,   0,   0,   0],\n",
       "       [ 74,  47,   3,   0,   0,   0,   0,   0],\n",
       "       [ 79,  24,  21,   0,   0,   0,   0,   0],\n",
       "       [105,  20,   0,   0,   0,   0,   0,   0],\n",
       "       [106,   7,   2,   2,   0,   0,   0,   0],\n",
       "       [119,   4,   0,   0,   0,   0,   0,   0],\n",
       "       [122,   0,   0,   0,   0,   0,   0,   0],\n",
       "       [124,   0,   0,   0,   0,   0,   0,   0],\n",
       "       [124,   0,   0,   0,   0,   0,   0,   0],\n",
       "       [102,  11,   2,   2,   0,   0,   0,   0],\n",
       "       [115,   0,   0,   0,   0,   0,   0,   0],\n",
       "       [124,   0,   0,   0,   0,   0,   0,   0],\n",
       "       [124,   0,   0,   0,   0,   0,   0,   0],\n",
       "       [123,   0,   0,   0,   0,   0,   0,   0],\n",
       "       [ 82,  40,   0,   0,   0,   0,   0,   0],\n",
       "       [ 86,  21,  17,   0,   0,   0,   0,   0],\n",
       "       [105,  15,   0,   0,   0,   0,   0,   0],\n",
       "       [111,  10,   3,   0,   0,   0,   0,   0],\n",
       "       [116,   4,   4,   0,   0,   0,   0,   0],\n",
       "       [122,   0,   0,   0,   0,   0,   0,   0],\n",
       "       [122,   0,   0,   0,   0,   0,   0,   0],\n",
       "       [123,   0,   0,   0,   0,   0,   0,   0],\n",
       "       [109,   4,   0,   0,   0,   0,   0,   0],\n",
       "       [122,   0,   0,   0,   0,   0,   0,   0]])"
      ]
     },
     "execution_count": 14,
     "metadata": {},
     "output_type": "execute_result"
    }
   ],
   "source": [
    "top_8_values"
   ]
  },
  {
   "cell_type": "code",
   "execution_count": null,
   "metadata": {},
   "outputs": [],
   "source": []
  },
  {
   "cell_type": "code",
   "execution_count": null,
   "metadata": {},
   "outputs": [
    {
     "name": "stderr",
     "output_type": "stream",
     "text": [
      "WARNING:root:No name provided for Arrows. Using default name: Arrows_0. It is highly recommended to provide meaningful names.\n",
      "WARNING:root:No name provided for Labels. Using default name: Labels_0. It is highly recommended to provide meaningful names.\n",
      "WARNING:root:No name provided for Group. Using default name: Group_0. It is highly recommended to provide meaningful names.\n"
     ]
    },
    {
     "name": "stdout",
     "output_type": "stream",
     "text": [
      "ColorMap.py:180 Infered color [0.96779756 0.44127456 0.53581032] and alpha 1 from value (0.9677975592919913, 0.44127456009157356, 0.5358103155058701)\n"
     ]
    }
   ],
   "source": [
    "starts = rdutil.position([mol.GetAtomWithIdx(int(idx)) for idx in atom_indices[:, 0]])\n",
    "ends = rdutil.position([mol.GetAtomWithIdx(int(idx)) for idx in atom_indices[:, 1]])\n",
    "directions = ends - starts\n",
    "directions = directions * 0.9\n",
    "arrows = pmv.Arrows.from_start_end(starts = starts, ends = starts + directions)\n",
    "labels = [f\"{edge_weights[idx1, idx2]:.2f}\" for idx1, idx2 in zip(*weighted_edges)]\n",
    "labels = pmv.Labels(starts + directions, labels = labels)\n",
    "pmv.Group([arrows, labels]).write(\"edge_weights.py\")"
   ]
  },
  {
   "cell_type": "code",
   "execution_count": null,
   "metadata": {},
   "outputs": [],
   "source": [
    "node_weights = np.zeros((mol.GetNumAtoms(), 8))"
   ]
  },
  {
   "cell_type": "code",
   "execution_count": null,
   "metadata": {},
   "outputs": [
    {
     "ename": "NameError",
     "evalue": "name 'leaf_positions' is not defined",
     "output_type": "error",
     "traceback": [
      "\u001b[0;31m---------------------------------------------------------------------------\u001b[0m",
      "\u001b[0;31mNameError\u001b[0m                                 Traceback (most recent call last)",
      "\u001b[0;32m/tmp/ipykernel_29499/2255650934.py\u001b[0m in \u001b[0;36m<module>\u001b[0;34m\u001b[0m\n\u001b[0;32m----> 1\u001b[0;31m \u001b[0mpmv\u001b[0m\u001b[0;34m.\u001b[0m\u001b[0mPoints\u001b[0m\u001b[0;34m(\u001b[0m\u001b[0mleaf_positions\u001b[0m\u001b[0;34m,\u001b[0m \u001b[0mcolor\u001b[0m\u001b[0;34m=\u001b[0m\u001b[0;34m\"red\"\u001b[0m\u001b[0;34m,\u001b[0m \u001b[0mradius\u001b[0m\u001b[0;34m=\u001b[0m\u001b[0;36m0.5\u001b[0m\u001b[0;34m)\u001b[0m\u001b[0;34m.\u001b[0m\u001b[0mwrite\u001b[0m\u001b[0;34m(\u001b[0m\u001b[0;34m\"leaf_compontents.py\"\u001b[0m\u001b[0;34m)\u001b[0m\u001b[0;34m\u001b[0m\u001b[0;34m\u001b[0m\u001b[0m\n\u001b[0m",
      "\u001b[0;31mNameError\u001b[0m: name 'leaf_positions' is not defined"
     ]
    }
   ],
   "source": [
    "pmv.Points(leaf_positions, color=\"red\", radius=0.5).write(\"leaf_compontents.py\")"
   ]
  }
 ],
 "metadata": {
  "kernelspec": {
   "display_name": "DD_py38",
   "language": "python",
   "name": "python3"
  },
  "language_info": {
   "codemirror_mode": {
    "name": "ipython",
    "version": 3
   },
   "file_extension": ".py",
   "mimetype": "text/x-python",
   "name": "python",
   "nbconvert_exporter": "python",
   "pygments_lexer": "ipython3",
   "version": "3.8.12"
  }
 },
 "nbformat": 4,
 "nbformat_minor": 2
}
