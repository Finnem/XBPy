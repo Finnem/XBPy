{
 "cells": [
  {
   "cell_type": "code",
   "execution_count": 1,
   "metadata": {},
   "outputs": [],
   "source": [
    "from xbpy import rdutil\n",
    "import pymolviz as pmv\n",
    "import numpy as np"
   ]
  },
  {
   "cell_type": "code",
   "execution_count": 2,
   "metadata": {},
   "outputs": [],
   "source": [
    "results_path = \"/mnt/c/Users/highgarden/Docker/DiffDock/data/5ckr_docking/full_others/\"\n",
    "base_ligand_path = \"/mnt/c/Users/highgarden/Docker/DiffDock/data/5ckr_docking/ligands/\"\n",
    "cur_ligand = \"Mureidomycin_A_PDB_kekulized\""
   ]
  },
  {
   "cell_type": "code",
   "execution_count": 1,
   "metadata": {},
   "outputs": [],
   "source": [
    "from rdkit import Chem"
   ]
  },
  {
   "cell_type": "code",
   "execution_count": 11,
   "metadata": {},
   "outputs": [
    {
     "data": {
      "text/plain": [
       "<rdkit.Chem.rdchem.Mol at 0x7fe772e967b0>"
      ]
     },
     "execution_count": 11,
     "metadata": {},
     "output_type": "execute_result"
    }
   ],
   "source": [
    "Chem.MolFromSmarts(\"[OX1]~*~[OX1]\")"
   ]
  },
  {
   "cell_type": "code",
   "execution_count": 3,
   "metadata": {},
   "outputs": [],
   "source": [
    "aligned_mol = next(rdutil.read_molecules(base_ligand_path + cur_ligand + \".sdf\"))\n",
    "mol = next(rdutil.read_molecules(results_path + cur_ligand + \"/*.sdf\"))"
   ]
  },
  {
   "cell_type": "code",
   "execution_count": 4,
   "metadata": {},
   "outputs": [],
   "source": [
    "common_substructure = next(rdutil.read_molecules(\"uridyl_group.pdb\"))"
   ]
  },
  {
   "cell_type": "code",
   "execution_count": 5,
   "metadata": {},
   "outputs": [
    {
     "name": "stderr",
     "output_type": "stream",
     "text": [
      "WARNING:root:det(R) < 0, reflection detected! Correcting...\n",
      "WARNING:root:det(R) < 0, reflection detected! Correcting...\n",
      "WARNING:root:det(R) < 0, reflection detected! Correcting...\n",
      "WARNING:root:det(R) < 0, reflection detected! Correcting...\n",
      "WARNING:root:det(R) < 0, reflection detected! Correcting...\n",
      "WARNING:root:det(R) < 0, reflection detected! Correcting...\n",
      "WARNING:root:det(R) < 0, reflection detected! Correcting...\n",
      "WARNING:root:det(R) < 0, reflection detected! Correcting...\n",
      "WARNING:root:det(R) < 0, reflection detected! Correcting...\n",
      "WARNING:root:det(R) < 0, reflection detected! Correcting...\n",
      "WARNING:root:det(R) < 0, reflection detected! Correcting...\n",
      "WARNING:root:det(R) < 0, reflection detected! Correcting...\n",
      "WARNING:root:det(R) < 0, reflection detected! Correcting...\n",
      "WARNING:root:det(R) < 0, reflection detected! Correcting...\n",
      "WARNING:root:det(R) < 0, reflection detected! Correcting...\n",
      "WARNING:root:det(R) < 0, reflection detected! Correcting...\n",
      "WARNING:root:det(R) < 0, reflection detected! Correcting...\n",
      "WARNING:root:det(R) < 0, reflection detected! Correcting...\n",
      "WARNING:root:det(R) < 0, reflection detected! Correcting...\n",
      "WARNING:root:det(R) < 0, reflection detected! Correcting...\n"
     ]
    }
   ],
   "source": [
    "h_add_mol = rdutil.add_explicit_hydrogens(mol)\n",
    "rdutil.write_molecules(h_add_mol, \"aligned_mol.sdf\")"
   ]
  },
  {
   "cell_type": "code",
   "execution_count": 5,
   "metadata": {},
   "outputs": [],
   "source": [
    "from rdkit import Chem\n",
    "from rdkit.Chem.rdFMCS import FindMCS"
   ]
  },
  {
   "cell_type": "code",
   "execution_count": 6,
   "metadata": {},
   "outputs": [],
   "source": [
    "# Get Indices of common substructure\n",
    "substruct_mol = Chem.RWMol(mol)\n",
    "substruct_aligned_mol = Chem.RWMol(aligned_mol)\n",
    "for bond in substruct_mol.GetBonds():\n",
    "    bond.SetBondType(Chem.BondType.UNSPECIFIED)\n",
    "for bond in substruct_aligned_mol.GetBonds():\n",
    "    bond.SetBondType(Chem.BondType.UNSPECIFIED)\n",
    "common_substructure = Chem.RWMol(common_substructure)\n",
    "for bond in common_substructure.GetBonds():\n",
    "    bond.SetBondType(Chem.BondType.UNSPECIFIED)\n",
    "MCS = FindMCS([substruct_mol, common_substructure]).queryMol\n",
    "common_substructure_indices = substruct_mol.GetSubstructMatches(MCS)\n",
    "aligned_substructure_indices = substruct_aligned_mol.GetSubstructMatches(MCS)"
   ]
  },
  {
   "cell_type": "code",
   "execution_count": 11,
   "metadata": {},
   "outputs": [],
   "source": [
    "max_depth = 2"
   ]
  },
  {
   "cell_type": "code",
   "execution_count": 12,
   "metadata": {},
   "outputs": [],
   "source": [
    "# write substructures\n",
    "matched_mol = rdutil.keep_atoms(substruct_mol, common_substructure_indices[0])\n",
    "matched_aligned_mol = rdutil.keep_atoms(substruct_aligned_mol, aligned_substructure_indices[0])\n",
    "rdutil.write_molecules(substruct_mol, \"substruct_mol.sdf\")\n",
    "rdutil.write_molecules(matched_mol, \"matched_mol.sdf\")\n",
    "rdutil.write_molecules(matched_aligned_mol, \"matched_aligned_mol.sdf\")"
   ]
  },
  {
   "cell_type": "code",
   "execution_count": 13,
   "metadata": {},
   "outputs": [
    {
     "name": "stdout",
     "output_type": "stream",
     "text": [
      "ColorMap.py:180 Infered color [0.76321056 0.58384606 0.19465687] and alpha 1 from value (0.7632105624545802, 0.5838460616396939, 0.19465686802007026)\n",
      "[[5, 13], [5, 16], [8, 27], [11, 31], [14, 37], [17, 37]]\n",
      "[[5, 13], [5, 16], [8, 27], [11, 31], [14, 37], [17, 37]]\n",
      "Handling bond (1, 4) at depth 0\n",
      "Handling bond (0, 2) at depth 1\n",
      "Handling bond (25, 8) at depth 1\n",
      "Handling bond (27, 29) at depth 2\n",
      "Handling bond (29, 11) at depth 3\n",
      "Handling bond (31, 33) at depth 4\n",
      "Handling bond (33, 14) at depth 5\n",
      "Handling bond (17, 38) at depth 6\n",
      "Handling bond (38, 46) at depth 7\n",
      "Handling bond (38, 39) at depth 7\n",
      "Handling bond (39, 40) at depth 8\n",
      "Handling bond (44, 15) at depth 9\n",
      "Handling bond (33, 34) at depth 5\n",
      "Handling bond (34, 35) at depth 6\n",
      "Handling bond (35, 3) at depth 7\n",
      "Handling bond (3, 36) at depth 8\n",
      "Handling bond (29, 47) at depth 3\n",
      "Handling bond (47, 20) at depth 4\n",
      "Handling bond (20, 49) at depth 5\n",
      "Handling bond (49, 50) at depth 6\n",
      "Handling bond (50, 23) at depth 7\n",
      "Handling bond (50, 51) at depth 7\n",
      "Handling bond (51, 52) at depth 8\n",
      "Handling bond (56, 28) at depth 9\n",
      "Handling bond (20, 58) at depth 5\n",
      "Handling bond (47, 48) at depth 4\n"
     ]
    }
   ],
   "source": [
    "aligned_positions = rdutil.seed_align(aligned_mol, mol, aligned_substructure_indices[0], common_substructure_indices[0], up_to_depth=max_depth)"
   ]
  },
  {
   "cell_type": "code",
   "execution_count": 14,
   "metadata": {},
   "outputs": [],
   "source": [
    "# apply positions to aligned_mol\n",
    "m = Chem.RWMol(aligned_mol)\n",
    "for i in range(len(aligned_positions)):\n",
    "    m.GetConformer().SetAtomPosition(i, aligned_positions[i])\n",
    "\n",
    "rdutil.write_molecules(m, f\"test_aligned_uridyl_{max_depth}.pdb\")"
   ]
  },
  {
   "cell_type": "markdown",
   "metadata": {},
   "source": []
  }
 ],
 "metadata": {
  "kernelspec": {
   "display_name": "DD_py38",
   "language": "python",
   "name": "python3"
  },
  "language_info": {
   "codemirror_mode": {
    "name": "ipython",
    "version": 3
   },
   "file_extension": ".py",
   "mimetype": "text/x-python",
   "name": "python",
   "nbconvert_exporter": "python",
   "pygments_lexer": "ipython3",
   "version": "3.8.12"
  }
 },
 "nbformat": 4,
 "nbformat_minor": 2
}
