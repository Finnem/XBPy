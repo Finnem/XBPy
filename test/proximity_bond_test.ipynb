{
 "cells": [
  {
   "cell_type": "code",
   "execution_count": 10,
   "metadata": {},
   "outputs": [],
   "source": [
    "from xbpy import rdutil\n",
    "from rdkit import Chem\n",
    "import pymolviz as pmv\n",
    "from pathlib import Path"
   ]
  },
  {
   "cell_type": "code",
   "execution_count": 15,
   "metadata": {},
   "outputs": [],
   "source": [
    "test_ligands = \"/home/highgarden/Workspace/Side_Projects/Uridylpeptides/Molecular dockings/Structures compound/ligands/*.pdb\"\n",
    "mols = rdutil.read_molecules(test_ligands, store_path=True)\n"
   ]
  },
  {
   "cell_type": "code",
   "execution_count": 16,
   "metadata": {},
   "outputs": [],
   "source": [
    "for mol in mols:\n",
    "    bonded_mol = rdutil.proximity_bond(mol, allow_aromatic=True)\n",
    "    bonded_mol = Chem.MolToPDBFile(bonded_mol, f\"{mol.GetProp('path')[:-4]}_kekulized.pdb\")"
   ]
  },
  {
   "cell_type": "code",
   "execution_count": 4,
   "metadata": {},
   "outputs": [
    {
     "data": {
      "text/plain": [
       "'[H]OC([H])([H])C1([H])OC([H])(OC2([H])OC([H])(C([H])([H])C([H])(O[H])C3([H])OC([H])(N4C(=O)N([H])C(=O)C([H])=C4[H])C([H])(O[H])C3([H])O[H])C([H])(O[H])C([H])(O[H])C2([H])N([H])C(=O)C([H])=C([H])C([H])([H])C([H])([H])C([H])([H])C([H])([H])C([H])([H])C([H])([H])C([H])([H])C([H])([H])C([H])([H])C([H])(C([H])([H])[H])C([H])([H])[H])C([H])(N([H])C(=O)C([H])([H])[H])C([H])(O[H])C1([H])O[H]'"
      ]
     },
     "execution_count": 4,
     "metadata": {},
     "output_type": "execute_result"
    }
   ],
   "source": [
    "Chem.MolToSmiles(bonded_mol)"
   ]
  },
  {
   "cell_type": "code",
   "execution_count": 5,
   "metadata": {},
   "outputs": [
    {
     "name": "stderr",
     "output_type": "stream",
     "text": [
      "WARNING:root:No name provided for Labels. Using default name: Labels_0. It is highly recommended to provide meaningful names.\n"
     ]
    }
   ],
   "source": [
    "coords = rdutil.position(bonded_mol)\n",
    "Chem.SanitizeMol(bonded_mol)\n",
    "pmv.Labels(coords, [atom.GetImplicitValence() for atom in bonded_mol.GetAtoms()]).write(\"test_labels.py\")"
   ]
  },
  {
   "cell_type": "code",
   "execution_count": null,
   "metadata": {},
   "outputs": [],
   "source": []
  }
 ],
 "metadata": {
  "kernelspec": {
   "display_name": "DD_py38",
   "language": "python",
   "name": "python3"
  },
  "language_info": {
   "codemirror_mode": {
    "name": "ipython",
    "version": 3
   },
   "file_extension": ".py",
   "mimetype": "text/x-python",
   "name": "python",
   "nbconvert_exporter": "python",
   "pygments_lexer": "ipython3",
   "version": "3.8.12"
  }
 },
 "nbformat": 4,
 "nbformat_minor": 2
}
